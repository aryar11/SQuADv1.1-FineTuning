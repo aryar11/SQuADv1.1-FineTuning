{
 "cells": [
  {
   "cell_type": "markdown",
   "id": "64ae5011",
   "metadata": {},
   "source": [
    "# Using BERT on the SQuAD v1 Dataset"
   ]
  },
  {
   "cell_type": "code",
   "execution_count": 1,
   "id": "1fec55b1-ea00-4870-bcb7-2d2bb9114bb0",
   "metadata": {
    "scrolled": true
   },
   "outputs": [
    {
     "name": "stdout",
     "output_type": "stream",
     "text": [
      "Requirement already satisfied: transformers in c:\\anaconda\\lib\\site-packages (4.49.0)\n",
      "Requirement already satisfied: datasets in c:\\anaconda\\lib\\site-packages (3.3.2)\n",
      "Requirement already satisfied: torch in c:\\anaconda\\lib\\site-packages (2.6.0+cu126)\n",
      "Requirement already satisfied: tqdm in c:\\anaconda\\lib\\site-packages (4.66.5)\n",
      "Requirement already satisfied: scikit-learn in c:\\anaconda\\lib\\site-packages (1.5.1)\n",
      "Requirement already satisfied: nltk in c:\\anaconda\\lib\\site-packages (3.9.1)\n",
      "Requirement already satisfied: evaluate in c:\\anaconda\\lib\\site-packages (0.4.3)\n",
      "Requirement already satisfied: matplotlib in c:\\anaconda\\lib\\site-packages (3.9.2)\n",
      "Requirement already satisfied: filelock in c:\\anaconda\\lib\\site-packages (from transformers) (3.18.0)\n",
      "Requirement already satisfied: huggingface-hub<1.0,>=0.26.0 in c:\\anaconda\\lib\\site-packages (from transformers) (0.29.2)\n",
      "Requirement already satisfied: numpy>=1.17 in c:\\anaconda\\lib\\site-packages (from transformers) (1.26.4)\n",
      "Requirement already satisfied: packaging>=20.0 in c:\\anaconda\\lib\\site-packages (from transformers) (24.1)\n",
      "Requirement already satisfied: pyyaml>=5.1 in c:\\anaconda\\lib\\site-packages (from transformers) (6.0.1)\n",
      "Requirement already satisfied: regex!=2019.12.17 in c:\\anaconda\\lib\\site-packages (from transformers) (2024.9.11)\n",
      "Requirement already satisfied: requests in c:\\anaconda\\lib\\site-packages (from transformers) (2.32.3)\n",
      "Requirement already satisfied: tokenizers<0.22,>=0.21 in c:\\anaconda\\lib\\site-packages (from transformers) (0.21.0)\n",
      "Requirement already satisfied: safetensors>=0.4.1 in c:\\anaconda\\lib\\site-packages (from transformers) (0.5.3)\n",
      "Requirement already satisfied: pyarrow>=15.0.0 in c:\\anaconda\\lib\\site-packages (from datasets) (16.1.0)\n",
      "Requirement already satisfied: dill<0.3.9,>=0.3.0 in c:\\anaconda\\lib\\site-packages (from datasets) (0.3.8)\n",
      "Requirement already satisfied: pandas in c:\\anaconda\\lib\\site-packages (from datasets) (2.2.2)\n",
      "Requirement already satisfied: xxhash in c:\\anaconda\\lib\\site-packages (from datasets) (3.5.0)\n",
      "Requirement already satisfied: multiprocess<0.70.17 in c:\\anaconda\\lib\\site-packages (from datasets) (0.70.16)\n",
      "Requirement already satisfied: fsspec<=2024.12.0,>=2023.1.0 in c:\\anaconda\\lib\\site-packages (from fsspec[http]<=2024.12.0,>=2023.1.0->datasets) (2024.12.0)\n",
      "Requirement already satisfied: aiohttp in c:\\anaconda\\lib\\site-packages (from datasets) (3.10.5)\n",
      "Requirement already satisfied: typing-extensions>=4.10.0 in c:\\anaconda\\lib\\site-packages (from torch) (4.13.2)\n",
      "Requirement already satisfied: networkx in c:\\anaconda\\lib\\site-packages (from torch) (3.4.2)\n",
      "Requirement already satisfied: jinja2 in c:\\anaconda\\lib\\site-packages (from torch) (3.1.6)\n",
      "Requirement already satisfied: setuptools in c:\\anaconda\\lib\\site-packages (from torch) (78.1.0)\n",
      "Requirement already satisfied: sympy==1.13.1 in c:\\anaconda\\lib\\site-packages (from torch) (1.13.1)\n",
      "Requirement already satisfied: mpmath<1.4,>=1.1.0 in c:\\anaconda\\lib\\site-packages (from sympy==1.13.1->torch) (1.3.0)\n",
      "Requirement already satisfied: colorama in c:\\anaconda\\lib\\site-packages (from tqdm) (0.4.6)\n",
      "Requirement already satisfied: scipy>=1.6.0 in c:\\anaconda\\lib\\site-packages (from scikit-learn) (1.13.1)\n",
      "Requirement already satisfied: joblib>=1.2.0 in c:\\anaconda\\lib\\site-packages (from scikit-learn) (1.4.2)\n",
      "Requirement already satisfied: threadpoolctl>=3.1.0 in c:\\anaconda\\lib\\site-packages (from scikit-learn) (3.5.0)\n",
      "Requirement already satisfied: click in c:\\anaconda\\lib\\site-packages (from nltk) (8.1.7)\n",
      "Requirement already satisfied: contourpy>=1.0.1 in c:\\anaconda\\lib\\site-packages (from matplotlib) (1.2.0)\n",
      "Requirement already satisfied: cycler>=0.10 in c:\\anaconda\\lib\\site-packages (from matplotlib) (0.11.0)\n",
      "Requirement already satisfied: fonttools>=4.22.0 in c:\\anaconda\\lib\\site-packages (from matplotlib) (4.51.0)\n",
      "Requirement already satisfied: kiwisolver>=1.3.1 in c:\\anaconda\\lib\\site-packages (from matplotlib) (1.4.4)\n",
      "Requirement already satisfied: pillow>=8 in c:\\anaconda\\lib\\site-packages (from matplotlib) (10.4.0)\n",
      "Requirement already satisfied: pyparsing>=2.3.1 in c:\\anaconda\\lib\\site-packages (from matplotlib) (3.1.2)\n",
      "Requirement already satisfied: python-dateutil>=2.7 in c:\\anaconda\\lib\\site-packages (from matplotlib) (2.9.0.post0)\n",
      "Requirement already satisfied: aiohappyeyeballs>=2.3.0 in c:\\anaconda\\lib\\site-packages (from aiohttp->datasets) (2.4.0)\n",
      "Requirement already satisfied: aiosignal>=1.1.2 in c:\\anaconda\\lib\\site-packages (from aiohttp->datasets) (1.2.0)\n",
      "Requirement already satisfied: attrs>=17.3.0 in c:\\anaconda\\lib\\site-packages (from aiohttp->datasets) (23.1.0)\n",
      "Requirement already satisfied: frozenlist>=1.1.1 in c:\\anaconda\\lib\\site-packages (from aiohttp->datasets) (1.4.0)\n",
      "Requirement already satisfied: multidict<7.0,>=4.5 in c:\\anaconda\\lib\\site-packages (from aiohttp->datasets) (6.0.4)\n",
      "Requirement already satisfied: yarl<2.0,>=1.0 in c:\\anaconda\\lib\\site-packages (from aiohttp->datasets) (1.11.0)\n",
      "Requirement already satisfied: six>=1.5 in c:\\anaconda\\lib\\site-packages (from python-dateutil>=2.7->matplotlib) (1.16.0)\n",
      "Requirement already satisfied: charset-normalizer<4,>=2 in c:\\anaconda\\lib\\site-packages (from requests->transformers) (3.3.2)\n",
      "Requirement already satisfied: idna<4,>=2.5 in c:\\anaconda\\lib\\site-packages (from requests->transformers) (3.7)\n",
      "Requirement already satisfied: urllib3<3,>=1.21.1 in c:\\anaconda\\lib\\site-packages (from requests->transformers) (2.2.3)\n",
      "Requirement already satisfied: certifi>=2017.4.17 in c:\\anaconda\\lib\\site-packages (from requests->transformers) (2025.1.31)\n",
      "Requirement already satisfied: MarkupSafe>=2.0 in c:\\anaconda\\lib\\site-packages (from jinja2->torch) (3.0.2)\n",
      "Requirement already satisfied: pytz>=2020.1 in c:\\anaconda\\lib\\site-packages (from pandas->datasets) (2024.1)\n",
      "Requirement already satisfied: tzdata>=2022.7 in c:\\anaconda\\lib\\site-packages (from pandas->datasets) (2023.3)\n",
      "Note: you may need to restart the kernel to use updated packages.\n"
     ]
    }
   ],
   "source": [
    "pip install transformers datasets torch tqdm scikit-learn nltk evaluate tqdm matplotlib"
   ]
  },
  {
   "cell_type": "markdown",
   "id": "67d24fbc",
   "metadata": {},
   "source": [
    "### Load Dataset"
   ]
  },
  {
   "cell_type": "code",
   "execution_count": 2,
   "id": "84f9ee53",
   "metadata": {},
   "outputs": [
    {
     "name": "stdout",
     "output_type": "stream",
     "text": [
      "One data sample:\n",
      "{\n",
      "  \"id\": \"56bfe7eaa10cfb1400551389\",\n",
      "  \"title\": \"Beyoncé\",\n",
      "  \"context\": \"After Hurricane Katrina in 2005, Beyoncé and Rowland founded the Survivor Foundation to provide transitional housing for victims in the Houston area, to which Beyoncé contributed an initial $250,000. The foundation has since expanded to work with other charities in the city, and also provided relief following Hurricane Ike three years later.\",\n",
      "  \"question\": \"How much did Beyonce initially contribute to the foundation?\",\n",
      "  \"answers\": {\n",
      "    \"text\": [\n",
      "      \"$250,000\"\n",
      "    ],\n",
      "    \"answer_start\": [\n",
      "      190\n",
      "    ]\n",
      "  }\n",
      "}\n"
     ]
    },
    {
     "ename": "LookupError",
     "evalue": "\n**********************************************************************\n  Resource \u001b[93mpunkt_tab\u001b[0m not found.\n  Please use the NLTK Downloader to obtain the resource:\n\n  \u001b[31m>>> import nltk\n  >>> nltk.download('punkt_tab')\n  \u001b[0m\n  For more information see: https://www.nltk.org/data.html\n\n  Attempted to load \u001b[93mtokenizers/punkt_tab/english/\u001b[0m\n\n  Searched in:\n    - 'C:\\\\Users\\\\Arya Rahmanian/nltk_data'\n    - 'C:\\\\anaconda\\\\nltk_data'\n    - 'C:\\\\anaconda\\\\share\\\\nltk_data'\n    - 'C:\\\\anaconda\\\\lib\\\\nltk_data'\n    - 'C:\\\\Users\\\\Arya Rahmanian\\\\AppData\\\\Roaming\\\\nltk_data'\n    - 'C:\\\\nltk_data'\n    - 'D:\\\\nltk_data'\n    - 'E:\\\\nltk_data'\n**********************************************************************\n",
     "output_type": "error",
     "traceback": [
      "\u001b[1;31m---------------------------------------------------------------------------\u001b[0m",
      "\u001b[1;31mLookupError\u001b[0m                               Traceback (most recent call last)",
      "Cell \u001b[1;32mIn[2], line 3\u001b[0m\n\u001b[0;32m      1\u001b[0m \u001b[38;5;28;01mimport\u001b[39;00m \u001b[38;5;21;01msplitData\u001b[39;00m\n\u001b[1;32m----> 3\u001b[0m train_ds, val_ds, test_ds \u001b[38;5;241m=\u001b[39m splitData\u001b[38;5;241m.\u001b[39mload_and_split_data()\n",
      "File \u001b[1;32m~\\Downloads\\splitData.py:25\u001b[0m, in \u001b[0;36mload_and_split_data\u001b[1;34m()\u001b[0m\n\u001b[0;32m     21\u001b[0m train_ds, val_ds \u001b[38;5;241m=\u001b[39m train_test_split(train_data\u001b[38;5;241m.\u001b[39mto_list(), test_size\u001b[38;5;241m=\u001b[39m\u001b[38;5;241m0.1\u001b[39m, random_state\u001b[38;5;241m=\u001b[39m\u001b[38;5;241m42\u001b[39m)\n\u001b[0;32m     24\u001b[0m \u001b[38;5;66;03m# Check context length - now not truncate\u001b[39;00m\n\u001b[1;32m---> 25\u001b[0m context_lengths \u001b[38;5;241m=\u001b[39m [\u001b[38;5;28mlen\u001b[39m(word_tokenize(example[\u001b[38;5;124m\"\u001b[39m\u001b[38;5;124mcontext\u001b[39m\u001b[38;5;124m\"\u001b[39m])) \u001b[38;5;28;01mfor\u001b[39;00m example \u001b[38;5;129;01min\u001b[39;00m squad[\u001b[38;5;124m'\u001b[39m\u001b[38;5;124mtrain\u001b[39m\u001b[38;5;124m'\u001b[39m]]\n\u001b[0;32m     26\u001b[0m context_lengths_series \u001b[38;5;241m=\u001b[39m pd\u001b[38;5;241m.\u001b[39mSeries(context_lengths)\n\u001b[0;32m     27\u001b[0m \u001b[38;5;28mprint\u001b[39m(\u001b[38;5;124m\"\u001b[39m\u001b[38;5;130;01m\\n\u001b[39;00m\u001b[38;5;124mStats for training data:\u001b[39m\u001b[38;5;124m\"\u001b[39m)\n",
      "File \u001b[1;32mC:\\anaconda\\Lib\\site-packages\\nltk\\tokenize\\__init__.py:142\u001b[0m, in \u001b[0;36mword_tokenize\u001b[1;34m(text, language, preserve_line)\u001b[0m\n\u001b[0;32m    127\u001b[0m \u001b[38;5;28;01mdef\u001b[39;00m \u001b[38;5;21mword_tokenize\u001b[39m(text, language\u001b[38;5;241m=\u001b[39m\u001b[38;5;124m\"\u001b[39m\u001b[38;5;124menglish\u001b[39m\u001b[38;5;124m\"\u001b[39m, preserve_line\u001b[38;5;241m=\u001b[39m\u001b[38;5;28;01mFalse\u001b[39;00m):\n\u001b[0;32m    128\u001b[0m \u001b[38;5;250m    \u001b[39m\u001b[38;5;124;03m\"\"\"\u001b[39;00m\n\u001b[0;32m    129\u001b[0m \u001b[38;5;124;03m    Return a tokenized copy of *text*,\u001b[39;00m\n\u001b[0;32m    130\u001b[0m \u001b[38;5;124;03m    using NLTK's recommended word tokenizer\u001b[39;00m\n\u001b[1;32m   (...)\u001b[0m\n\u001b[0;32m    140\u001b[0m \u001b[38;5;124;03m    :type preserve_line: bool\u001b[39;00m\n\u001b[0;32m    141\u001b[0m \u001b[38;5;124;03m    \"\"\"\u001b[39;00m\n\u001b[1;32m--> 142\u001b[0m     sentences \u001b[38;5;241m=\u001b[39m [text] \u001b[38;5;28;01mif\u001b[39;00m preserve_line \u001b[38;5;28;01melse\u001b[39;00m sent_tokenize(text, language)\n\u001b[0;32m    143\u001b[0m     \u001b[38;5;28;01mreturn\u001b[39;00m [\n\u001b[0;32m    144\u001b[0m         token \u001b[38;5;28;01mfor\u001b[39;00m sent \u001b[38;5;129;01min\u001b[39;00m sentences \u001b[38;5;28;01mfor\u001b[39;00m token \u001b[38;5;129;01min\u001b[39;00m _treebank_word_tokenizer\u001b[38;5;241m.\u001b[39mtokenize(sent)\n\u001b[0;32m    145\u001b[0m     ]\n",
      "File \u001b[1;32mC:\\anaconda\\Lib\\site-packages\\nltk\\tokenize\\__init__.py:119\u001b[0m, in \u001b[0;36msent_tokenize\u001b[1;34m(text, language)\u001b[0m\n\u001b[0;32m    109\u001b[0m \u001b[38;5;28;01mdef\u001b[39;00m \u001b[38;5;21msent_tokenize\u001b[39m(text, language\u001b[38;5;241m=\u001b[39m\u001b[38;5;124m\"\u001b[39m\u001b[38;5;124menglish\u001b[39m\u001b[38;5;124m\"\u001b[39m):\n\u001b[0;32m    110\u001b[0m \u001b[38;5;250m    \u001b[39m\u001b[38;5;124;03m\"\"\"\u001b[39;00m\n\u001b[0;32m    111\u001b[0m \u001b[38;5;124;03m    Return a sentence-tokenized copy of *text*,\u001b[39;00m\n\u001b[0;32m    112\u001b[0m \u001b[38;5;124;03m    using NLTK's recommended sentence tokenizer\u001b[39;00m\n\u001b[1;32m   (...)\u001b[0m\n\u001b[0;32m    117\u001b[0m \u001b[38;5;124;03m    :param language: the model name in the Punkt corpus\u001b[39;00m\n\u001b[0;32m    118\u001b[0m \u001b[38;5;124;03m    \"\"\"\u001b[39;00m\n\u001b[1;32m--> 119\u001b[0m     tokenizer \u001b[38;5;241m=\u001b[39m _get_punkt_tokenizer(language)\n\u001b[0;32m    120\u001b[0m     \u001b[38;5;28;01mreturn\u001b[39;00m tokenizer\u001b[38;5;241m.\u001b[39mtokenize(text)\n",
      "File \u001b[1;32mC:\\anaconda\\Lib\\site-packages\\nltk\\tokenize\\__init__.py:105\u001b[0m, in \u001b[0;36m_get_punkt_tokenizer\u001b[1;34m(language)\u001b[0m\n\u001b[0;32m     96\u001b[0m \u001b[38;5;129m@functools\u001b[39m\u001b[38;5;241m.\u001b[39mlru_cache\n\u001b[0;32m     97\u001b[0m \u001b[38;5;28;01mdef\u001b[39;00m \u001b[38;5;21m_get_punkt_tokenizer\u001b[39m(language\u001b[38;5;241m=\u001b[39m\u001b[38;5;124m\"\u001b[39m\u001b[38;5;124menglish\u001b[39m\u001b[38;5;124m\"\u001b[39m):\n\u001b[0;32m     98\u001b[0m \u001b[38;5;250m    \u001b[39m\u001b[38;5;124;03m\"\"\"\u001b[39;00m\n\u001b[0;32m     99\u001b[0m \u001b[38;5;124;03m    A constructor for the PunktTokenizer that utilizes\u001b[39;00m\n\u001b[0;32m    100\u001b[0m \u001b[38;5;124;03m    a lru cache for performance.\u001b[39;00m\n\u001b[1;32m   (...)\u001b[0m\n\u001b[0;32m    103\u001b[0m \u001b[38;5;124;03m    :type language: str\u001b[39;00m\n\u001b[0;32m    104\u001b[0m \u001b[38;5;124;03m    \"\"\"\u001b[39;00m\n\u001b[1;32m--> 105\u001b[0m     \u001b[38;5;28;01mreturn\u001b[39;00m PunktTokenizer(language)\n",
      "File \u001b[1;32mC:\\anaconda\\Lib\\site-packages\\nltk\\tokenize\\punkt.py:1744\u001b[0m, in \u001b[0;36mPunktTokenizer.__init__\u001b[1;34m(self, lang)\u001b[0m\n\u001b[0;32m   1742\u001b[0m \u001b[38;5;28;01mdef\u001b[39;00m \u001b[38;5;21m__init__\u001b[39m(\u001b[38;5;28mself\u001b[39m, lang\u001b[38;5;241m=\u001b[39m\u001b[38;5;124m\"\u001b[39m\u001b[38;5;124menglish\u001b[39m\u001b[38;5;124m\"\u001b[39m):\n\u001b[0;32m   1743\u001b[0m     PunktSentenceTokenizer\u001b[38;5;241m.\u001b[39m\u001b[38;5;21m__init__\u001b[39m(\u001b[38;5;28mself\u001b[39m)\n\u001b[1;32m-> 1744\u001b[0m     \u001b[38;5;28mself\u001b[39m\u001b[38;5;241m.\u001b[39mload_lang(lang)\n",
      "File \u001b[1;32mC:\\anaconda\\Lib\\site-packages\\nltk\\tokenize\\punkt.py:1749\u001b[0m, in \u001b[0;36mPunktTokenizer.load_lang\u001b[1;34m(self, lang)\u001b[0m\n\u001b[0;32m   1746\u001b[0m \u001b[38;5;28;01mdef\u001b[39;00m \u001b[38;5;21mload_lang\u001b[39m(\u001b[38;5;28mself\u001b[39m, lang\u001b[38;5;241m=\u001b[39m\u001b[38;5;124m\"\u001b[39m\u001b[38;5;124menglish\u001b[39m\u001b[38;5;124m\"\u001b[39m):\n\u001b[0;32m   1747\u001b[0m     \u001b[38;5;28;01mfrom\u001b[39;00m \u001b[38;5;21;01mnltk\u001b[39;00m\u001b[38;5;21;01m.\u001b[39;00m\u001b[38;5;21;01mdata\u001b[39;00m \u001b[38;5;28;01mimport\u001b[39;00m find\n\u001b[1;32m-> 1749\u001b[0m     lang_dir \u001b[38;5;241m=\u001b[39m find(\u001b[38;5;124mf\u001b[39m\u001b[38;5;124m\"\u001b[39m\u001b[38;5;124mtokenizers/punkt_tab/\u001b[39m\u001b[38;5;132;01m{\u001b[39;00mlang\u001b[38;5;132;01m}\u001b[39;00m\u001b[38;5;124m/\u001b[39m\u001b[38;5;124m\"\u001b[39m)\n\u001b[0;32m   1750\u001b[0m     \u001b[38;5;28mself\u001b[39m\u001b[38;5;241m.\u001b[39m_params \u001b[38;5;241m=\u001b[39m load_punkt_params(lang_dir)\n\u001b[0;32m   1751\u001b[0m     \u001b[38;5;28mself\u001b[39m\u001b[38;5;241m.\u001b[39m_lang \u001b[38;5;241m=\u001b[39m lang\n",
      "File \u001b[1;32mC:\\anaconda\\Lib\\site-packages\\nltk\\data.py:579\u001b[0m, in \u001b[0;36mfind\u001b[1;34m(resource_name, paths)\u001b[0m\n\u001b[0;32m    577\u001b[0m sep \u001b[38;5;241m=\u001b[39m \u001b[38;5;124m\"\u001b[39m\u001b[38;5;124m*\u001b[39m\u001b[38;5;124m\"\u001b[39m \u001b[38;5;241m*\u001b[39m \u001b[38;5;241m70\u001b[39m\n\u001b[0;32m    578\u001b[0m resource_not_found \u001b[38;5;241m=\u001b[39m \u001b[38;5;124mf\u001b[39m\u001b[38;5;124m\"\u001b[39m\u001b[38;5;130;01m\\n\u001b[39;00m\u001b[38;5;132;01m{\u001b[39;00msep\u001b[38;5;132;01m}\u001b[39;00m\u001b[38;5;130;01m\\n\u001b[39;00m\u001b[38;5;132;01m{\u001b[39;00mmsg\u001b[38;5;132;01m}\u001b[39;00m\u001b[38;5;130;01m\\n\u001b[39;00m\u001b[38;5;132;01m{\u001b[39;00msep\u001b[38;5;132;01m}\u001b[39;00m\u001b[38;5;130;01m\\n\u001b[39;00m\u001b[38;5;124m\"\u001b[39m\n\u001b[1;32m--> 579\u001b[0m \u001b[38;5;28;01mraise\u001b[39;00m \u001b[38;5;167;01mLookupError\u001b[39;00m(resource_not_found)\n",
      "\u001b[1;31mLookupError\u001b[0m: \n**********************************************************************\n  Resource \u001b[93mpunkt_tab\u001b[0m not found.\n  Please use the NLTK Downloader to obtain the resource:\n\n  \u001b[31m>>> import nltk\n  >>> nltk.download('punkt_tab')\n  \u001b[0m\n  For more information see: https://www.nltk.org/data.html\n\n  Attempted to load \u001b[93mtokenizers/punkt_tab/english/\u001b[0m\n\n  Searched in:\n    - 'C:\\\\Users\\\\Arya Rahmanian/nltk_data'\n    - 'C:\\\\anaconda\\\\nltk_data'\n    - 'C:\\\\anaconda\\\\share\\\\nltk_data'\n    - 'C:\\\\anaconda\\\\lib\\\\nltk_data'\n    - 'C:\\\\Users\\\\Arya Rahmanian\\\\AppData\\\\Roaming\\\\nltk_data'\n    - 'C:\\\\nltk_data'\n    - 'D:\\\\nltk_data'\n    - 'E:\\\\nltk_data'\n**********************************************************************\n"
     ]
    }
   ],
   "source": [
    "import splitData\n",
    "\n",
    "train_ds, val_ds, test_ds = splitData.load_and_split_data()"
   ]
  },
  {
   "cell_type": "markdown",
   "id": "8e73e37d",
   "metadata": {},
   "source": [
    "## Load BERT"
   ]
  },
  {
   "cell_type": "code",
   "execution_count": 2,
   "id": "f456635b",
   "metadata": {},
   "outputs": [
    {
     "name": "stdout",
     "output_type": "stream",
     "text": [
      "Using device: cuda\n"
     ]
    }
   ],
   "source": [
    "import torch\n",
    "from torch.utils.data import DataLoader\n",
    "from transformers import (\n",
    "    AutoTokenizer,\n",
    "    AutoModelForQuestionAnswering,\n",
    "    get_linear_schedule_with_warmup,\n",
    "    default_data_collator,\n",
    "    BertConfig\n",
    ")\n",
    "import evaluate\n",
    "from tqdm.auto import tqdm\n",
    "from torch.optim import AdamW\n",
    "import time\n",
    "import numpy as np\n",
    "from postprocessQA import postprocess_qa_predictions\n",
    "device = torch.device(\"cuda\" if torch.cuda.is_available() else \"cpu\")\n",
    "print(f\"Using device: {device}\")"
   ]
  },
  {
   "cell_type": "code",
   "execution_count": 3,
   "id": "32949a03",
   "metadata": {},
   "outputs": [
    {
     "data": {
      "application/vnd.jupyter.widget-view+json": {
       "model_id": "b17e25fc993e4c3bbcf56543cc6ca04f",
       "version_major": 2,
       "version_minor": 0
      },
      "text/plain": [
       "config.json:   0%|          | 0.00/483 [00:00<?, ?B/s]"
      ]
     },
     "metadata": {},
     "output_type": "display_data"
    },
    {
     "name": "stderr",
     "output_type": "stream",
     "text": [
      "c:\\anaconda\\Lib\\site-packages\\huggingface_hub\\file_download.py:142: UserWarning: `huggingface_hub` cache-system uses symlinks by default to efficiently store duplicated files but your machine does not support them in C:\\Users\\Arya Rahmanian\\.cache\\huggingface\\hub\\models--distilbert--distilbert-base-uncased. Caching files will still work but in a degraded version that might require more space on your disk. This warning can be disabled by setting the `HF_HUB_DISABLE_SYMLINKS_WARNING` environment variable. For more details, see https://huggingface.co/docs/huggingface_hub/how-to-cache#limitations.\n",
      "To support symlinks on Windows, you either need to activate Developer Mode or to run Python as an administrator. In order to activate developer mode, see this article: https://docs.microsoft.com/en-us/windows/apps/get-started/enable-your-device-for-development\n",
      "  warnings.warn(message)\n",
      "You are using a model of type distilbert to instantiate a model of type bert. This is not supported for all configurations of models and can yield errors.\n"
     ]
    },
    {
     "data": {
      "application/vnd.jupyter.widget-view+json": {
       "model_id": "b830738131f64bb4a40b78a60241b94b",
       "version_major": 2,
       "version_minor": 0
      },
      "text/plain": [
       "tokenizer_config.json:   0%|          | 0.00/48.0 [00:00<?, ?B/s]"
      ]
     },
     "metadata": {},
     "output_type": "display_data"
    },
    {
     "data": {
      "application/vnd.jupyter.widget-view+json": {
       "model_id": "f5743952a7594341a34966cbd7c1acae",
       "version_major": 2,
       "version_minor": 0
      },
      "text/plain": [
       "vocab.txt:   0%|          | 0.00/232k [00:00<?, ?B/s]"
      ]
     },
     "metadata": {},
     "output_type": "display_data"
    },
    {
     "data": {
      "application/vnd.jupyter.widget-view+json": {
       "model_id": "28674e343a2e407fbc2d1fb5fefc521e",
       "version_major": 2,
       "version_minor": 0
      },
      "text/plain": [
       "tokenizer.json:   0%|          | 0.00/466k [00:00<?, ?B/s]"
      ]
     },
     "metadata": {},
     "output_type": "display_data"
    },
    {
     "data": {
      "application/vnd.jupyter.widget-view+json": {
       "model_id": "de9d7506cec94f669a5ebc08530570fe",
       "version_major": 2,
       "version_minor": 0
      },
      "text/plain": [
       "model.safetensors:   0%|          | 0.00/268M [00:00<?, ?B/s]"
      ]
     },
     "metadata": {},
     "output_type": "display_data"
    },
    {
     "name": "stderr",
     "output_type": "stream",
     "text": [
      "Some weights of DistilBertForQuestionAnswering were not initialized from the model checkpoint at distilbert/distilbert-base-uncased and are newly initialized: ['qa_outputs.bias', 'qa_outputs.weight']\n",
      "You should probably TRAIN this model on a down-stream task to be able to use it for predictions and inference.\n"
     ]
    },
    {
     "data": {
      "text/plain": [
       "DistilBertForQuestionAnswering(\n",
       "  (distilbert): DistilBertModel(\n",
       "    (embeddings): Embeddings(\n",
       "      (word_embeddings): Embedding(30522, 768, padding_idx=0)\n",
       "      (position_embeddings): Embedding(512, 768)\n",
       "      (LayerNorm): LayerNorm((768,), eps=1e-12, elementwise_affine=True)\n",
       "      (dropout): Dropout(p=0.1, inplace=False)\n",
       "    )\n",
       "    (transformer): Transformer(\n",
       "      (layer): ModuleList(\n",
       "        (0-5): 6 x TransformerBlock(\n",
       "          (attention): DistilBertSdpaAttention(\n",
       "            (dropout): Dropout(p=0.1, inplace=False)\n",
       "            (q_lin): Linear(in_features=768, out_features=768, bias=True)\n",
       "            (k_lin): Linear(in_features=768, out_features=768, bias=True)\n",
       "            (v_lin): Linear(in_features=768, out_features=768, bias=True)\n",
       "            (out_lin): Linear(in_features=768, out_features=768, bias=True)\n",
       "          )\n",
       "          (sa_layer_norm): LayerNorm((768,), eps=1e-12, elementwise_affine=True)\n",
       "          (ffn): FFN(\n",
       "            (dropout): Dropout(p=0.1, inplace=False)\n",
       "            (lin1): Linear(in_features=768, out_features=3072, bias=True)\n",
       "            (lin2): Linear(in_features=3072, out_features=768, bias=True)\n",
       "            (activation): GELUActivation()\n",
       "          )\n",
       "          (output_layer_norm): LayerNorm((768,), eps=1e-12, elementwise_affine=True)\n",
       "        )\n",
       "      )\n",
       "    )\n",
       "  )\n",
       "  (qa_outputs): Linear(in_features=768, out_features=2, bias=True)\n",
       "  (dropout): Dropout(p=0.1, inplace=False)\n",
       ")"
      ]
     },
     "execution_count": 3,
     "metadata": {},
     "output_type": "execute_result"
    }
   ],
   "source": [
    "model_name = \"distilbert/distilbert-base-uncased\"\n",
    "config = BertConfig.from_pretrained(\n",
    "    model_name,\n",
    "    hidden_dropout_prob=0.2,\n",
    "    attention_probs_dropout_prob=0.2\n",
    ")\n",
    "tokenizer = AutoTokenizer.from_pretrained(model_name)\n",
    "model = AutoModelForQuestionAnswering.from_pretrained(model_name)\n",
    "model.to(device)"
   ]
  },
  {
   "cell_type": "code",
   "execution_count": 4,
   "id": "aaaec0b7",
   "metadata": {},
   "outputs": [],
   "source": [
    "batch_size = 8\n",
    "eval_batch= 16\n",
    "epochs = 10\n",
    "learning_rate = 3e-5"
   ]
  },
  {
   "cell_type": "markdown",
   "id": "4e4a8b5c",
   "metadata": {},
   "source": [
    "### Pre-Process Data"
   ]
  },
  {
   "cell_type": "code",
   "execution_count": 5,
   "id": "0e768e50-9ee0-41ae-87d2-ecaa743a88ca",
   "metadata": {},
   "outputs": [],
   "source": [
    "max_len = 512    \n",
    "doc_stride = 128    \n",
    "pad_on_right = tokenizer.padding_side == \"right\""
   ]
  },
  {
   "cell_type": "code",
   "execution_count": 6,
   "id": "572c3f61",
   "metadata": {},
   "outputs": [],
   "source": [
    "def train_preprocess_fn(examples):\n",
    "    tokenized = tokenizer(\n",
    "        examples[\"question\"],\n",
    "        examples[\"context\"],\n",
    "        max_length=max_len,\n",
    "        truncation=\"only_second\" if pad_on_right else \"only_first\",\n",
    "        stride=doc_stride,\n",
    "        return_overflowing_tokens=True,\n",
    "        return_offsets_mapping=True,\n",
    "        padding=\"max_length\",\n",
    "    )\n",
    "    sample_map = tokenized.pop(\"overflow_to_sample_mapping\")\n",
    "    offset_map = tokenized.pop(\"offset_mapping\")\n",
    "\n",
    "    starts, ends = [], []\n",
    "    for i, offsets in enumerate(offset_map):\n",
    "        seq_ids = tokenized.sequence_ids(i)\n",
    "        example_i  = sample_map[i]\n",
    "        answer = examples[\"answers\"][example_i]\n",
    "\n",
    "        if not answer[\"answer_start\"]:\n",
    "            starts.append(0); ends.append(0)\n",
    "            continue\n",
    "\n",
    "        start_char= answer[\"answer_start\"][0]\n",
    "        end_char = start_char +len(answer[\"text\"][0])\n",
    "        ctx_idxs = [idx for idx, sid in enumerate(seq_ids) if sid == (1 if pad_on_right else 0)]\n",
    "        first_ctx, last_ctx = ctx_idxs[0], ctx_idxs[-1]\n",
    "\n",
    "        if not (offsets[first_ctx][0] <= start_char and offsets[last_ctx][1] >= end_char):\n",
    "            starts.append(0); ends.append(0)\n",
    "            continue\n",
    "\n",
    "        valid_starts = [idx for idx in ctx_idxs if offsets[idx][0] <= start_char]\n",
    "        valid_ends = [idx for idx in ctx_idxs if offsets[idx][1] >= end_char]\n",
    "        starts.append(max(valid_starts) if valid_starts else first_ctx)\n",
    "        ends.append(min(valid_ends) if valid_ends else last_ctx)\n",
    "\n",
    "    tokenized[\"start_positions\"] = starts\n",
    "    tokenized[\"end_positions\"]   = ends\n",
    "    return tokenized"
   ]
  },
  {
   "cell_type": "code",
   "execution_count": 5,
   "id": "51182e34",
   "metadata": {},
   "outputs": [
    {
     "ename": "NameError",
     "evalue": "name 'train_ds' is not defined",
     "output_type": "error",
     "traceback": [
      "\u001b[1;31m---------------------------------------------------------------------------\u001b[0m",
      "\u001b[1;31mNameError\u001b[0m                                 Traceback (most recent call last)",
      "Cell \u001b[1;32mIn[5], line 1\u001b[0m\n\u001b[1;32m----> 1\u001b[0m train_features \u001b[38;5;241m=\u001b[39m train_ds\u001b[38;5;241m.\u001b[39mmap(train_preprocess_fn,batched\u001b[38;5;241m=\u001b[39m\u001b[38;5;28;01mTrue\u001b[39;00m,remove_columns\u001b[38;5;241m=\u001b[39mtrain_ds\u001b[38;5;241m.\u001b[39mcolumn_names)\n\u001b[0;32m      2\u001b[0m train_loader \u001b[38;5;241m=\u001b[39m DataLoader(train_features, batch_size\u001b[38;5;241m=\u001b[39mbatch_size,shuffle\u001b[38;5;241m=\u001b[39m\u001b[38;5;28;01mTrue\u001b[39;00m, collate_fn\u001b[38;5;241m=\u001b[39mdefault_data_collator)\n",
      "\u001b[1;31mNameError\u001b[0m: name 'train_ds' is not defined"
     ]
    }
   ],
   "source": [
    "train_features = train_ds.map(train_preprocess_fn,batched=True,remove_columns=train_ds.column_names)\n",
    "train_loader = DataLoader(train_features, batch_size=batch_size,shuffle=True, collate_fn=default_data_collator)"
   ]
  },
  {
   "cell_type": "code",
   "execution_count": 7,
   "id": "62de6d61-ab95-4bcb-b37e-c90a942a51a3",
   "metadata": {},
   "outputs": [],
   "source": [
    "def eval_preprocess_fn(examples):\n",
    "    tokenized = tokenizer(\n",
    "        examples[\"question\"],\n",
    "        examples[\"context\"],\n",
    "        max_length=max_len,\n",
    "        truncation=\"only_second\" if pad_on_right else \"only_first\",\n",
    "        stride=doc_stride,\n",
    "        return_overflowing_tokens=True,\n",
    "        return_offsets_mapping=True,\n",
    "        padding=\"max_length\",\n",
    "    )\n",
    "    sample_map = tokenized[\"overflow_to_sample_mapping\"]\n",
    "    tokenized[\"example_id\"] = [examples[\"id\"][i] for i in sample_map]\n",
    "    return tokenized"
   ]
  },
  {
   "cell_type": "code",
   "execution_count": 8,
   "id": "25f0540e-6ef2-4373-8d62-414ea64509bf",
   "metadata": {},
   "outputs": [
    {
     "ename": "NameError",
     "evalue": "name 'val_ds' is not defined",
     "output_type": "error",
     "traceback": [
      "\u001b[1;31m---------------------------------------------------------------------------\u001b[0m",
      "\u001b[1;31mNameError\u001b[0m                                 Traceback (most recent call last)",
      "Cell \u001b[1;32mIn[8], line 1\u001b[0m\n\u001b[1;32m----> 1\u001b[0m val_features \u001b[38;5;241m=\u001b[39m val_ds\u001b[38;5;241m.\u001b[39mmap(eval_preprocess_fn, batched\u001b[38;5;241m=\u001b[39m\u001b[38;5;28;01mTrue\u001b[39;00m,remove_columns\u001b[38;5;241m=\u001b[39mval_ds\u001b[38;5;241m.\u001b[39mcolumn_names)\n\u001b[0;32m      2\u001b[0m test_features \u001b[38;5;241m=\u001b[39m test_ds\u001b[38;5;241m.\u001b[39mmap(eval_preprocess_fn, batched\u001b[38;5;241m=\u001b[39m\u001b[38;5;28;01mTrue\u001b[39;00m, remove_columns\u001b[38;5;241m=\u001b[39mtest_ds\u001b[38;5;241m.\u001b[39mcolumn_names)\n\u001b[0;32m      4\u001b[0m val_loader \u001b[38;5;241m=\u001b[39m DataLoader(val_features, batch_size\u001b[38;5;241m=\u001b[39meval_batch,shuffle\u001b[38;5;241m=\u001b[39m\u001b[38;5;28;01mFalse\u001b[39;00m,collate_fn\u001b[38;5;241m=\u001b[39mdefault_data_collator)\n",
      "\u001b[1;31mNameError\u001b[0m: name 'val_ds' is not defined"
     ]
    }
   ],
   "source": [
    "val_features = val_ds.map(eval_preprocess_fn, batched=True,remove_columns=val_ds.column_names)\n",
    "test_features = test_ds.map(eval_preprocess_fn, batched=True, remove_columns=test_ds.column_names)\n",
    "\n",
    "val_loader = DataLoader(val_features, batch_size=eval_batch,shuffle=False,collate_fn=default_data_collator)\n",
    "test_loader = DataLoader(test_features,batch_size=eval_batch,shuffle=False,collate_fn=default_data_collator)"
   ]
  },
  {
   "cell_type": "code",
   "execution_count": null,
   "id": "1414e86b-4d70-467b-9c66-692a7513fb73",
   "metadata": {},
   "outputs": [],
   "source": [
    "val_labelled = val_ds.map(\n",
    "    train_preprocess_fn,\n",
    "    batched=True,\n",
    "    remove_columns=val_ds.column_names\n",
    ")\n",
    "val_labelled_loader = DataLoader(\n",
    "    val_labelled,batch_size=eval_batch, shuffle=False,\n",
    "    collate_fn=default_data_collator\n",
    ")"
   ]
  },
  {
   "cell_type": "markdown",
   "id": "b59f0643",
   "metadata": {},
   "source": [
    "## HyperParams"
   ]
  },
  {
   "cell_type": "code",
   "execution_count": 11,
   "id": "8fdf9032",
   "metadata": {},
   "outputs": [],
   "source": [
    "total_steps = len(train_loader) * epochs\n",
    "optim = AdamW(\n",
    "    model.parameters(),\n",
    "    lr=1e-5,                \n",
    "    weight_decay=0.01       \n",
    ")\n",
    "sched = get_linear_schedule_with_warmup(\n",
    "    optim,\n",
    "    num_warmup_steps=int(0.1 * total_steps),\n",
    "    num_training_steps=total_steps\n",
    ")\n",
    "gradient_accumulation_steps = 2 "
   ]
  },
  {
   "cell_type": "code",
   "execution_count": 14,
   "id": "c47d5285",
   "metadata": {},
   "outputs": [],
   "source": [
    "history = {\n",
    "    \"train_loss\": [], \n",
    "    \"val_loss\": [],\n",
    "    \"val_em\": [],\n",
    "    \"val_f1\": []\n",
    "}\n",
    "best_val_loss = float(\"inf\")\n",
    "patience = 2\n",
    "stale = 0\n",
    "metric_squad = evaluate.load(\"squad\") "
   ]
  },
  {
   "cell_type": "code",
   "execution_count": 15,
   "id": "57b4216c",
   "metadata": {},
   "outputs": [
    {
     "data": {
      "application/vnd.jupyter.widget-view+json": {
       "model_id": "ff4d2dded7794b09ab6068d9b915b67b",
       "version_major": 2,
       "version_minor": 0
      },
      "text/plain": [
       "[1] train:   0%|          | 0/9868 [00:00<?, ?it/s]"
      ]
     },
     "metadata": {},
     "output_type": "display_data"
    },
    {
     "data": {
      "application/vnd.jupyter.widget-view+json": {
       "model_id": "17d03e176efa494c9e74ede02b7fd6de",
       "version_major": 2,
       "version_minor": 0
      },
      "text/plain": [
       "[1] eval:   0%|          | 0/549 [00:00<?, ?it/s]"
      ]
     },
     "metadata": {},
     "output_type": "display_data"
    },
    {
     "data": {
      "application/vnd.jupyter.widget-view+json": {
       "model_id": "62e1b9d8e5eb4e8c9bb5c4232bfac495",
       "version_major": 2,
       "version_minor": 0
      },
      "text/plain": [
       "  0%|          | 0/8760 [00:00<?, ?it/s]"
      ]
     },
     "metadata": {},
     "output_type": "display_data"
    },
    {
     "name": "stdout",
     "output_type": "stream",
     "text": [
      "Epoch  1 • train_loss=3.2781 • val_loss=1.5531 (EM=51.50, F1=66.40) • time=554.5s\n"
     ]
    },
    {
     "data": {
      "application/vnd.jupyter.widget-view+json": {
       "model_id": "d6fe8231fb704036b3120bb2e4ea0680",
       "version_major": 2,
       "version_minor": 0
      },
      "text/plain": [
       "[2] train:   0%|          | 0/9868 [00:00<?, ?it/s]"
      ]
     },
     "metadata": {},
     "output_type": "display_data"
    },
    {
     "data": {
      "application/vnd.jupyter.widget-view+json": {
       "model_id": "3080eefddb874c08a38144cc7e701af9",
       "version_major": 2,
       "version_minor": 0
      },
      "text/plain": [
       "[2] eval:   0%|          | 0/549 [00:00<?, ?it/s]"
      ]
     },
     "metadata": {},
     "output_type": "display_data"
    },
    {
     "data": {
      "application/vnd.jupyter.widget-view+json": {
       "model_id": "5b0cc0c80b8b4f23b3e8fac8015a03c9",
       "version_major": 2,
       "version_minor": 0
      },
      "text/plain": [
       "  0%|          | 0/8760 [00:00<?, ?it/s]"
      ]
     },
     "metadata": {},
     "output_type": "display_data"
    },
    {
     "name": "stdout",
     "output_type": "stream",
     "text": [
      "Epoch  2 • train_loss=1.4380 • val_loss=1.1867 (EM=60.67, F1=75.24) • time=554.9s\n"
     ]
    },
    {
     "data": {
      "application/vnd.jupyter.widget-view+json": {
       "model_id": "ed5e89d025e246d3b7901c52f466d6de",
       "version_major": 2,
       "version_minor": 0
      },
      "text/plain": [
       "[3] train:   0%|          | 0/9868 [00:00<?, ?it/s]"
      ]
     },
     "metadata": {},
     "output_type": "display_data"
    },
    {
     "data": {
      "application/vnd.jupyter.widget-view+json": {
       "model_id": "4a4167694d5948c094f0692dc6b8f7a9",
       "version_major": 2,
       "version_minor": 0
      },
      "text/plain": [
       "[3] eval:   0%|          | 0/549 [00:00<?, ?it/s]"
      ]
     },
     "metadata": {},
     "output_type": "display_data"
    },
    {
     "data": {
      "application/vnd.jupyter.widget-view+json": {
       "model_id": "334f359956e747fcaf12ca304e5bd785",
       "version_major": 2,
       "version_minor": 0
      },
      "text/plain": [
       "  0%|          | 0/8760 [00:00<?, ?it/s]"
      ]
     },
     "metadata": {},
     "output_type": "display_data"
    },
    {
     "name": "stdout",
     "output_type": "stream",
     "text": [
      "Epoch  3 • train_loss=1.1121 • val_loss=1.1071 (EM=63.37, F1=77.55) • time=555.8s\n"
     ]
    },
    {
     "data": {
      "application/vnd.jupyter.widget-view+json": {
       "model_id": "d88dd065c1af48cfaa47d8a0313eb698",
       "version_major": 2,
       "version_minor": 0
      },
      "text/plain": [
       "[4] train:   0%|          | 0/9868 [00:00<?, ?it/s]"
      ]
     },
     "metadata": {},
     "output_type": "display_data"
    },
    {
     "data": {
      "application/vnd.jupyter.widget-view+json": {
       "model_id": "05808c9dfefb47789acc83dc83569d61",
       "version_major": 2,
       "version_minor": 0
      },
      "text/plain": [
       "[4] eval:   0%|          | 0/549 [00:00<?, ?it/s]"
      ]
     },
     "metadata": {},
     "output_type": "display_data"
    },
    {
     "data": {
      "application/vnd.jupyter.widget-view+json": {
       "model_id": "7fffa65c4201432ab73e35a3d61fdc7d",
       "version_major": 2,
       "version_minor": 0
      },
      "text/plain": [
       "  0%|          | 0/8760 [00:00<?, ?it/s]"
      ]
     },
     "metadata": {},
     "output_type": "display_data"
    },
    {
     "name": "stdout",
     "output_type": "stream",
     "text": [
      "Epoch  4 • train_loss=0.9054 • val_loss=1.0729 (EM=64.12, F1=78.09) • time=553.9s\n"
     ]
    },
    {
     "data": {
      "application/vnd.jupyter.widget-view+json": {
       "model_id": "3e5ab8805a424d3e99c755435d3b76ab",
       "version_major": 2,
       "version_minor": 0
      },
      "text/plain": [
       "[5] train:   0%|          | 0/9868 [00:00<?, ?it/s]"
      ]
     },
     "metadata": {},
     "output_type": "display_data"
    },
    {
     "data": {
      "application/vnd.jupyter.widget-view+json": {
       "model_id": "bb3a872b613b4f269f4449a3b6757b62",
       "version_major": 2,
       "version_minor": 0
      },
      "text/plain": [
       "[5] eval:   0%|          | 0/549 [00:00<?, ?it/s]"
      ]
     },
     "metadata": {},
     "output_type": "display_data"
    },
    {
     "data": {
      "application/vnd.jupyter.widget-view+json": {
       "model_id": "4b356b6531364256a712da275f4097d7",
       "version_major": 2,
       "version_minor": 0
      },
      "text/plain": [
       "  0%|          | 0/8760 [00:00<?, ?it/s]"
      ]
     },
     "metadata": {},
     "output_type": "display_data"
    },
    {
     "name": "stdout",
     "output_type": "stream",
     "text": [
      "Epoch  5 • train_loss=0.7501 • val_loss=1.1354 (EM=65.08, F1=78.51) • time=554.1s\n"
     ]
    },
    {
     "data": {
      "application/vnd.jupyter.widget-view+json": {
       "model_id": "788430a8ff044e8cb6e1b9abab4aef08",
       "version_major": 2,
       "version_minor": 0
      },
      "text/plain": [
       "[6] train:   0%|          | 0/9868 [00:00<?, ?it/s]"
      ]
     },
     "metadata": {},
     "output_type": "display_data"
    },
    {
     "data": {
      "application/vnd.jupyter.widget-view+json": {
       "model_id": "d19eac2e490144318d5332b25d97e492",
       "version_major": 2,
       "version_minor": 0
      },
      "text/plain": [
       "[6] eval:   0%|          | 0/549 [00:00<?, ?it/s]"
      ]
     },
     "metadata": {},
     "output_type": "display_data"
    },
    {
     "data": {
      "application/vnd.jupyter.widget-view+json": {
       "model_id": "160edbc236004cddb93d1764c3d2ccfd",
       "version_major": 2,
       "version_minor": 0
      },
      "text/plain": [
       "  0%|          | 0/8760 [00:00<?, ?it/s]"
      ]
     },
     "metadata": {},
     "output_type": "display_data"
    },
    {
     "name": "stdout",
     "output_type": "stream",
     "text": [
      "Stopping early at epoch 6 (no improvement in 2 epochs).\n",
      "\n",
      "Total training time: 2773.1s\n"
     ]
    }
   ],
   "source": [
    "total_time = 0.0\n",
    "for epoch in range(1, epochs + 1):\n",
    "    epoch_start = time.time()\n",
    "    \n",
    "    # ─── TRAIN \n",
    "    \n",
    "    model.train()\n",
    "    total_train_loss = 0.0\n",
    "\n",
    "    for step, batch in enumerate(tqdm(train_loader, desc=f\"[{epoch}] train\")):\n",
    "        batch = {k: v.to(device) for k, v in batch.items()}\n",
    "        outputs = model(**batch)\n",
    "        loss = outputs.loss / gradient_accumulation_steps\n",
    "        loss.backward()\n",
    "\n",
    "        if (step + 1) % gradient_accumulation_steps == 0 or (step + 1) == len(train_loader):\n",
    "            torch.nn.utils.clip_grad_norm_(model.parameters(), max_norm=1.0)\n",
    "            optim.step(); sched.step(); optim.zero_grad()\n",
    "\n",
    "        total_train_loss += loss.item() * gradient_accumulation_steps\n",
    "\n",
    "    avg_train = total_train_loss / len(train_loader)\n",
    "    history[\"train_loss\"].append(avg_train)\n",
    "    \n",
    "    # ─── VALIDATION \n",
    "    model.eval()\n",
    "    metric_squad     = evaluate.load(\"squad\")\n",
    "    val_losses       = []\n",
    "    all_start_logits = []\n",
    "    all_end_logits   = []\n",
    "\n",
    "    for loss_batch, feat_batch in tqdm(zip(val_labelled_loader, val_loader),\n",
    "                                       total=len(val_loader),\n",
    "                                       desc=f\"[{epoch}] eval\"):\n",
    "        loss_inputs = {k: v.to(device) for k, v in loss_batch.items()}\n",
    "        with torch.no_grad():\n",
    "            out = model(**loss_inputs)\n",
    "        val_losses.append(out.loss.item())\n",
    "\n",
    "\n",
    "        all_start_logits.append(out.start_logits.cpu().numpy())\n",
    "        all_end_logits.append(out.end_logits.cpu().numpy())\n",
    "\n",
    "    avg_val = sum(val_losses) / len(val_losses)\n",
    "    history[\"val_loss\"].append(avg_val)\n",
    "\n",
    "    flat_start = np.concatenate(all_start_logits, axis=0)\n",
    "    flat_end   = np.concatenate(all_end_logits,   axis=0)\n",
    "    \n",
    "    final_preds = postprocess_qa_predictions(\n",
    "        examples=val_ds,         \n",
    "        features=val_features,   \n",
    "        predictions=(flat_start, flat_end),\n",
    "        version_2_with_negative=False,\n",
    "        n_best_size=20,\n",
    "        max_answer_length=30,\n",
    "    )\n",
    "\n",
    "    # ─── COMPUTE EM/F1 \n",
    "    metric_squad.add_batch(\n",
    "        predictions=[{\"id\": eid, \"prediction_text\": text}\n",
    "                     for eid, text in final_preds.items()],\n",
    "        references=[{\"id\": ex[\"id\"], \"answers\": ex[\"answers\"]}\n",
    "                    for ex in val_ds]\n",
    "    )\n",
    "    res_val = metric_squad.compute()\n",
    "    history[\"val_em\"].append(res_val[\"exact_match\"])\n",
    "    history[\"val_f1\"].append(res_val[\"f1\"])\n",
    "\n",
    "    # ─── EARLY STOP / SAVE BEST \n",
    "    if avg_val < best_val_loss:\n",
    "        best_val_loss = avg_val; stale = 0\n",
    "        model.save_pretrained(\"best-distilBERT-squad\")\n",
    "        tokenizer.save_pretrained(\"best-distilBERT-squad\")\n",
    "    else:\n",
    "        stale += 1\n",
    "        if stale >= patience:\n",
    "            print(f\"Stopping early at epoch {epoch} (no improvement in {patience} epochs).\")\n",
    "            break\n",
    "\n",
    "    epoch_time = time.time() - epoch_start\n",
    "    total_time += epoch_time\n",
    "    print(\n",
    "        f\"Epoch {epoch:2d} • \"\n",
    "        f\"train_loss={avg_train:.4f} • \"\n",
    "        f\"val_loss={avg_val:.4f} \"\n",
    "        f\"(EM={res_val['exact_match']:.2f}, F1={res_val['f1']:.2f}) • \"\n",
    "        f\"time={epoch_time:.1f}s\"\n",
    "    )\n",
    "\n",
    "print(f\"\\nTotal training time: {total_time:.1f}s\")"
   ]
  },
  {
   "cell_type": "code",
   "execution_count": 16,
   "id": "4690c287-067e-4ac1-84ac-433e872d6693",
   "metadata": {},
   "outputs": [
    {
     "data": {
      "image/png": "[encoded data removed]",
      "text/plain": [
       "<Figure size 640x480 with 1 Axes>"
      ]
     },
     "metadata": {},
     "output_type": "display_data"
    },
    {
     "data": {
      "image/png": "[encoded data removed]",
      "text/plain": [
       "<Figure size 640x480 with 1 Axes>"
      ]
     },
     "metadata": {},
     "output_type": "display_data"
    },
    {
     "data": {
      "image/png": "[encoded data removed]",
      "text/plain": [
       "<Figure size 640x480 with 1 Axes>"
      ]
     },
     "metadata": {},
     "output_type": "display_data"
    }
   ],
   "source": [
    "import matplotlib.pyplot as plt\n",
    "\n",
    "epochs_range = range(1, len(history[\"train_loss\"]) + 1)\n",
    "\n",
    "plt.figure()\n",
    "plt.plot(epochs_range, history[\"train_loss\"], label=\"Train Loss\")\n",
    "plt.plot(epochs_range, history[\"val_loss\"], label=\"Val Loss\")\n",
    "plt.xlabel(\"Epoch\")\n",
    "plt.ylabel(\"Loss\")\n",
    "plt.title(\"Loss over Epochs\")\n",
    "plt.legend()\n",
    "plt.savefig(\"loss_plot.png\")\n",
    "plt.show()\n",
    "\n",
    "plt.figure()\n",
    "plt.plot(epochs_range, history[\"val_em\"], label=\"Val Exact Match\")\n",
    "plt.xlabel(\"Epoch\")\n",
    "plt.ylabel(\"Exact Match (%)\")\n",
    "plt.title(\"Exact Match over Epochs\")\n",
    "plt.legend()\n",
    "plt.savefig(\"em_plot.png\")\n",
    "plt.show()\n",
    "\n",
    "plt.figure()\n",
    "plt.plot(epochs_range, history[\"val_f1\"], label=\"Val F1 Score\")\n",
    "plt.xlabel(\"Epoch\")\n",
    "plt.ylabel(\"F1 Score (%)\")\n",
    "plt.title(\"F1 Score over Epochs\")\n",
    "plt.legend()\n",
    "plt.savefig(\"f1_plot.png\")\n",
    "plt.show()"
   ]
  },
  {
   "cell_type": "markdown",
   "id": "e59e5990-a692-4e9b-b991-969c0640f457",
   "metadata": {},
   "source": [
    "## Test"
   ]
  },
  {
   "cell_type": "markdown",
   "id": "c945a15e-5d6f-4361-80c1-92aa56bb9ce6",
   "metadata": {},
   "source": [
    "### Load Saved Model"
   ]
  },
  {
   "cell_type": "code",
   "execution_count": 17,
   "id": "0eead424-5320-42c0-abf2-98c9746729a9",
   "metadata": {},
   "outputs": [],
   "source": [
    "model = AutoModelForQuestionAnswering.from_pretrained(\"best-distilBERT-squad\").to(device)\n",
    "tokenizer = AutoTokenizer.from_pretrained(\"best-distilBERT-squad\")"
   ]
  },
  {
   "cell_type": "code",
   "execution_count": 18,
   "id": "0fc6b4eb-fbfd-4c28-9495-93d109001a57",
   "metadata": {},
   "outputs": [],
   "source": [
    "import random"
   ]
  },
  {
   "cell_type": "markdown",
   "id": "9669f45c-ca29-435b-bf2f-b3826ad02328",
   "metadata": {},
   "source": [
    "### Visualize some Q/A"
   ]
  },
  {
   "cell_type": "code",
   "execution_count": 19,
   "id": "020ca34e-4900-46d8-b3d0-0289eb73bd58",
   "metadata": {},
   "outputs": [
    {
     "name": "stdout",
     "output_type": "stream",
     "text": [
      "\n",
      "Example #6330\n",
      "Q: Which descendant of Genghis Khan sacked Baghdad?\n",
      "\n",
      "The invasions of Baghdad, Samarkand, Urgench, Kiev, Vladimir among others caused mass murders, such as when portions of southern Khuzestan were completely destroyed. His descendant Hulagu Khan destroy\n",
      "\n",
      "Predicted:\n",
      " Hulagu Khan\n",
      "Ground-truth:\n",
      " ['Hulagu Khan', 'Hulagu Khan', 'Hulagu Khan']\n",
      "\n",
      "\n",
      "Example #1752\n",
      "Q: What is the expression used to identify any given series of problems capable of being solved within time on a deterministic Turing machine?\n",
      "\n",
      "For a precise definition of what it means to solve a problem using a given amount of time and space, a computational model such as the deterministic Turing machine is used. The time required by a dete\n",
      "\n",
      "Predicted:\n",
      " DTIME(f(n))\n",
      "Ground-truth:\n",
      " ['DTIME(f(n))', 'DTIME(f(n)).', 'DTIME(f(n))']\n",
      "\n",
      "\n",
      "Example #2865\n",
      "Q: What was the number of customers that the BBC  reported had yet to receive the service due to failed deliveries?\n",
      "\n",
      "BSkyB launched its HDTV service, Sky+ HD, on 22 May 2006. Prior to its launch, BSkyB claimed that 40,000 people had registered to receive the HD service. In the week before the launch, rumours started\n",
      "\n",
      "Predicted:\n",
      " 17,000\n",
      "Ground-truth:\n",
      " ['17,000', '17,000', '17,000']\n",
      "\n",
      "\n",
      "Example #207\n",
      "Q: What injury did the Carolina Panthers lose Kelvin Benjamin to during their preseason?\n",
      "\n",
      "Despite waiving longtime running back DeAngelo Williams and losing top wide receiver Kelvin Benjamin to a torn ACL in the preseason, the Carolina Panthers had their best regular season in franchise hi\n",
      "\n",
      "Predicted:\n",
      " a torn ACL\n",
      "Ground-truth:\n",
      " ['torn ACL', 'a torn ACL', 'torn ACL']\n",
      "\n",
      "\n",
      "Example #10472\n",
      "Q: Who came up with the concept that falling objects fell at the same speed regardless of weight?\n",
      "\n",
      "What we now call gravity was not identified as a universal force until the work of Isaac Newton. Before Newton, the tendency for objects to fall towards the Earth was not understood to be related to t\n",
      "\n",
      "Predicted:\n",
      " Galileo\n",
      "Ground-truth:\n",
      " ['Galileo', 'Galileo', 'Galileo', 'Galileo']\n",
      "\n"
     ]
    }
   ],
   "source": [
    "model.eval()\n",
    "\n",
    "n_show = 5\n",
    "indices = random.sample(range(len(test_ds)), n_show)\n",
    "\n",
    "for idx in indices:\n",
    "    example = test_ds[idx]\n",
    "    question = example[\"question\"]\n",
    "    context = example[\"context\"]\n",
    "    answers = example[\"answers\"][\"text\"]  #ground-truth answers\n",
    "\n",
    "    # tokenize\n",
    "    inputs = tokenizer(\n",
    "        question,\n",
    "        context,\n",
    "        return_tensors=\"pt\",\n",
    "        max_length=512,\n",
    "        truncation=True,\n",
    "        return_offsets_mapping=True,\n",
    "    ).to(device)\n",
    "\n",
    "    with torch.no_grad():\n",
    "        outs = model(**{k: v for k, v in inputs.items() if k in (\"input_ids\",\"attention_mask\",\"token_type_ids\")})\n",
    "\n",
    "    start_logits = outs.start_logits[0].cpu()\n",
    "    end_logits= outs.end_logits[0].cpu()\n",
    "    offset_map = inputs[\"offset_mapping\"][0].cpu()\n",
    "\n",
    "    start_idx = torch.argmax(start_logits)\n",
    "    end_idx= torch.argmax(end_logits)\n",
    "\n",
    "    char_start = offset_map[start_idx][0].item()\n",
    "    char_end = offset_map[end_idx][1].item()\n",
    "\n",
    "    pred_answer = context[char_start:char_end]\n",
    "\n",
    "    print(f\"\\nExample #{idx}\")\n",
    "    print(f\"Q: {question}\")\n",
    "    print(f\"\\n{context[:200].replace(chr(10),' ')}\")  \n",
    "    print(f\"\\nPredicted:\\n {pred_answer}\")\n",
    "    print(f\"Ground-truth:\\n {answers}\\n\")"
   ]
  },
  {
   "cell_type": "markdown",
   "id": "14bb3275-cbd6-40cd-989a-c1b5cb7a29c1",
   "metadata": {},
   "source": [
    "### Custom Q/A over the Magna Carta"
   ]
  },
  {
   "cell_type": "code",
   "execution_count": 20,
   "id": "6dc77726-6ec5-44f3-b826-42cc03bb203c",
   "metadata": {},
   "outputs": [
    {
     "name": "stdout",
     "output_type": "stream",
     "text": [
      "Q: What is the importance of the Magna Carta?\n",
      "Predicted: \n",
      " a royal charter\n",
      "Q: When was the magna carta written?\n",
      "Predicted: \n",
      " 15 June 1215\n",
      "Q: Who wrote the magna carta?\n",
      "Predicted: \n",
      " Cardinal Stephen Langton\n",
      "Q: Who was the ruler of England when the magna carta was written?\n",
      "Predicted: \n",
      " King John of England\n",
      "Q: Who tried to supress the magna carta?\n",
      "Predicted: \n",
      " King John of England\n",
      "Q: Who was inspired by the Magna Carta?\n",
      "Predicted: \n",
      " \n"
     ]
    }
   ],
   "source": [
    "model.eval()\n",
    "\n",
    "questions = [\"What is the importance of the Magna Carta?\", \"When was the magna carta written?\", \n",
    "             \"Who wrote the magna carta?\", \"Who was the ruler of England when the magna carta was written?\",\n",
    "            \"Who tried to supress the magna carta?\", \"Who was inspired by the Magna Carta?\"\n",
    "            ]\n",
    "context  = \"Magna Carta Libertatum (Medieval Latin for Great Charter of Freedoms), commonly called Magna Carta or sometimes Magna Charta (Great Charter),[a] is a royal charter[4][5] of rights agreed to by King John of England at Runnymede, near Windsor, on 15 June 1215.[b] First drafted by the Archbishop of Canterbury, Cardinal Stephen Langton, to make peace between the unpopular king and a group of rebel barons who demanded that the King confirm the Charter of Liberties, it promised the protection of church rights, protection for the barons from illegal imprisonment, access to swift and impartial justice, and limitations on feudal payments to the Crown, to be implemented through a council of 25 barons. Neither side stood by their commitments, and the charter was annulled by Pope Innocent III, leading to the First Barons War. After Johns death, the regency government of his young son, Henry III, reissued the document in 1216, stripped of some of its more radical content, in an unsuccessful bid to build political support for their cause. At the end of the war in 1217, it formed part of the peace treaty agreed at Lambeth, where the document acquired the name Magna Carta, to distinguish it from the smaller Charter of the Forest, which was issued at the same time. Short of funds, Henry reissued the charter again in 1225 in exchange for a grant of new taxes. His son, Edward I, repeated the exercise in 1297, this time confirming it as part of Englands statute law. However, Magna Carta was not unique; other legal documents of its time, both in England and beyond, made broadly similar statements of rights and limitations on the powers of the Crown. The charter became part of English political life and was typically renewed by each monarch in turn, although as time went by and the fledgling Parliament of England passed new laws, it lost some of its practical significance. At the end of the 16th century, there was an upsurge in interest in Magna Carta. Lawyers and historians at the time believed that there was an ancient English constitution, going back to the days of the Anglo-Saxons, that protected individual English freedoms. They argued that the Norman invasion of 1066 had overthrown these rights and that Magna Carta had been a popular attempt to restore them, making the charter an essential foundation for the contemporary powers of Parliament and legal principles such as habeas corpus.  It influenced the early American colonists in the Thirteen Colonies and the formation of the United States Constitution, which became the supreme law of the land in the new republic of the United States. Research by Victorian historians showed that the original 1215 charter had concerned the medieval relationship between the monarch and the barons, and not ordinary subjects. Despite the changes in views of historians, the charter has remained a powerful, iconic document, even after almost all of its content was repealed from the statute books in the 19th and 20th centuries. Magna Carta still forms an important symbol of liberty today, often cited by politicians and campaigners, and is held in great respect by the British and American legal communities, Lord Denning describing it in 1956 as the greatest constitutional document of all times—the foundation of the freedom of the individual against the arbitrary authority of the despot. In the 21st century, four exemplifications of the original 1215 charter remain in existence, two at the British Library, one at Lincoln Castle and one at Salisbury Cathedral. There are also a handful of the subsequent charters in public and private ownership, including copies of the 1297 charter in both the United States and Australia. The 800th anniversary of Magna Carta in 2015 included extensive celebrations and discussions, and the four original 1215 charters were displayed together at the British Library. None of the original 1215 Magna Carta is currently in force since it has been repealed; however, four clauses of the original charter are enshrined in the 1297 reissued Magna Carta and do still remain in force in England and Wales.[c]\"\n",
    "\n",
    "for question in questions:\n",
    "    # tokenize\n",
    "    inputs = tokenizer(\n",
    "        question,\n",
    "        context,\n",
    "        return_tensors=\"pt\",\n",
    "        max_length=512,\n",
    "        truncation=True,\n",
    "        return_offsets_mapping=True,\n",
    "    ).to(device)\n",
    "    \n",
    "    with torch.no_grad():\n",
    "        outs = model(**{k: v for k, v in inputs.items() if k in (\"input_ids\",\"attention_mask\",\"token_type_ids\")})\n",
    "    \n",
    "    start_logits = outs.start_logits[0].cpu()\n",
    "    end_logits   = outs.end_logits[0].cpu()\n",
    "    offset_map   = inputs[\"offset_mapping\"][0].cpu()\n",
    "    \n",
    "    start_idx = torch.argmax(start_logits)\n",
    "    end_idx   = torch.argmax(end_logits)\n",
    "    \n",
    "    char_start = offset_map[start_idx][0].item()\n",
    "    char_end   = offset_map[end_idx][1].item()\n",
    "    \n",
    "    pred_answer = context[char_start:char_end]\n",
    "    \n",
    "    print(f\"Q: {question}\")\n",
    "    #print(f\"Context: \\n {context[:200].replace(chr(10),' ')}...\")  \n",
    "    print(f\"Predicted: \\n {pred_answer}\")"
   ]
  },
  {
   "cell_type": "code",
   "execution_count": 21,
   "id": "1d8ae3e3-1c66-4050-99ac-da7455d908fe",
   "metadata": {},
   "outputs": [],
   "source": [
    "from transformers import PreTrainedTokenizerFast\n",
    "\n",
    "def eval_preprocess_fn(examples):\n",
    "    tokenized = tokenizer(\n",
    "        examples[\"question\"],\n",
    "        examples[\"context\"],\n",
    "        max_length=max_len,\n",
    "        truncation=\"only_second\",\n",
    "        stride=doc_stride,\n",
    "        return_overflowing_tokens=True,\n",
    "        return_offsets_mapping=True,\n",
    "        padding=\"max_length\",\n",
    "    )\n",
    "\n",
    "    sample_map = tokenized.pop(\"overflow_to_sample_mapping\")\n",
    "    offset_map = tokenized.pop(\"offset_mapping\")\n",
    "    tokenized[\"example_id\"]  = []\n",
    "    tokenized[\"offset_mapping\"] = []\n",
    "\n",
    "    for i, sample_idx in enumerate(sample_map):\n",
    "        tokenized[\"example_id\"].append(examples[\"id\"][sample_idx])\n",
    "        seq_ids = tokenized.sequence_ids(i)\n",
    "        offsets = [\n",
    "            off if seq_ids[k] == 1 else None\n",
    "            for k, off in enumerate(offset_map[i])\n",
    "        ]\n",
    "        tokenized[\"offset_mapping\"].append(offsets)\n",
    "    return tokenized"
   ]
  },
  {
   "cell_type": "code",
   "execution_count": 22,
   "id": "3903b188-6c6b-42f3-a859-86f496567d21",
   "metadata": {},
   "outputs": [
    {
     "name": "stderr",
     "output_type": "stream",
     "text": [
      "Device set to use cuda:0\n",
      "You seem to be using the pipelines sequentially on GPU. In order to maximize efficiency please use a dataset\n"
     ]
    },
    {
     "name": "stdout",
     "output_type": "stream",
     "text": [
      "Exact Match: 75.73%\n",
      "F1 : 84.40%\n"
     ]
    }
   ],
   "source": [
    "from transformers import pipeline, AutoModelForQuestionAnswering, AutoTokenizer\n",
    "import evaluate\n",
    "\n",
    "qa = pipeline(\"question-answering\", model=model, tokenizer=tokenizer, device=0)\n",
    "\n",
    "metric = evaluate.load(\"squad\")  \n",
    "\n",
    "predictions, references = [], []\n",
    "for ex in test_ds:\n",
    "    out = qa(question=ex[\"question\"], context=ex[\"context\"])\n",
    "    predictions.append({\"id\": ex[\"id\"], \"prediction_text\": out[\"answer\"]})\n",
    "    references.append({\"id\": ex[\"id\"], \"answers\": ex[\"answers\"]})\n",
    "\n",
    "results = metric.compute(predictions=predictions, references=references)\n",
    "print(f\"Exact Match: {results['exact_match']:.2f}%\")\n",
    "print(f\"F1 : {results['f1']:.2f}%\")"
   ]
  },
  {
   "cell_type": "code",
   "execution_count": null,
   "id": "a2080936-40f5-4488-bc3f-43665e43598d",
   "metadata": {},
   "outputs": [],
   "source": []
  }
 ],
 "metadata": {
  "kernelspec": {
   "display_name": "Python 3 (ipykernel)",
   "language": "python",
   "name": "python3"
  },
  "language_info": {
   "codemirror_mode": {
    "name": "ipython",
    "version": 3
   },
   "file_extension": ".py",
   "mimetype": "text/x-python",
   "name": "python",
   "nbconvert_exporter": "python",
   "pygments_lexer": "ipython3",
   "version": "3.12.7"
  }
 },
 "nbformat": 4,
 "nbformat_minor": 5
}
