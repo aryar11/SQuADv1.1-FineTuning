{
 "cells": [
  {
   "cell_type": "code",
   "execution_count": 1,
   "id": "6a473243",
   "metadata": {},
   "outputs": [],
   "source": [
    "# !pip install spacy\n",
    "# ! pip install evaluate"
   ]
  },
  {
   "cell_type": "code",
   "execution_count": 1,
   "id": "ec861085",
   "metadata": {},
   "outputs": [
    {
     "name": "stderr",
     "output_type": "stream",
     "text": [
      "C:\\Users\\toanc\\AppData\\Local\\Packages\\PythonSoftwareFoundation.Python.3.11_qbz5n2kfra8p0\\LocalCache\\local-packages\\Python311\\site-packages\\tqdm\\auto.py:21: TqdmWarning: IProgress not found. Please update jupyter and ipywidgets. See https://ipywidgets.readthedocs.io/en/stable/user_install.html\n",
      "  from .autonotebook import tqdm as notebook_tqdm\n",
      "[nltk_data] Downloading package punkt to\n",
      "[nltk_data]     C:\\Users\\toanc\\AppData\\Roaming\\nltk_data...\n",
      "[nltk_data]   Package punkt is already up-to-date!\n",
      "[nltk_data] Downloading package punkt_tab to\n",
      "[nltk_data]     C:\\Users\\toanc\\AppData\\Roaming\\nltk_data...\n",
      "[nltk_data]   Package punkt_tab is already up-to-date!\n"
     ]
    }
   ],
   "source": [
    "import os\n",
    "import time\n",
    "import json\n",
    "import numpy as np\n",
    "import pandas as pd\n",
    "import matplotlib.pyplot as plt\n",
    "from datasets import load_dataset\n",
    "\n",
    "import spacy\n",
    "import torch\n",
    "import torch.nn as nn\n",
    "from torch.nn.utils.rnn import pad_sequence\n",
    "from torch.utils.data import DataLoader, Dataset\n",
    "from sklearn.model_selection import train_test_split\n",
    "\n",
    "import nltk\n",
    "nltk.download('punkt')\n",
    "nltk.download('punkt_tab')\n",
    "from nltk.tokenize import word_tokenize\n",
    "\n",
    "import optuna\n",
    "from tqdm import tqdm\n",
    "\n",
    "import evaluate # type: ignore\n",
    "squad_metric = evaluate.load(\"squad\")\n"
   ]
  },
  {
   "cell_type": "code",
   "execution_count": 2,
   "id": "43d65630",
   "metadata": {},
   "outputs": [
    {
     "name": "stdout",
     "output_type": "stream",
     "text": [
      "True\n"
     ]
    }
   ],
   "source": [
    "device = torch.device('cuda' if torch.cuda.is_available() else 'cpu')\n",
    "print(torch.cuda.is_available())"
   ]
  },
  {
   "cell_type": "code",
   "execution_count": 3,
   "id": "8ebe5feb",
   "metadata": {},
   "outputs": [],
   "source": [
    "# !python -m spacy download en_core_web_sm"
   ]
  },
  {
   "cell_type": "code",
   "execution_count": 4,
   "id": "300da434",
   "metadata": {},
   "outputs": [],
   "source": [
    "nlp = spacy.load(\"en_core_web_sm\")"
   ]
  },
  {
   "cell_type": "code",
   "execution_count": 5,
   "id": "5e0d7201",
   "metadata": {},
   "outputs": [],
   "source": [
    "def load_and_split_data():\n",
    "    squad = load_dataset(\"squad\")\n",
    "\n",
    "    # print(\"One data sample:\")\n",
    "    # import json\n",
    "    # example = squad['train'][1000]\n",
    "    # print(json.dumps(example, indent=2, ensure_ascii=False))\n",
    "\n",
    "    # Load train/val dataset\n",
    "    # train_data = squad['train'].select(range(100))\n",
    "    # test_ds = squad['validation'].select(range(100))  # test set\n",
    "\n",
    "    train_data = squad['train']\n",
    "    test_ds = squad['validation']   # test set\n",
    "\n",
    "    # Split training data into train and val\n",
    "    train_ds, val_ds = train_test_split(train_data.to_list(), test_size=0.1, random_state=42)\n",
    "\n",
    "    return train_ds, val_ds, test_ds"
   ]
  },
  {
   "cell_type": "code",
   "execution_count": 6,
   "id": "bb9c4083",
   "metadata": {},
   "outputs": [],
   "source": [
    "train_ds, val_ds, test_ds = load_and_split_data()"
   ]
  },
  {
   "cell_type": "code",
   "execution_count": 7,
   "id": "cbe49013",
   "metadata": {},
   "outputs": [],
   "source": [
    "# context_lengths = [len(word_tokenize(example[\"context\"])) for example in train_ds]\n",
    "# context_lengths_series = pd.Series(context_lengths)\n",
    "# print(\"\\nContext Length stats - training data:\")\n",
    "# print(context_lengths_series.describe(percentiles=[.5, .9, .95, .99]))"
   ]
  },
  {
   "cell_type": "code",
   "execution_count": 8,
   "id": "ee413d64",
   "metadata": {},
   "outputs": [],
   "source": [
    "GLOVE_PATH = \"glove.6B.300d.txt\"\n",
    "EMBEDDING_DIM = 300"
   ]
  },
  {
   "cell_type": "code",
   "execution_count": 9,
   "id": "c6ad0bfd",
   "metadata": {},
   "outputs": [],
   "source": [
    "def load_glove_embeddings(glove_path=GLOVE_PATH, embedding_dim=EMBEDDING_DIM):\n",
    "    embeddings_index = {}\n",
    "    with open(glove_path, 'r', encoding='utf8') as f:\n",
    "        for line in f:\n",
    "            values = line.split()\n",
    "            word = values[0]\n",
    "            vector = np.asarray(values[1:], dtype='float32')\n",
    "            embeddings_index[word] = vector\n",
    "    return embeddings_index"
   ]
  },
  {
   "cell_type": "code",
   "execution_count": 10,
   "id": "1e87f7e0",
   "metadata": {},
   "outputs": [],
   "source": [
    "\n",
    "def build_vocab_and_matrix(tokenized_texts, glove_embeddings, embedding_dim=EMBEDDING_DIM):\n",
    "    vocab = {'<pad>': 0, '<unk>': 1}\n",
    "    vectors = [np.zeros(embedding_dim), np.random.normal(scale=0.6, size=(embedding_dim,))]\n",
    "\n",
    "    idx = 2\n",
    "    for tokens in tokenized_texts:\n",
    "        for token in tokens:\n",
    "            if token not in vocab and token in glove_embeddings:\n",
    "                vocab[token] = idx\n",
    "                vectors.append(glove_embeddings[token])\n",
    "                idx += 1\n",
    "    embedding_matrix = np.array(vectors)\n",
    "    return vocab, embedding_matrix"
   ]
  },
  {
   "cell_type": "code",
   "execution_count": 11,
   "id": "ef7cb118",
   "metadata": {},
   "outputs": [],
   "source": [
    "def qa_collate_fn(batch):\n",
    "    context_ids = [item['context_ids'] for item in batch]\n",
    "    question_ids = [item['question_ids'] for item in batch]\n",
    "    start_positions = torch.tensor([item['start'] for item in batch], dtype=torch.long)\n",
    "    end_positions = torch.tensor([item['end'] for item in batch], dtype=torch.long)\n",
    "\n",
    "    # Pad context and question sequences to the longest in batch\n",
    "    context_ids_padded = pad_sequence(context_ids, batch_first=True, padding_value=0)\n",
    "    question_ids_padded = pad_sequence(question_ids, batch_first=True, padding_value=0)\n",
    "\n",
    "    return {\n",
    "        'context_ids': context_ids_padded,\n",
    "        'question_ids': question_ids_padded,\n",
    "        'start': start_positions,\n",
    "        'end': end_positions\n",
    "    }"
   ]
  },
  {
   "cell_type": "code",
   "execution_count": 12,
   "id": "7834438a",
   "metadata": {},
   "outputs": [],
   "source": [
    "def preprocess_squad(dataset_split, vocab, max_context_len=300, max_question_len=30):\n",
    "    contexts, questions, start_positions, end_positions, raw_examples = [], [], [], [], []\n",
    "    skipped = 0\n",
    "    for example in dataset_split:\n",
    "        context_text = example['context']\n",
    "        question_text = example['question']\n",
    "        answer_text = example['answers']['text'][0]\n",
    "        answer_start = example['answers']['answer_start'][0]\n",
    "\n",
    "        # Tokenize\n",
    "        context_tokens = word_tokenize(context_text.lower())\n",
    "        question_tokens = word_tokenize(question_text.lower())\n",
    "\n",
    "        # Map token spans to character spans\n",
    "        char_to_token = []\n",
    "        char_idx = 0\n",
    "        for token in context_tokens:\n",
    "            while char_idx < len(context_text) and context_text[char_idx].isspace():\n",
    "                char_idx += 1\n",
    "            start = char_idx\n",
    "            end = start + len(token)\n",
    "            char_to_token.append((start, end))\n",
    "            char_idx = end\n",
    "\n",
    "        # Find token-level start and end indices of answer\n",
    "        answer_end = answer_start + len(answer_text)\n",
    "        start_idx, end_idx = None, None\n",
    "        for i, (s, e) in enumerate(char_to_token):\n",
    "            if start_idx is None and s <= answer_start < e:\n",
    "                start_idx = i\n",
    "            if s < answer_end <= e:\n",
    "                end_idx = i\n",
    "                break\n",
    "\n",
    "        # Skip example if answer span is not found or gets truncated\n",
    "        if start_idx is None or end_idx is None or end_idx >= max_context_len:\n",
    "            skipped += 1\n",
    "            continue\n",
    "\n",
    "        # Truncate and convert to indices\n",
    "        context_tokens = context_tokens[:max_context_len]\n",
    "        question_tokens = question_tokens[:max_question_len]\n",
    "        context_ids = [vocab.get(tok, vocab['<unk>']) for tok in context_tokens]\n",
    "        question_ids = [vocab.get(tok, vocab['<unk>']) for tok in question_tokens]\n",
    "\n",
    "        # Append valid sample\n",
    "        contexts.append(context_ids)\n",
    "        questions.append(question_ids)\n",
    "        start_positions.append(start_idx)\n",
    "        end_positions.append(end_idx)\n",
    "        raw_examples.append(example)\n",
    "    \n",
    "    print(f\"Skipped {skipped} out of {len(dataset_split)} examples\")\n",
    "\n",
    "    return contexts, questions, start_positions, end_positions, raw_examples\n"
   ]
  },
  {
   "cell_type": "code",
   "execution_count": 13,
   "id": "2128b78e",
   "metadata": {},
   "outputs": [],
   "source": [
    "class SquadDataset(Dataset):\n",
    "    def __init__(self, contexts, questions, starts, ends, pad_idx=0):\n",
    "        self.contexts = contexts\n",
    "        self.questions = questions\n",
    "        self.starts = starts\n",
    "        self.ends = ends\n",
    "        self.pad_idx = pad_idx\n",
    "\n",
    "    def __len__(self):\n",
    "        return len(self.contexts)\n",
    "\n",
    "    def __getitem__(self, idx):\n",
    "        return {\n",
    "            'context_ids': torch.tensor(self.contexts[idx], dtype=torch.long),\n",
    "            'question_ids': torch.tensor(self.questions[idx], dtype=torch.long),\n",
    "            'start': torch.tensor(self.starts[idx], dtype=torch.long),\n",
    "            'end': torch.tensor(self.ends[idx], dtype=torch.long)\n",
    "        }"
   ]
  },
  {
   "cell_type": "code",
   "execution_count": 14,
   "id": "5c59cf56",
   "metadata": {},
   "outputs": [],
   "source": [
    "def load_and_process_data():\n",
    "    # Tokenize for building vocab (from train only)\n",
    "    tokenized_train_texts = [\n",
    "        word_tokenize(x['context'].lower()) + word_tokenize(x['question'].lower())\n",
    "        for x in train_ds\n",
    "    ]\n",
    "    glove = load_glove_embeddings(GLOVE_PATH)\n",
    "    vocab, embedding_matrix = build_vocab_and_matrix(tokenized_train_texts, glove)\n",
    "    \n",
    "    with open('vocab.json', 'w') as f:\n",
    "        json.dump(vocab, f)\n",
    "\n",
    "    # Preprocess train/val/test split   s\n",
    "    train_ctx, train_qs, train_start, train_end, train_raw = preprocess_squad(train_ds, vocab)\n",
    "    val_ctx, val_qs, val_start, val_end, val_raw = preprocess_squad(val_ds, vocab)\n",
    "    test_ctx, test_qs, test_start, test_end, test_raw = preprocess_squad(test_ds, vocab)\n",
    "\n",
    "    print(f\"Train data: context={len(train_ctx)}, question={len(train_qs)}, spans={len(train_start)}\")\n",
    "    print(f\"Val data:   context={len(val_ctx)}, question={len(val_qs)}, spans={len(val_start)}\")\n",
    "    print(f\"Test data:  context={len(test_ctx)}, question={len(test_qs)}, spans={len(test_start)}\")\n",
    "    print(f\"Embedding_matrix shape: {embedding_matrix.shape}\")\n",
    "\n",
    "    # print(\"\\nOne preprocessed sample:\")\n",
    "    # print(\"Context token IDs:\", train_ctx[1000])\n",
    "    # print(\"Question token IDs:\", train_qs[1000])\n",
    "    # print(\"Start token index:\", train_start[1000])\n",
    "    # print(\"End token index:\", train_end[1000])\n",
    "    # print(\"Answer span tokens:\", train_ctx[1000][train_start[1000]:train_end[1000]+1])\n",
    "\n",
    "    # Create datasets\n",
    "    train_dataset = SquadDataset(train_ctx, train_qs, train_start, train_end)\n",
    "    val_dataset = SquadDataset(val_ctx, val_qs, val_start, val_end)\n",
    "    test_dataset = SquadDataset(test_ctx, test_qs, test_start, test_end)\n",
    "\n",
    "    return train_dataset, val_dataset, test_dataset, embedding_matrix, train_raw, val_raw, test_raw\n"
   ]
  },
  {
   "cell_type": "code",
   "execution_count": 15,
   "id": "c3c486c9",
   "metadata": {},
   "outputs": [
    {
     "name": "stdout",
     "output_type": "stream",
     "text": [
      "Skipped 120 out of 78839 examples\n",
      "Skipped 14 out of 8760 examples\n",
      "Skipped 40 out of 10570 examples\n",
      "Train data: context=78719, question=78719, spans=78719\n",
      "Val data:   context=8746, question=8746, spans=8746\n",
      "Test data:  context=10530, question=10530, spans=10530\n",
      "Embedding_matrix shape: (73152, 300)\n"
     ]
    }
   ],
   "source": [
    "train_dataset, val_dataset, test_dataset, embedding_matrix, train_raw, val_raw, test_raw = load_and_process_data()"
   ]
  },
  {
   "cell_type": "code",
   "execution_count": 16,
   "id": "54483ed6",
   "metadata": {},
   "outputs": [],
   "source": [
    "class BiLSTM_QA(nn.Module):\n",
    "    def __init__(self, embedding_matrix, hidden_size=128, dropout=0.3, use_attention=False):\n",
    "        super(BiLSTM_QA, self).__init__()\n",
    "        self.use_attention = use_attention\n",
    "        self.embedding = nn.Embedding.from_pretrained(torch.tensor(embedding_matrix, dtype=torch.float))\n",
    "\n",
    "        # output: [B, seq_len, 2*hidden_size]\n",
    "        self.context_lstm = nn.LSTM(embedding_matrix.shape[1], hidden_size, bidirectional=True, batch_first=True)\n",
    "        self.question_lstm = nn.LSTM(embedding_matrix.shape[1], hidden_size, bidirectional=True, batch_first=True)\n",
    "        \n",
    "        self.dropout = nn.Dropout(dropout)\n",
    "        self.attention_output_size = hidden_size * 8 if use_attention else hidden_size * 4\n",
    "        self.modeling_lstm_1 = nn.LSTM(self.attention_output_size, hidden_size, bidirectional=True, batch_first=True)\n",
    "        self.modeling_lstm_2 = nn.LSTM(hidden_size * 2, hidden_size, bidirectional=True, batch_first=True)\n",
    "        self.layer_norm = nn.LayerNorm(hidden_size * 2)\n",
    "\n",
    "        # In BiDAF attention, compute a similarity score S[i][j] between each context and question word, based on concatenation\n",
    "        if use_attention:\n",
    "            self.similarity_linear = nn.Linear(hidden_size * 6, 1)\n",
    "\n",
    "        self.start_fc = nn.Linear(hidden_size * 2, 1)  # [context; question]\n",
    "        self.end_fc = nn.Linear(hidden_size * 2, 1)\n",
    "    \n",
    "    def bidaf_attention(self, context_out, question_out):\n",
    "        \"\"\"\n",
    "        BiDAF-style attention:\n",
    "        context_out: [B, C_len, 2H]\n",
    "        question_out: [B, Q_len, 2H]\n",
    "        Returns: [B, C_len, 8H]\n",
    "        \"\"\"\n",
    "        B, C_len, H2 = context_out.size()\n",
    "        Q_len = question_out.size(1)\n",
    "\n",
    "        # Expand for pairwise interaction\n",
    "        c_expand = context_out.unsqueeze(2).expand(B, C_len, Q_len, H2)\n",
    "        q_expand = question_out.unsqueeze(1).expand(B, C_len, Q_len, H2)\n",
    "        elementwise_product = c_expand * q_expand\n",
    "\n",
    "        # Similarity matrix S\n",
    "        concat_sim = torch.cat([c_expand, q_expand, elementwise_product], dim=-1)  # [B, C_len, Q_len, 6H]\n",
    "        S = self.similarity_linear(concat_sim).squeeze(-1)  # [B, C_len, Q_len]\n",
    "\n",
    "        # Context-to-question attention (C2Q)\n",
    "        a = torch.softmax(S, dim=-1)  # [B, C_len, Q_len]\n",
    "        c2q = torch.bmm(a, question_out)  # [B, C_len, 2H]\n",
    "\n",
    "        # Question-to-context attention (Q2C)\n",
    "        b = torch.softmax(S.max(dim=-1).values, dim=-1)  # [B, C_len]\n",
    "        q2c = torch.bmm(b.unsqueeze(1), context_out).repeat(1, C_len, 1)  # [B, C_len, 2H]\n",
    "\n",
    "        # Final fusion: [c; c2q; c * c2q; c * q2c]\n",
    "        combined = torch.cat([\n",
    "            context_out,\n",
    "            c2q,\n",
    "            context_out * c2q,\n",
    "            context_out * q2c\n",
    "        ], dim=-1)  # [B, C_len, 8H]\n",
    "\n",
    "        return combined\n",
    "\n",
    "    def forward(self, context_ids, question_ids):\n",
    "        context_embed = self.embedding(context_ids)         # [batch_size, context_len, embedding_dim]\n",
    "        question_embed = self.embedding(question_ids)       # [batch_size, question_len, embedding_dim]\n",
    "\n",
    "        context_out, _ = self.context_lstm(context_embed)   # [batch_size, context_len, 2*hidden_size]\n",
    "        question_out, _ = self.question_lstm(question_embed)# [batch_size, question_len, 2*hidden_size]\n",
    "        \n",
    "        context_out = self.dropout(context_out)\n",
    "        question_out = self.dropout(question_out)\n",
    "\n",
    "        if self.use_attention:\n",
    "            # Attention from question to context and from context to question (BiDAF)\n",
    "            combined = self.bidaf_attention(context_out, question_out)\n",
    "        else:\n",
    "            # Average pooled question representation\n",
    "            question_vector = torch.mean(question_out, dim=1)  # [B, 2H]\n",
    "            question_vector = question_vector.unsqueeze(1).expand(-1, context_out.size(1), -1)  # [B, C_len, 2H]\n",
    "            combined = torch.cat([context_out, question_vector], dim=-1)  # [B, C_len, 4H]\n",
    "        \n",
    "        combined = self.dropout(combined)\n",
    "\n",
    "        modeled_out_1, _ = self.modeling_lstm_1(combined)  # [B, C_len, 2H]\n",
    "        modeled_out_2, _ = self.modeling_lstm_2(modeled_out_1)\n",
    "        modeled_out = modeled_out_2 + modeled_out_1\n",
    "        modeled_out = self.layer_norm(modeled_out)\n",
    "\n",
    "        start_logits = self.start_fc(modeled_out).squeeze(-1)\n",
    "        end_logits = self.end_fc(modeled_out).squeeze(-1)\n",
    "\n",
    "        return start_logits, end_logits"
   ]
  },
  {
   "cell_type": "code",
   "execution_count": 17,
   "id": "5d0b3dd6",
   "metadata": {},
   "outputs": [],
   "source": [
    "def train(model, dataloader, optimizer, criterion, device):\n",
    "    model.train()\n",
    "    total_loss = 0.0\n",
    "    correct_start = 0\n",
    "    correct_end = 0\n",
    "    total = 0\n",
    "\n",
    "    for batch in tqdm(dataloader, desc=\"Training\"):\n",
    "        context_ids = batch['context_ids'].to(device)\n",
    "        question_ids = batch['question_ids'].to(device)\n",
    "        start_pos = batch['start'].to(device)\n",
    "        end_pos = batch['end'].to(device)\n",
    "\n",
    "        optimizer.zero_grad()\n",
    "        start_logits, end_logits = model(context_ids, question_ids)\n",
    "\n",
    "        loss_start = criterion(start_logits, start_pos)\n",
    "        loss_end = criterion(end_logits, end_pos)\n",
    "        loss = (loss_start + loss_end) / 2\n",
    "        loss.backward()\n",
    "        optimizer.step()\n",
    "\n",
    "        total_loss += loss.item()\n",
    "\n",
    "        # Accuracy\n",
    "        pred_start = torch.argmax(start_logits, dim=1)\n",
    "        pred_end = torch.argmax(end_logits, dim=1)\n",
    "        correct_start += (pred_start == start_pos).sum().item()\n",
    "        correct_end += (pred_end == end_pos).sum().item()\n",
    "        total += context_ids.size(0)\n",
    "\n",
    "    avg_loss = total_loss / len(dataloader)\n",
    "    avg_accuracy = (correct_start + correct_end) / (2 * total)  # average over start and end\n",
    "    return avg_loss, avg_accuracy\n"
   ]
  },
  {
   "cell_type": "code",
   "execution_count": 18,
   "id": "647eda6b",
   "metadata": {},
   "outputs": [],
   "source": [
    "def predict_spans(model, dataloader, raw_dataset, device):\n",
    "    model.eval()\n",
    "    predictions = []\n",
    "\n",
    "    idx = 0\n",
    "    max_answer_len = 15\n",
    "\n",
    "    with torch.no_grad():\n",
    "        for batch in tqdm(dataloader, desc=\"Predicting spans\"):\n",
    "            # Move input tensors to GPU or CPU\n",
    "            context_ids = batch['context_ids'].to(device)\n",
    "            question_ids = batch['question_ids'].to(device)\n",
    "\n",
    "            # Run model\n",
    "            start_logits, end_logits = model(context_ids, question_ids)\n",
    "\n",
    "            # Loop over batch items\n",
    "            for i in range(context_ids.size(0)):\n",
    "                # Move logits to CPU before processing\n",
    "                start_logit = start_logits[i].to(\"cpu\")\n",
    "                end_logit = end_logits[i].to(\"cpu\")\n",
    "\n",
    "                # Find best span\n",
    "                max_score = -float(\"inf\")\n",
    "                best_start, best_end = 0, 0\n",
    "                for start_idx in range(len(start_logit)):\n",
    "                    for end_idx in range(start_idx, min(start_idx + max_answer_len, len(end_logit))):\n",
    "                        score = start_logit[start_idx] + end_logit[end_idx]\n",
    "                        if score > max_score:\n",
    "                            best_start, best_end = start_idx, end_idx\n",
    "                            max_score = score\n",
    "\n",
    "                # Reconstruct predicted answer text\n",
    "                example = raw_dataset[idx]\n",
    "                context_tokens = word_tokenize(example[\"context\"].lower())\n",
    "\n",
    "                pred_tokens = context_tokens[best_start:best_end + 1] if best_end < len(context_tokens) else []\n",
    "                prediction_text = \" \".join(pred_tokens)\n",
    "\n",
    "                predictions.append({\n",
    "                    \"id\": example[\"id\"],\n",
    "                    \"prediction_text\": prediction_text\n",
    "                })\n",
    "                idx += 1\n",
    "\n",
    "    return predictions\n",
    "\n",
    "def get_references(raw_dataset):\n",
    "    return [{\"id\": ex[\"id\"], \"answers\": ex[\"answers\"]} for ex in raw_dataset]\n"
   ]
  },
  {
   "cell_type": "code",
   "execution_count": 19,
   "id": "9df77faa",
   "metadata": {},
   "outputs": [],
   "source": [
    "def evaluate(model, dataloader, raw_dataset, criterion, device):\n",
    "    model.eval()\n",
    "    total_loss = 0.0\n",
    "    correct_start = 0\n",
    "    correct_end = 0\n",
    "    total = 0\n",
    "\n",
    "    with torch.no_grad():\n",
    "        for batch in tqdm(dataloader, desc=\"Evaluating\"):\n",
    "            context_ids = batch['context_ids'].to(device)\n",
    "            question_ids = batch['question_ids'].to(device)\n",
    "            start_pos = batch['start'].to(device)\n",
    "            end_pos = batch['end'].to(device)\n",
    "\n",
    "            start_logits, end_logits = model(context_ids, question_ids)\n",
    "\n",
    "            loss_start = criterion(start_logits, start_pos)\n",
    "            loss_end = criterion(end_logits, end_pos)\n",
    "            loss = (loss_start + loss_end) / 2\n",
    "            total_loss += loss.item()\n",
    "\n",
    "            pred_start = torch.argmax(start_logits, dim=1)\n",
    "            pred_end = torch.argmax(end_logits, dim=1)\n",
    "            correct_start += (pred_start == start_pos).sum().item()\n",
    "            correct_end += (pred_end == end_pos).sum().item()\n",
    "            total += context_ids.size(0)\n",
    "\n",
    "    avg_loss = total_loss / len(dataloader)\n",
    "    avg_accuracy = (correct_start + correct_end) / (2 * total)\n",
    "\n",
    "    predictions = predict_spans(model, dataloader, raw_dataset, device)\n",
    "    references = get_references(raw_dataset)\n",
    "    scores = squad_metric.compute(predictions=predictions, references=references)\n",
    "    val_em = scores[\"exact_match\"]\n",
    "    val_f1 = scores[\"f1\"]\n",
    "\n",
    "    return val_f1, val_em, avg_loss, avg_accuracy\n"
   ]
  },
  {
   "cell_type": "code",
   "execution_count": 20,
   "id": "6dcf0b83",
   "metadata": {},
   "outputs": [],
   "source": [
    "comparison_df = pd.DataFrame(columns=[\n",
    "    'model_name',\n",
    "    'best_hyperparameters',\n",
    "    'val_loss',\n",
    "    'val_exact_match',\n",
    "    'val_f1',\n",
    "    'training_time'\n",
    "])"
   ]
  },
  {
   "cell_type": "code",
   "execution_count": 21,
   "id": "6033fc59",
   "metadata": {},
   "outputs": [],
   "source": [
    "def objective(trial, use_attention):\n",
    "    # Suggest hyperparams\n",
    "    hidden_size = trial.suggest_categorical(\"hidden_size\", [128, 256])\n",
    "    lr = trial.suggest_float(\"lr\", 5e-5, 5e-4, log=True)\n",
    "    dropout = trial.suggest_float(\"dropout\", 0.1, 0.4)\n",
    "    batch_size = trial.suggest_categorical(\"batch_size\", [16, 32])\n",
    "    weight_decay = trial.suggest_float(\"weight_decay\", 1e-6, 1e-3, log=True)\n",
    "\n",
    "    # Model\n",
    "    model = BiLSTM_QA(embedding_matrix, hidden_size=hidden_size, dropout=dropout, use_attention=use_attention).to(device)\n",
    "    optimizer = torch.optim.Adam(model.parameters(), lr=lr, weight_decay=weight_decay)\n",
    "    criterion = torch.nn.CrossEntropyLoss()\n",
    "\n",
    "    train_loader = DataLoader(train_dataset, batch_size=batch_size, shuffle=True, collate_fn=qa_collate_fn)\n",
    "    val_loader = DataLoader(val_dataset, batch_size=batch_size, collate_fn=qa_collate_fn)\n",
    "\n",
    "\n",
    "    # Training loop\n",
    "    history = {\n",
    "        'train_loss': [], 'val_loss': [],\n",
    "        'train_accuracy': [], 'val_accuracy': [],\n",
    "        'val_f1': [], 'val_em': [],\n",
    "    }\n",
    "    best_model_state = None\n",
    "    best_val_loss = float(\"inf\")\n",
    "    early_stop_count = 0\n",
    "    patience = 5\n",
    "    start_time = time.time()\n",
    "\n",
    "    for epoch in range(20):\n",
    "        train_loss, train_acc = train(model, train_loader, optimizer, criterion, device)\n",
    "        val_f1, val_em, val_loss, val_acc = evaluate(model, val_loader, val_raw, criterion, device)\n",
    "\n",
    "        history['train_loss'].append(train_loss)\n",
    "        history['val_loss'].append(val_loss)\n",
    "        history['train_accuracy'].append(train_acc)\n",
    "        history['val_accuracy'].append(val_acc)\n",
    "        history['val_f1'].append(val_f1)\n",
    "        history['val_em'].append(val_em)\n",
    "\n",
    "        trial.report(val_f1, epoch)\n",
    "\n",
    "        if trial.should_prune():\n",
    "            raise optuna.exceptions.TrialPruned()\n",
    "\n",
    "        if val_loss < best_val_loss:\n",
    "            best_val_loss = val_loss\n",
    "            best_model_state = model.state_dict()\n",
    "            early_stop_count = 0\n",
    "        else:\n",
    "            early_stop_count += 1\n",
    "            if early_stop_count >= patience:\n",
    "                break\n",
    "\n",
    "    total_time = round(time.time() - start_time, 2)\n",
    "    trial.set_user_attr(\"history\", history)\n",
    "    trial.set_user_attr(\"training_time\", total_time)\n",
    "    trial.set_user_attr(\"val_loss\", val_loss)\n",
    "    trial.set_user_attr(\"val_em\", val_em)\n",
    "    trial.set_user_attr(\"best_model_state_dict\", best_model_state)\n",
    "\n",
    "    return val_f1\n"
   ]
  },
  {
   "cell_type": "code",
   "execution_count": 22,
   "id": "df081dd4",
   "metadata": {},
   "outputs": [],
   "source": [
    "def run_optuna(use_attention, n_trials=8, model_name=\"Plain LSTMs\"):\n",
    "    study = optuna.create_study(direction=\"maximize\")\n",
    "\n",
    "    with tqdm(total=n_trials, desc=\"Training\", unit=\"trial\") as pbar:\n",
    "        def callback(study, trial):\n",
    "            pbar.update(1)\n",
    "            print(\n",
    "                f\"Trial {trial.number} finished - \"\n",
    "                f\"F1: {trial.value:.2f}\")\n",
    "\n",
    "        study.optimize(lambda trial: objective(trial, use_attention), n_trials=n_trials, callbacks=[callback])\n",
    "\n",
    "    best_trial = study.best_trial\n",
    "    print(f\"Best trial (trial {best_trial.number}) hyperparameters: {best_trial.params}\")\n",
    "\n",
    "    from pathlib import Path\n",
    "    model_path = f\"saved_models_300d/{model_name.replace(' ', '_')}_best_model.pt\"\n",
    "    Path(\"saved_models_300d\").mkdir(exist_ok=True)\n",
    "    torch.save(best_trial.user_attrs[\"best_model_state_dict\"], model_path)\n",
    "    print(f\"Best model saved to: {model_path}\")\n",
    "\n",
    "    # Retrieve training history.\n",
    "    history = best_trial.user_attrs[\"history\"]\n",
    "\n",
    "    global comparison_df\n",
    "    comparison_df.loc[len(comparison_df)] = {\n",
    "        'model_name': model_name,\n",
    "        'best_hyperparameters': best_trial.params,\n",
    "        'val_loss': best_trial.user_attrs[\"val_loss\"],\n",
    "        'val_exact_match': best_trial.user_attrs.get(\"val_em\"),\n",
    "        'val_f1': best_trial.value,\n",
    "        'training_time': best_trial.user_attrs[\"training_time\"]\n",
    "    }\n",
    "\n",
    "    return best_trial, history\n"
   ]
  },
  {
   "cell_type": "code",
   "execution_count": 23,
   "id": "905c31ea",
   "metadata": {},
   "outputs": [],
   "source": [
    "def summarize_diagnostics(history, model_name, folder_path=\"plots_300d/\"):\n",
    "    if not os.path.exists(folder_path):\n",
    "        os.makedirs(folder_path)\n",
    "        \n",
    "    fig, ax = plt.subplots(1, 2, figsize=(20, 10))\n",
    "    fig.suptitle(f\"Training Diagnostics for {model_name}\", fontsize=24, fontweight='bold')\n",
    "    epochs = list(range(len(history['train_loss'])))\n",
    "    \n",
    "    # Plot loss curves\n",
    "    ax[0].set_title('Loss Curves', fontsize=20)\n",
    "    ax[0].plot(history['train_loss'], label='train')\n",
    "    ax[0].plot(history['val_loss'], label='validation')\n",
    "    ax[0].set_xticks(epochs)\n",
    "    ax[0].set_xlabel('Epochs', fontsize=15)\n",
    "    ax[0].set_ylabel('Loss', fontsize=15)\n",
    "    ax[0].legend(fontsize=15)\n",
    "    # Plot accuracy curves\n",
    "    ax[1].set_title('Accuracy Curves', fontsize=20)\n",
    "    ax[1].plot(history['train_accuracy'], label='train')\n",
    "    ax[1].plot(history['val_accuracy'], label='validation')\n",
    "    ax[1].set_xticks(epochs)\n",
    "    ax[1].set_xlabel('Epochs', fontsize=15)\n",
    "    ax[1].set_ylabel('Accuracy', fontsize=15)\n",
    "    ax[1].legend(fontsize=15)\n",
    "\n",
    "    plot_filename = os.path.join(folder_path, f\"{model_name}_loss_accuracy.png\")\n",
    "    plt.savefig(plot_filename)\n",
    "    print(f\"Plot saved to {plot_filename}\")\n",
    "\n",
    "    plt.show()\n",
    "    plt.close(fig)"
   ]
  },
  {
   "cell_type": "code",
   "execution_count": null,
   "id": "29cb58c3",
   "metadata": {},
   "outputs": [
    {
     "name": "stderr",
     "output_type": "stream",
     "text": [
      "[I 2025-04-24 18:04:32,311] A new study created in memory with name: no-name-472b6872-7d89-4ec9-97d8-846d5931fead\n",
      "Training: 100%|██████████| 2460/2460 [02:51<00:00, 14.32it/s]\n",
      "Evaluating: 100%|██████████| 274/274 [00:06<00:00, 42.41it/s]\n",
      "Predicting spans: 100%|██████████| 274/274 [03:34<00:00,  1.28it/s]\n",
      "Training: 100%|██████████| 2460/2460 [02:51<00:00, 14.32it/s]\n",
      "Evaluating: 100%|██████████| 274/274 [00:06<00:00, 42.37it/s]\n",
      "Predicting spans: 100%|██████████| 274/274 [03:34<00:00,  1.27it/s]\n",
      "Training: 100%|██████████| 2460/2460 [02:50<00:00, 14.43it/s]\n",
      "Evaluating: 100%|██████████| 274/274 [00:06<00:00, 42.12it/s]\n",
      "Predicting spans: 100%|██████████| 274/274 [03:33<00:00,  1.28it/s]\n",
      "Training: 100%|██████████| 2460/2460 [02:50<00:00, 14.42it/s]\n",
      "Evaluating: 100%|██████████| 274/274 [00:06<00:00, 43.11it/s]\n",
      "Predicting spans: 100%|██████████| 274/274 [03:33<00:00,  1.28it/s]\n",
      "Training: 100%|██████████| 2460/2460 [02:54<00:00, 14.13it/s]\n",
      "Evaluating: 100%|██████████| 274/274 [00:06<00:00, 42.39it/s]\n",
      "Predicting spans: 100%|██████████| 274/274 [03:33<00:00,  1.29it/s]\n",
      "Training: 100%|██████████| 2460/2460 [02:52<00:00, 14.27it/s]\n",
      "Evaluating: 100%|██████████| 274/274 [00:06<00:00, 43.27it/s]\n",
      "Predicting spans: 100%|██████████| 274/274 [03:35<00:00,  1.27it/s]\n",
      "Training: 100%|██████████| 2460/2460 [02:50<00:00, 14.47it/s]\n",
      "Evaluating: 100%|██████████| 274/274 [00:06<00:00, 43.08it/s]\n",
      "Predicting spans: 100%|██████████| 274/274 [03:34<00:00,  1.27it/s]\n",
      "Training: 100%|██████████| 2460/2460 [02:49<00:00, 14.55it/s]\n",
      "Evaluating: 100%|██████████| 274/274 [00:06<00:00, 42.54it/s]\n",
      "Predicting spans: 100%|██████████| 274/274 [03:35<00:00,  1.27it/s]\n",
      "Training: 100%|██████████| 2460/2460 [02:52<00:00, 14.26it/s]\n",
      "Evaluating: 100%|██████████| 274/274 [00:06<00:00, 42.17it/s]\n",
      "Predicting spans: 100%|██████████| 274/274 [03:33<00:00,  1.28it/s]\n",
      "Training: 100%|██████████| 2460/2460 [02:54<00:00, 14.12it/s]\n",
      "Evaluating: 100%|██████████| 274/274 [00:06<00:00, 41.71it/s]\n",
      "Predicting spans: 100%|██████████| 274/274 [03:34<00:00,  1.28it/s]\n",
      "Training: 100%|██████████| 2460/2460 [02:51<00:00, 14.38it/s]\n",
      "Evaluating: 100%|██████████| 274/274 [00:06<00:00, 42.29it/s]\n",
      "Predicting spans: 100%|██████████| 274/274 [03:34<00:00,  1.28it/s]\n",
      "Training: 100%|██████████| 2460/2460 [02:49<00:00, 14.51it/s]\n",
      "Evaluating: 100%|██████████| 274/274 [00:06<00:00, 44.13it/s]\n",
      "Predicting spans: 100%|██████████| 274/274 [03:37<00:00,  1.26it/s]\n",
      "Training: 100%|██████████| 2460/2460 [02:45<00:00, 14.89it/s]\n",
      "Evaluating: 100%|██████████| 274/274 [00:06<00:00, 44.66it/s]\n",
      "Predicting spans: 100%|██████████| 274/274 [03:37<00:00,  1.26it/s]\n",
      "Training: 100%|██████████| 2460/2460 [02:44<00:00, 14.94it/s]\n",
      "Evaluating: 100%|██████████| 274/274 [00:06<00:00, 44.29it/s]\n",
      "Predicting spans: 100%|██████████| 274/274 [03:40<00:00,  1.24it/s]\n",
      "Training: 100%|██████████| 2460/2460 [02:45<00:00, 14.88it/s]\n",
      "Evaluating: 100%|██████████| 274/274 [00:06<00:00, 43.99it/s]\n",
      "Predicting spans: 100%|██████████| 274/274 [03:38<00:00,  1.25it/s]\n",
      "Training: 100%|██████████| 2460/2460 [02:45<00:00, 14.88it/s]\n",
      "Evaluating: 100%|██████████| 274/274 [00:06<00:00, 44.39it/s]\n",
      "Predicting spans: 100%|██████████| 274/274 [03:38<00:00,  1.25it/s]\n",
      "[I 2025-04-24 19:49:09,401] Trial 0 finished with value: 47.067081203157954 and parameters: {'hidden_size': 256, 'lr': 0.00010014104955513628, 'dropout': 0.3909809036740618, 'batch_size': 32, 'weight_decay': 1.130425805908037e-06}. Best is trial 0 with value: 47.067081203157954.\n",
      "Training:  12%|█▎        | 1/8 [1:44:37<12:12:19, 6277.09s/trial]"
     ]
    },
    {
     "name": "stdout",
     "output_type": "stream",
     "text": [
      "Trial 0 finished - F1: 47.07\n"
     ]
    },
    {
     "name": "stderr",
     "output_type": "stream",
     "text": [
      "Training: 100%|██████████| 2460/2460 [00:49<00:00, 49.42it/s]\n",
      "Evaluating: 100%|██████████| 274/274 [00:02<00:00, 120.21it/s]\n",
      "Predicting spans: 100%|██████████| 274/274 [03:40<00:00,  1.24it/s]\n",
      "Training: 100%|██████████| 2460/2460 [00:49<00:00, 49.22it/s]\n",
      "Evaluating: 100%|██████████| 274/274 [00:02<00:00, 120.94it/s]\n",
      "Predicting spans: 100%|██████████| 274/274 [03:40<00:00,  1.24it/s]\n",
      "Training: 100%|██████████| 2460/2460 [00:50<00:00, 49.03it/s]\n",
      "Evaluating: 100%|██████████| 274/274 [00:02<00:00, 119.79it/s]\n",
      "Predicting spans: 100%|██████████| 274/274 [03:41<00:00,  1.24it/s]\n",
      "Training: 100%|██████████| 2460/2460 [00:50<00:00, 49.10it/s]\n",
      "Evaluating: 100%|██████████| 274/274 [00:02<00:00, 119.97it/s]\n",
      "Predicting spans: 100%|██████████| 274/274 [03:40<00:00,  1.24it/s]\n",
      "Training: 100%|██████████| 2460/2460 [00:49<00:00, 49.23it/s]\n",
      "Evaluating: 100%|██████████| 274/274 [00:02<00:00, 119.39it/s]\n",
      "Predicting spans: 100%|██████████| 274/274 [03:40<00:00,  1.24it/s]\n",
      "Training: 100%|██████████| 2460/2460 [00:50<00:00, 48.85it/s]\n",
      "Evaluating: 100%|██████████| 274/274 [00:02<00:00, 119.13it/s]\n",
      "Predicting spans: 100%|██████████| 274/274 [03:40<00:00,  1.24it/s]\n",
      "Training: 100%|██████████| 2460/2460 [00:50<00:00, 48.70it/s]\n",
      "Evaluating: 100%|██████████| 274/274 [00:02<00:00, 119.27it/s]\n",
      "Predicting spans: 100%|██████████| 274/274 [03:40<00:00,  1.24it/s]\n",
      "Training: 100%|██████████| 2460/2460 [00:50<00:00, 49.01it/s]\n",
      "Evaluating: 100%|██████████| 274/274 [00:02<00:00, 119.48it/s]\n",
      "Predicting spans: 100%|██████████| 274/274 [03:41<00:00,  1.24it/s]\n",
      "Training: 100%|██████████| 2460/2460 [00:50<00:00, 48.90it/s]\n",
      "Evaluating: 100%|██████████| 274/274 [00:02<00:00, 119.56it/s]\n",
      "Predicting spans: 100%|██████████| 274/274 [03:40<00:00,  1.24it/s]\n",
      "Training: 100%|██████████| 2460/2460 [00:50<00:00, 48.78it/s]\n",
      "Evaluating: 100%|██████████| 274/274 [00:02<00:00, 118.74it/s]\n",
      "Predicting spans: 100%|██████████| 274/274 [03:40<00:00,  1.24it/s]\n",
      "Training: 100%|██████████| 2460/2460 [00:50<00:00, 48.78it/s]\n",
      "Evaluating: 100%|██████████| 274/274 [00:02<00:00, 119.14it/s]\n",
      "Predicting spans: 100%|██████████| 274/274 [03:41<00:00,  1.24it/s]\n",
      "Training: 100%|██████████| 2460/2460 [00:50<00:00, 48.70it/s]\n",
      "Evaluating: 100%|██████████| 274/274 [00:02<00:00, 118.70it/s]\n",
      "Predicting spans: 100%|██████████| 274/274 [03:41<00:00,  1.24it/s]\n",
      "Training: 100%|██████████| 2460/2460 [00:50<00:00, 48.98it/s]\n",
      "Evaluating: 100%|██████████| 274/274 [00:02<00:00, 118.98it/s]\n",
      "Predicting spans: 100%|██████████| 274/274 [03:40<00:00,  1.24it/s]\n",
      "Training: 100%|██████████| 2460/2460 [00:50<00:00, 48.78it/s]\n",
      "Evaluating: 100%|██████████| 274/274 [00:02<00:00, 118.28it/s]\n",
      "Predicting spans: 100%|██████████| 274/274 [03:41<00:00,  1.24it/s]\n",
      "Training: 100%|██████████| 2460/2460 [00:50<00:00, 48.77it/s]\n",
      "Evaluating: 100%|██████████| 274/274 [00:02<00:00, 118.53it/s]\n",
      "Predicting spans: 100%|██████████| 274/274 [03:34<00:00,  1.28it/s]\n",
      "Training: 100%|██████████| 2460/2460 [00:52<00:00, 47.24it/s]\n",
      "Evaluating: 100%|██████████| 274/274 [00:02<00:00, 115.14it/s]\n",
      "Predicting spans: 100%|██████████| 274/274 [03:33<00:00,  1.28it/s]\n",
      "Training: 100%|██████████| 2460/2460 [00:51<00:00, 47.31it/s]\n",
      "Evaluating: 100%|██████████| 274/274 [00:02<00:00, 114.95it/s]\n",
      "Predicting spans: 100%|██████████| 274/274 [03:33<00:00,  1.28it/s]\n",
      "Training: 100%|██████████| 2460/2460 [00:50<00:00, 48.65it/s]\n",
      "Evaluating: 100%|██████████| 274/274 [00:02<00:00, 118.72it/s]\n",
      "Predicting spans: 100%|██████████| 274/274 [03:41<00:00,  1.24it/s]\n",
      "Training: 100%|██████████| 2460/2460 [00:50<00:00, 48.98it/s]\n",
      "Evaluating: 100%|██████████| 274/274 [00:02<00:00, 118.67it/s]\n",
      "Predicting spans: 100%|██████████| 274/274 [03:40<00:00,  1.24it/s]\n",
      "Training: 100%|██████████| 2460/2460 [00:50<00:00, 48.80it/s]\n",
      "Evaluating: 100%|██████████| 274/274 [00:02<00:00, 119.22it/s]\n",
      "Predicting spans: 100%|██████████| 274/274 [03:40<00:00,  1.24it/s]\n",
      "[I 2025-04-24 21:20:08,507] Trial 1 finished with value: 43.904672190233676 and parameters: {'hidden_size': 128, 'lr': 6.55311607690762e-05, 'dropout': 0.12161153238024576, 'batch_size': 32, 'weight_decay': 6.6729088423655e-06}. Best is trial 0 with value: 47.067081203157954.\n",
      "Training:  25%|██▌       | 2/8 [3:15:36<9:39:35, 5795.92s/trial] "
     ]
    },
    {
     "name": "stdout",
     "output_type": "stream",
     "text": [
      "Trial 1 finished - F1: 43.90\n"
     ]
    },
    {
     "name": "stderr",
     "output_type": "stream",
     "text": [
      "Training: 100%|██████████| 4920/4920 [03:56<00:00, 20.82it/s]\n",
      "Evaluating: 100%|██████████| 547/547 [00:09<00:00, 57.32it/s]\n",
      "Predicting spans: 100%|██████████| 547/547 [03:47<00:00,  2.41it/s]\n",
      "Training: 100%|██████████| 4920/4920 [03:56<00:00, 20.81it/s]\n",
      "Evaluating: 100%|██████████| 547/547 [00:09<00:00, 57.98it/s]\n",
      "Predicting spans: 100%|██████████| 547/547 [03:47<00:00,  2.41it/s]\n",
      "Training: 100%|██████████| 4920/4920 [03:56<00:00, 20.78it/s]\n",
      "Evaluating: 100%|██████████| 547/547 [00:09<00:00, 57.54it/s]\n",
      "Predicting spans: 100%|██████████| 547/547 [03:46<00:00,  2.41it/s]\n",
      "Training: 100%|██████████| 4920/4920 [03:56<00:00, 20.80it/s]\n",
      "Evaluating: 100%|██████████| 547/547 [00:09<00:00, 57.60it/s]\n",
      "Predicting spans: 100%|██████████| 547/547 [03:45<00:00,  2.43it/s]\n",
      "Training: 100%|██████████| 4920/4920 [03:56<00:00, 20.76it/s]\n",
      "Evaluating: 100%|██████████| 547/547 [00:09<00:00, 57.57it/s]\n",
      "Predicting spans: 100%|██████████| 547/547 [03:47<00:00,  2.40it/s]\n",
      "Training: 100%|██████████| 4920/4920 [03:57<00:00, 20.73it/s]\n",
      "Evaluating: 100%|██████████| 547/547 [00:09<00:00, 57.14it/s]\n",
      "Predicting spans: 100%|██████████| 547/547 [03:47<00:00,  2.40it/s]\n",
      "Training: 100%|██████████| 4920/4920 [03:57<00:00, 20.75it/s]\n",
      "Evaluating: 100%|██████████| 547/547 [00:09<00:00, 57.56it/s]\n",
      "Predicting spans: 100%|██████████| 547/547 [03:44<00:00,  2.43it/s]\n",
      "Training: 100%|██████████| 4920/4920 [03:56<00:00, 20.82it/s]\n",
      "Evaluating: 100%|██████████| 547/547 [00:09<00:00, 57.57it/s]\n",
      "Predicting spans: 100%|██████████| 547/547 [03:47<00:00,  2.41it/s]\n",
      "Training: 100%|██████████| 4920/4920 [03:56<00:00, 20.77it/s]\n",
      "Evaluating: 100%|██████████| 547/547 [00:09<00:00, 57.45it/s]\n",
      "Predicting spans: 100%|██████████| 547/547 [03:43<00:00,  2.45it/s]\n",
      "Training: 100%|██████████| 4920/4920 [03:56<00:00, 20.82it/s]\n",
      "Evaluating: 100%|██████████| 547/547 [00:09<00:00, 57.38it/s]\n",
      "Predicting spans: 100%|██████████| 547/547 [03:47<00:00,  2.41it/s]\n",
      "Training: 100%|██████████| 4920/4920 [03:57<00:00, 20.73it/s]\n",
      "Evaluating: 100%|██████████| 547/547 [00:09<00:00, 57.41it/s]\n",
      "Predicting spans: 100%|██████████| 547/547 [03:49<00:00,  2.39it/s]\n",
      "Training: 100%|██████████| 4920/4920 [03:56<00:00, 20.78it/s]\n",
      "Evaluating: 100%|██████████| 547/547 [00:10<00:00, 54.41it/s]\n",
      "Predicting spans: 100%|██████████| 547/547 [03:31<00:00,  2.58it/s]\n",
      "Training: 100%|██████████| 4920/4920 [04:11<00:00, 19.59it/s]\n",
      "Evaluating: 100%|██████████| 547/547 [00:10<00:00, 54.21it/s]\n",
      "Predicting spans: 100%|██████████| 547/547 [03:36<00:00,  2.52it/s]\n",
      "Training: 100%|██████████| 4920/4920 [03:56<00:00, 20.76it/s]\n",
      "Evaluating: 100%|██████████| 547/547 [00:09<00:00, 57.67it/s]\n",
      "Predicting spans: 100%|██████████| 547/547 [03:46<00:00,  2.42it/s]\n",
      "Training: 100%|██████████| 4920/4920 [03:57<00:00, 20.71it/s]\n",
      "Evaluating: 100%|██████████| 547/547 [00:09<00:00, 57.53it/s]\n",
      "Predicting spans: 100%|██████████| 547/547 [03:45<00:00,  2.42it/s]\n",
      "Training: 100%|██████████| 4920/4920 [03:56<00:00, 20.79it/s]\n",
      "Evaluating: 100%|██████████| 547/547 [00:09<00:00, 57.41it/s]\n",
      "Predicting spans: 100%|██████████| 547/547 [03:42<00:00,  2.46it/s]\n",
      "[I 2025-04-24 23:26:08,315] Trial 2 finished with value: 46.01499417284625 and parameters: {'hidden_size': 256, 'lr': 5.348430929356866e-05, 'dropout': 0.1396283424492747, 'batch_size': 16, 'weight_decay': 8.800153325936738e-05}. Best is trial 0 with value: 47.067081203157954.\n",
      "Training:  38%|███▊      | 3/8 [5:21:36<9:10:06, 6601.35s/trial]"
     ]
    },
    {
     "name": "stdout",
     "output_type": "stream",
     "text": [
      "Trial 2 finished - F1: 46.01\n"
     ]
    },
    {
     "name": "stderr",
     "output_type": "stream",
     "text": [
      "Training: 100%|██████████| 2460/2460 [00:51<00:00, 47.94it/s]\n",
      "Evaluating: 100%|██████████| 274/274 [00:02<00:00, 115.02it/s]\n",
      "Predicting spans: 100%|██████████| 274/274 [03:31<00:00,  1.30it/s]\n",
      "Training: 100%|██████████| 2460/2460 [00:51<00:00, 47.67it/s]\n",
      "Evaluating: 100%|██████████| 274/274 [00:02<00:00, 115.57it/s]\n",
      "Predicting spans: 100%|██████████| 274/274 [03:31<00:00,  1.29it/s]\n",
      "Training: 100%|██████████| 2460/2460 [00:51<00:00, 47.86it/s]\n",
      "Evaluating: 100%|██████████| 274/274 [00:02<00:00, 118.57it/s]\n",
      "Predicting spans: 100%|██████████| 274/274 [03:41<00:00,  1.24it/s]\n",
      "Training: 100%|██████████| 2460/2460 [00:50<00:00, 48.92it/s]\n",
      "Evaluating: 100%|██████████| 274/274 [00:02<00:00, 118.25it/s]\n",
      "Predicting spans: 100%|██████████| 274/274 [03:41<00:00,  1.24it/s]\n",
      "Training: 100%|██████████| 2460/2460 [00:50<00:00, 48.87it/s]\n",
      "Evaluating: 100%|██████████| 274/274 [00:02<00:00, 118.22it/s]\n",
      "Predicting spans: 100%|██████████| 274/274 [03:41<00:00,  1.24it/s]\n",
      "Training: 100%|██████████| 2460/2460 [00:50<00:00, 48.67it/s]\n",
      "Evaluating: 100%|██████████| 274/274 [00:02<00:00, 118.61it/s]\n",
      "Predicting spans: 100%|██████████| 274/274 [03:41<00:00,  1.24it/s]\n",
      "Training: 100%|██████████| 2460/2460 [00:50<00:00, 48.91it/s]\n",
      "Evaluating: 100%|██████████| 274/274 [00:02<00:00, 116.81it/s]\n",
      "Predicting spans: 100%|██████████| 274/274 [03:41<00:00,  1.24it/s]\n",
      "Training: 100%|██████████| 2460/2460 [00:50<00:00, 48.71it/s]\n",
      "Evaluating: 100%|██████████| 274/274 [00:02<00:00, 118.12it/s]\n",
      "Predicting spans: 100%|██████████| 274/274 [03:41<00:00,  1.24it/s]\n",
      "Training: 100%|██████████| 2460/2460 [00:50<00:00, 48.91it/s]\n",
      "Evaluating: 100%|██████████| 274/274 [00:02<00:00, 118.24it/s]\n",
      "Predicting spans: 100%|██████████| 274/274 [03:40<00:00,  1.24it/s]\n",
      "Training: 100%|██████████| 2460/2460 [00:50<00:00, 48.86it/s]\n",
      "Evaluating: 100%|██████████| 274/274 [00:02<00:00, 118.45it/s]\n",
      "Predicting spans: 100%|██████████| 274/274 [03:41<00:00,  1.24it/s]\n",
      "Training: 100%|██████████| 2460/2460 [00:50<00:00, 49.00it/s]\n",
      "Evaluating: 100%|██████████| 274/274 [00:02<00:00, 118.30it/s]\n",
      "Predicting spans: 100%|██████████| 274/274 [03:41<00:00,  1.24it/s]\n",
      "Training: 100%|██████████| 2460/2460 [00:50<00:00, 48.70it/s]\n",
      "Evaluating: 100%|██████████| 274/274 [00:02<00:00, 118.01it/s]\n",
      "Predicting spans: 100%|██████████| 274/274 [03:41<00:00,  1.24it/s]\n",
      "Training: 100%|██████████| 2460/2460 [00:50<00:00, 48.88it/s]\n",
      "Evaluating: 100%|██████████| 274/274 [00:02<00:00, 118.43it/s]\n",
      "Predicting spans: 100%|██████████| 274/274 [03:41<00:00,  1.24it/s]\n",
      "Training: 100%|██████████| 2460/2460 [00:50<00:00, 48.88it/s]\n",
      "Evaluating: 100%|██████████| 274/274 [00:02<00:00, 118.38it/s]\n",
      "Predicting spans: 100%|██████████| 274/274 [03:41<00:00,  1.24it/s]\n",
      "[I 2025-04-25 00:29:56,261] Trial 3 finished with value: 46.62524926643606 and parameters: {'hidden_size': 128, 'lr': 0.00016406351000944314, 'dropout': 0.21812165194240712, 'batch_size': 32, 'weight_decay': 4.835257541651435e-06}. Best is trial 0 with value: 47.067081203157954.\n",
      "Training:  50%|█████     | 4/8 [6:25:23<6:07:05, 5506.44s/trial]"
     ]
    },
    {
     "name": "stdout",
     "output_type": "stream",
     "text": [
      "Trial 3 finished - F1: 46.63\n"
     ]
    },
    {
     "name": "stderr",
     "output_type": "stream",
     "text": [
      "Training: 100%|██████████| 4920/4920 [00:55<00:00, 88.49it/s]\n",
      "Evaluating: 100%|██████████| 547/547 [00:02<00:00, 222.07it/s]\n",
      "Predicting spans: 100%|██████████| 547/547 [03:25<00:00,  2.66it/s]\n",
      "Training: 100%|██████████| 4920/4920 [00:56<00:00, 87.60it/s]\n",
      "Evaluating: 100%|██████████| 547/547 [00:02<00:00, 222.20it/s]\n",
      "Predicting spans: 100%|██████████| 547/547 [03:26<00:00,  2.65it/s]\n",
      "Training: 100%|██████████| 4920/4920 [00:55<00:00, 87.99it/s]\n",
      "Evaluating: 100%|██████████| 547/547 [00:02<00:00, 221.84it/s]\n",
      "Predicting spans: 100%|██████████| 547/547 [03:25<00:00,  2.66it/s]\n",
      "Training: 100%|██████████| 4920/4920 [00:55<00:00, 88.05it/s]\n",
      "Evaluating: 100%|██████████| 547/547 [00:02<00:00, 222.77it/s]\n",
      "Predicting spans: 100%|██████████| 547/547 [03:25<00:00,  2.66it/s]\n",
      "Training: 100%|██████████| 4920/4920 [00:56<00:00, 87.61it/s]\n",
      "Evaluating: 100%|██████████| 547/547 [00:02<00:00, 222.06it/s]\n",
      "Predicting spans: 100%|██████████| 547/547 [03:26<00:00,  2.65it/s]\n",
      "Training: 100%|██████████| 4920/4920 [00:56<00:00, 87.42it/s]\n",
      "Evaluating: 100%|██████████| 547/547 [00:02<00:00, 221.27it/s]\n",
      "Predicting spans: 100%|██████████| 547/547 [03:26<00:00,  2.64it/s]\n",
      "Training: 100%|██████████| 4920/4920 [00:56<00:00, 87.19it/s]\n",
      "Evaluating: 100%|██████████| 547/547 [00:02<00:00, 222.82it/s]\n",
      "Predicting spans: 100%|██████████| 547/547 [03:26<00:00,  2.64it/s]\n",
      "Training: 100%|██████████| 4920/4920 [00:56<00:00, 87.75it/s]\n",
      "Evaluating: 100%|██████████| 547/547 [00:02<00:00, 221.41it/s]\n",
      "Predicting spans: 100%|██████████| 547/547 [03:26<00:00,  2.64it/s]\n",
      "Training: 100%|██████████| 4920/4920 [00:56<00:00, 87.53it/s]\n",
      "Evaluating: 100%|██████████| 547/547 [00:02<00:00, 221.82it/s]\n",
      "Predicting spans: 100%|██████████| 547/547 [03:27<00:00,  2.64it/s]\n",
      "Training: 100%|██████████| 4920/4920 [00:56<00:00, 87.23it/s]\n",
      "Evaluating: 100%|██████████| 547/547 [00:02<00:00, 220.54it/s]\n",
      "Predicting spans: 100%|██████████| 547/547 [03:27<00:00,  2.64it/s]\n",
      "Training: 100%|██████████| 4920/4920 [00:56<00:00, 87.36it/s]\n",
      "Evaluating: 100%|██████████| 547/547 [00:02<00:00, 219.11it/s]\n",
      "Predicting spans: 100%|██████████| 547/547 [03:27<00:00,  2.63it/s]\n",
      "Training: 100%|██████████| 4920/4920 [00:56<00:00, 87.63it/s]\n",
      "Evaluating: 100%|██████████| 547/547 [00:02<00:00, 221.67it/s]\n",
      "Predicting spans: 100%|██████████| 547/547 [03:27<00:00,  2.64it/s]\n",
      "Training: 100%|██████████| 4920/4920 [00:56<00:00, 87.65it/s]\n",
      "Evaluating: 100%|██████████| 547/547 [00:02<00:00, 221.97it/s]\n",
      "Predicting spans: 100%|██████████| 547/547 [03:28<00:00,  2.63it/s]\n",
      "Training: 100%|██████████| 4920/4920 [00:56<00:00, 87.67it/s]\n",
      "Evaluating: 100%|██████████| 547/547 [00:02<00:00, 221.32it/s]\n",
      "Predicting spans: 100%|██████████| 547/547 [03:27<00:00,  2.63it/s]\n",
      "Training: 100%|██████████| 4920/4920 [00:56<00:00, 87.37it/s]\n",
      "Evaluating: 100%|██████████| 547/547 [00:02<00:00, 219.04it/s]\n",
      "Predicting spans: 100%|██████████| 547/547 [03:27<00:00,  2.64it/s]\n",
      "Training: 100%|██████████| 4920/4920 [00:56<00:00, 87.42it/s]\n",
      "Evaluating: 100%|██████████| 547/547 [00:02<00:00, 220.95it/s]\n",
      "Predicting spans: 100%|██████████| 547/547 [03:28<00:00,  2.63it/s]\n",
      "Training: 100%|██████████| 4920/4920 [00:56<00:00, 87.41it/s]\n",
      "Evaluating: 100%|██████████| 547/547 [00:02<00:00, 221.38it/s]\n",
      "Predicting spans: 100%|██████████| 547/547 [03:27<00:00,  2.64it/s]\n",
      "Training: 100%|██████████| 4920/4920 [00:56<00:00, 87.42it/s]\n",
      "Evaluating: 100%|██████████| 547/547 [00:02<00:00, 221.52it/s]\n",
      "Predicting spans: 100%|██████████| 547/547 [03:27<00:00,  2.63it/s]\n",
      "Training: 100%|██████████| 4920/4920 [00:56<00:00, 87.51it/s]\n",
      "Evaluating: 100%|██████████| 547/547 [00:02<00:00, 217.48it/s]\n",
      "Predicting spans: 100%|██████████| 547/547 [03:27<00:00,  2.63it/s]\n",
      "Training: 100%|██████████| 4920/4920 [00:56<00:00, 87.60it/s]\n",
      "Evaluating: 100%|██████████| 547/547 [00:02<00:00, 219.92it/s]\n",
      "Predicting spans: 100%|██████████| 547/547 [03:27<00:00,  2.63it/s]\n",
      "[I 2025-04-25 01:58:40,997] Trial 4 finished with value: 46.299469100180765 and parameters: {'hidden_size': 128, 'lr': 0.00017098628230429014, 'dropout': 0.26153906005021765, 'batch_size': 16, 'weight_decay': 0.0007685314474065228}. Best is trial 0 with value: 47.067081203157954.\n",
      "Training:  62%|██████▎   | 5/8 [7:54:08<4:32:02, 5440.92s/trial]"
     ]
    },
    {
     "name": "stdout",
     "output_type": "stream",
     "text": [
      "Trial 4 finished - F1: 46.30\n"
     ]
    },
    {
     "name": "stderr",
     "output_type": "stream",
     "text": [
      "Training: 100%|██████████| 4920/4920 [03:57<00:00, 20.69it/s]\n",
      "Evaluating: 100%|██████████| 547/547 [00:09<00:00, 57.41it/s]\n",
      "Predicting spans: 100%|██████████| 547/547 [03:42<00:00,  2.46it/s]\n",
      "Training: 100%|██████████| 4920/4920 [03:57<00:00, 20.72it/s]\n",
      "Evaluating: 100%|██████████| 547/547 [00:09<00:00, 57.49it/s]\n",
      "Predicting spans: 100%|██████████| 547/547 [03:48<00:00,  2.40it/s]\n",
      "Training: 100%|██████████| 4920/4920 [03:57<00:00, 20.71it/s]\n",
      "Evaluating: 100%|██████████| 547/547 [00:09<00:00, 57.74it/s]\n",
      "Predicting spans: 100%|██████████| 547/547 [03:41<00:00,  2.47it/s]\n",
      "Training: 100%|██████████| 4920/4920 [03:56<00:00, 20.80it/s]\n",
      "Evaluating: 100%|██████████| 547/547 [00:09<00:00, 57.44it/s]\n",
      "Predicting spans: 100%|██████████| 547/547 [03:45<00:00,  2.43it/s]\n",
      "Training: 100%|██████████| 4920/4920 [03:56<00:00, 20.79it/s]\n",
      "Evaluating: 100%|██████████| 547/547 [00:09<00:00, 57.11it/s]\n",
      "Predicting spans: 100%|██████████| 547/547 [03:43<00:00,  2.45it/s]\n",
      "Training: 100%|██████████| 4920/4920 [03:57<00:00, 20.74it/s]\n",
      "Evaluating: 100%|██████████| 547/547 [00:09<00:00, 57.25it/s]\n",
      "Predicting spans: 100%|██████████| 547/547 [03:42<00:00,  2.46it/s]\n",
      "Training: 100%|██████████| 4920/4920 [03:57<00:00, 20.76it/s]\n",
      "Evaluating: 100%|██████████| 547/547 [00:09<00:00, 57.46it/s]\n",
      "Predicting spans: 100%|██████████| 547/547 [03:45<00:00,  2.43it/s]\n",
      "Training: 100%|██████████| 4920/4920 [03:57<00:00, 20.74it/s]\n",
      "Evaluating: 100%|██████████| 547/547 [00:09<00:00, 57.50it/s]\n",
      "Predicting spans: 100%|██████████| 547/547 [03:44<00:00,  2.43it/s]\n",
      "Training: 100%|██████████| 4920/4920 [03:57<00:00, 20.70it/s]\n",
      "Evaluating: 100%|██████████| 547/547 [00:09<00:00, 57.56it/s]\n",
      "Predicting spans: 100%|██████████| 547/547 [03:42<00:00,  2.45it/s]\n",
      "Training: 100%|██████████| 4920/4920 [03:57<00:00, 20.69it/s]\n",
      "Evaluating: 100%|██████████| 547/547 [00:09<00:00, 57.31it/s]\n",
      "Predicting spans: 100%|██████████| 547/547 [03:43<00:00,  2.45it/s]\n",
      "[I 2025-04-25 03:17:13,597] Trial 5 finished with value: 50.50085534137113 and parameters: {'hidden_size': 256, 'lr': 0.00036133685205630325, 'dropout': 0.2722185960157446, 'batch_size': 16, 'weight_decay': 4.819169213547658e-06}. Best is trial 5 with value: 50.50085534137113.\n",
      "Training:  75%|███████▌  | 6/8 [9:12:41<2:53:06, 5193.29s/trial]"
     ]
    },
    {
     "name": "stdout",
     "output_type": "stream",
     "text": [
      "Trial 5 finished - F1: 50.50\n"
     ]
    },
    {
     "name": "stderr",
     "output_type": "stream",
     "text": [
      "Training: 100%|██████████| 4920/4920 [03:57<00:00, 20.72it/s]\n",
      "Evaluating: 100%|██████████| 547/547 [00:09<00:00, 57.43it/s]\n",
      "Predicting spans: 100%|██████████| 547/547 [03:44<00:00,  2.43it/s]\n",
      "Training: 100%|██████████| 4920/4920 [03:56<00:00, 20.78it/s]\n",
      "Evaluating: 100%|██████████| 547/547 [00:09<00:00, 57.21it/s]\n",
      "Predicting spans: 100%|██████████| 547/547 [03:45<00:00,  2.42it/s]\n",
      "Training: 100%|██████████| 4920/4920 [03:57<00:00, 20.72it/s]\n",
      "Evaluating: 100%|██████████| 547/547 [00:09<00:00, 57.51it/s]\n",
      "Predicting spans: 100%|██████████| 547/547 [03:44<00:00,  2.44it/s]\n",
      "Training: 100%|██████████| 4920/4920 [03:57<00:00, 20.73it/s]\n",
      "Evaluating: 100%|██████████| 547/547 [00:09<00:00, 57.25it/s]\n",
      "Predicting spans: 100%|██████████| 547/547 [03:44<00:00,  2.43it/s]\n",
      "Training: 100%|██████████| 4920/4920 [03:57<00:00, 20.75it/s]\n",
      "Evaluating: 100%|██████████| 547/547 [00:09<00:00, 57.28it/s]\n",
      "Predicting spans: 100%|██████████| 547/547 [03:44<00:00,  2.44it/s]\n",
      "Training: 100%|██████████| 4920/4920 [03:57<00:00, 20.75it/s]\n",
      "Evaluating: 100%|██████████| 547/547 [00:09<00:00, 57.64it/s]\n",
      "Predicting spans: 100%|██████████| 547/547 [03:43<00:00,  2.45it/s]\n",
      "Training: 100%|██████████| 4920/4920 [03:57<00:00, 20.74it/s]\n",
      "Evaluating: 100%|██████████| 547/547 [00:09<00:00, 57.33it/s]\n",
      "Predicting spans: 100%|██████████| 547/547 [03:45<00:00,  2.43it/s]\n",
      "[I 2025-04-25 04:12:16,390] Trial 6 pruned. \n",
      "Training:  88%|████████▊ | 7/8 [10:07:44<1:16:15, 4575.24s/trial]"
     ]
    },
    {
     "name": "stdout",
     "output_type": "stream",
     "text": [
      "Trial 6 finished - F1: 41.74\n"
     ]
    },
    {
     "name": "stderr",
     "output_type": "stream",
     "text": [
      "Training: 100%|██████████| 4920/4920 [03:57<00:00, 20.74it/s]\n",
      "Evaluating: 100%|██████████| 547/547 [00:09<00:00, 57.30it/s]\n",
      "Predicting spans: 100%|██████████| 547/547 [03:45<00:00,  2.42it/s]\n",
      "Training: 100%|██████████| 4920/4920 [03:57<00:00, 20.68it/s]\n",
      "Evaluating: 100%|██████████| 547/547 [00:09<00:00, 57.20it/s]\n",
      "Predicting spans: 100%|██████████| 547/547 [03:45<00:00,  2.43it/s]\n",
      "Training: 100%|██████████| 4920/4920 [03:58<00:00, 20.67it/s]\n",
      "Evaluating: 100%|██████████| 547/547 [00:09<00:00, 57.57it/s]\n",
      "Predicting spans: 100%|██████████| 547/547 [03:47<00:00,  2.41it/s]\n",
      "Training: 100%|██████████| 4920/4920 [03:58<00:00, 20.65it/s]\n",
      "Evaluating: 100%|██████████| 547/547 [00:09<00:00, 57.28it/s]\n",
      "Predicting spans: 100%|██████████| 547/547 [03:45<00:00,  2.43it/s]\n",
      "Training: 100%|██████████| 4920/4920 [03:57<00:00, 20.70it/s]\n",
      "Evaluating: 100%|██████████| 547/547 [00:09<00:00, 57.45it/s]\n",
      "Predicting spans: 100%|██████████| 547/547 [03:42<00:00,  2.46it/s]\n",
      "[I 2025-04-25 04:51:41,076] Trial 7 pruned. \n",
      "Training: 100%|██████████| 8/8 [10:47:08<00:00, 4853.60s/trial]  "
     ]
    },
    {
     "name": "stdout",
     "output_type": "stream",
     "text": [
      "Trial 7 finished - F1: 37.71\n",
      "Best trial (trial 5) hyperparameters: {'hidden_size': 256, 'lr': 0.00036133685205630325, 'dropout': 0.2722185960157446, 'batch_size': 16, 'weight_decay': 4.819169213547658e-06}\n",
      "Best model saved to: saved_models/Plain_LSTMs_best_model.pt\n"
     ]
    },
    {
     "name": "stderr",
     "output_type": "stream",
     "text": [
      "\n"
     ]
    }
   ],
   "source": [
    "# Run Optuna for model w/o attention\n",
    "best_trial_plain, history_plain = run_optuna(use_attention=False, model_name=\"Plain LSTMs\")"
   ]
  },
  {
   "cell_type": "code",
   "execution_count": null,
   "id": "5c49335b",
   "metadata": {},
   "outputs": [
    {
     "name": "stdout",
     "output_type": "stream",
     "text": [
      "{'hidden_size': 256, 'lr': 0.00036133685205630325, 'dropout': 0.2722185960157446, 'batch_size': 16, 'weight_decay': 4.819169213547658e-06}\n"
     ]
    }
   ],
   "source": [
    "# this used random weights --> not the best trained model\n",
    "best_params_lstm = best_trial_plain.params\n",
    "print(best_params_lstm)\n",
    "\n",
    "best_lstm_model = BiLSTM_QA(\n",
    "    embedding_matrix=embedding_matrix,\n",
    "    hidden_size=best_params_lstm[\"hidden_size\"],\n",
    "    dropout=best_params_lstm[\"dropout\"],\n",
    "    use_attention=True\n",
    ").to(device)"
   ]
  },
  {
   "cell_type": "code",
   "execution_count": 37,
   "id": "2d793efb",
   "metadata": {},
   "outputs": [
    {
     "name": "stdout",
     "output_type": "stream",
     "text": [
      "Plot saved to plots/Plain_LSTMs_loss_accuracy.png\n"
     ]
    },
    {
     "data": {
      "image/png": "[encoded data removed]",
      "text/plain": [
       "<Figure size 2000x1000 with 2 Axes>"
      ]
     },
     "metadata": {},
     "output_type": "display_data"
    }
   ],
   "source": [
    "summarize_diagnostics(history_plain, model_name=\"Plain_LSTMs\")"
   ]
  },
  {
   "cell_type": "code",
   "execution_count": 38,
   "id": "d82c1e7e",
   "metadata": {},
   "outputs": [
    {
     "data": {
      "text/html": [
       "<div>\n",
       "<style scoped>\n",
       "    .dataframe tbody tr th:only-of-type {\n",
       "        vertical-align: middle;\n",
       "    }\n",
       "\n",
       "    .dataframe tbody tr th {\n",
       "        vertical-align: top;\n",
       "    }\n",
       "\n",
       "    .dataframe thead th {\n",
       "        text-align: right;\n",
       "    }\n",
       "</style>\n",
       "<table border=\"1\" class=\"dataframe\">\n",
       "  <thead>\n",
       "    <tr style=\"text-align: right;\">\n",
       "      <th></th>\n",
       "      <th>model_name</th>\n",
       "      <th>best_hyperparameters</th>\n",
       "      <th>val_loss</th>\n",
       "      <th>val_exact_match</th>\n",
       "      <th>val_f1</th>\n",
       "      <th>training_time</th>\n",
       "    </tr>\n",
       "  </thead>\n",
       "  <tbody>\n",
       "    <tr>\n",
       "      <th>0</th>\n",
       "      <td>Plain LSTMs</td>\n",
       "      <td>{'hidden_size': 256, 'lr': 0.00036133685205630...</td>\n",
       "      <td>2.60727</td>\n",
       "      <td>37.742968</td>\n",
       "      <td>50.500855</td>\n",
       "      <td>4712.45</td>\n",
       "    </tr>\n",
       "  </tbody>\n",
       "</table>\n",
       "</div>"
      ],
      "text/plain": [
       "    model_name                               best_hyperparameters  val_loss  \\\n",
       "0  Plain LSTMs  {'hidden_size': 256, 'lr': 0.00036133685205630...   2.60727   \n",
       "\n",
       "   val_exact_match     val_f1  training_time  \n",
       "0        37.742968  50.500855        4712.45  "
      ]
     },
     "execution_count": 38,
     "metadata": {},
     "output_type": "execute_result"
    }
   ],
   "source": [
    "comparison_df"
   ]
  },
  {
   "cell_type": "code",
   "execution_count": 24,
   "id": "fb0f93a7",
   "metadata": {},
   "outputs": [
    {
     "data": {
      "text/plain": [
       "BiLSTM_QA(\n",
       "  (embedding): Embedding(73152, 300)\n",
       "  (context_lstm): LSTM(300, 256, batch_first=True, bidirectional=True)\n",
       "  (question_lstm): LSTM(300, 256, batch_first=True, bidirectional=True)\n",
       "  (dropout): Dropout(p=0.2722185960157446, inplace=False)\n",
       "  (modeling_lstm_1): LSTM(1024, 256, batch_first=True, bidirectional=True)\n",
       "  (modeling_lstm_2): LSTM(512, 256, batch_first=True, bidirectional=True)\n",
       "  (layer_norm): LayerNorm((512,), eps=1e-05, elementwise_affine=True)\n",
       "  (start_fc): Linear(in_features=512, out_features=1, bias=True)\n",
       "  (end_fc): Linear(in_features=512, out_features=1, bias=True)\n",
       ")"
      ]
     },
     "execution_count": 24,
     "metadata": {},
     "output_type": "execute_result"
    }
   ],
   "source": [
    "best_lstm_model = BiLSTM_QA(\n",
    "    embedding_matrix=embedding_matrix,\n",
    "    hidden_size=256,\n",
    "    dropout=0.2722185960157446,\n",
    "    use_attention=False  # Plain LSTMs\n",
    ")\n",
    "best_lstm_model.load_state_dict(torch.load(\"saved_models_300d/Plain_LSTMs_best_model.pt\", map_location=device))\n",
    "best_lstm_model.to(device)"
   ]
  },
  {
   "cell_type": "code",
   "execution_count": 31,
   "id": "1c698bd6",
   "metadata": {},
   "outputs": [
    {
     "name": "stderr",
     "output_type": "stream",
     "text": [
      "[I 2025-04-25 11:26:29,672] A new study created in memory with name: no-name-95d56991-1f23-4a81-9502-312c30804fae\n",
      "Training: 100%|██████████| 4920/4920 [06:54<00:00, 11.88it/s]\n",
      "Evaluating: 100%|██████████| 547/547 [00:16<00:00, 33.70it/s]\n",
      "Predicting spans: 100%|██████████| 547/547 [03:35<00:00,  2.53it/s]\n",
      "Training: 100%|██████████| 4920/4920 [06:26<00:00, 12.75it/s]\n",
      "Evaluating: 100%|██████████| 547/547 [00:15<00:00, 35.71it/s]\n",
      "Predicting spans: 100%|██████████| 547/547 [03:35<00:00,  2.54it/s]\n",
      "Training: 100%|██████████| 4920/4920 [06:53<00:00, 11.90it/s]\n",
      "Evaluating: 100%|██████████| 547/547 [00:16<00:00, 33.67it/s]\n",
      "Predicting spans: 100%|██████████| 547/547 [03:41<00:00,  2.47it/s]\n",
      "Training: 100%|██████████| 4920/4920 [06:26<00:00, 12.74it/s]\n",
      "Evaluating: 100%|██████████| 547/547 [00:15<00:00, 35.76it/s]\n",
      "Predicting spans: 100%|██████████| 547/547 [03:39<00:00,  2.49it/s]\n",
      "Training: 100%|██████████| 4920/4920 [06:29<00:00, 12.62it/s]\n",
      "Evaluating: 100%|██████████| 547/547 [00:15<00:00, 36.00it/s]\n",
      "Predicting spans: 100%|██████████| 547/547 [03:39<00:00,  2.50it/s]\n",
      "Training: 100%|██████████| 4920/4920 [06:29<00:00, 12.62it/s]\n",
      "Evaluating: 100%|██████████| 547/547 [00:15<00:00, 35.87it/s]\n",
      "Predicting spans: 100%|██████████| 547/547 [03:39<00:00,  2.49it/s]\n",
      "Training: 100%|██████████| 4920/4920 [06:29<00:00, 12.63it/s]\n",
      "Evaluating: 100%|██████████| 547/547 [00:15<00:00, 35.51it/s]\n",
      "Predicting spans: 100%|██████████| 547/547 [03:37<00:00,  2.52it/s]\n",
      "Training: 100%|██████████| 4920/4920 [06:46<00:00, 12.09it/s]\n",
      "Evaluating: 100%|██████████| 547/547 [00:16<00:00, 34.10it/s]\n",
      "Predicting spans: 100%|██████████| 547/547 [03:38<00:00,  2.50it/s]\n",
      "Training: 100%|██████████| 4920/4920 [06:31<00:00, 12.57it/s]\n",
      "Evaluating: 100%|██████████| 547/547 [00:15<00:00, 35.98it/s]\n",
      "Predicting spans: 100%|██████████| 547/547 [03:36<00:00,  2.53it/s]\n",
      "Training: 100%|██████████| 4920/4920 [06:30<00:00, 12.61it/s]\n",
      "Evaluating: 100%|██████████| 547/547 [00:15<00:00, 35.85it/s]\n",
      "Predicting spans: 100%|██████████| 547/547 [03:35<00:00,  2.54it/s]\n",
      "Training: 100%|██████████| 4920/4920 [07:04<00:00, 11.60it/s]\n",
      "Evaluating: 100%|██████████| 547/547 [00:16<00:00, 32.59it/s]\n",
      "Predicting spans: 100%|██████████| 547/547 [03:35<00:00,  2.54it/s]\n",
      "Training: 100%|██████████| 4920/4920 [06:56<00:00, 11.82it/s]\n",
      "Evaluating: 100%|██████████| 547/547 [00:16<00:00, 33.71it/s]\n",
      "Predicting spans: 100%|██████████| 547/547 [03:36<00:00,  2.52it/s]\n",
      "Training: 100%|██████████| 4920/4920 [06:33<00:00, 12.51it/s]\n",
      "Evaluating: 100%|██████████| 547/547 [00:15<00:00, 35.62it/s]\n",
      "Predicting spans: 100%|██████████| 547/547 [03:39<00:00,  2.49it/s]\n",
      "Training: 100%|██████████| 4920/4920 [06:33<00:00, 12.49it/s]\n",
      "Evaluating: 100%|██████████| 547/547 [00:15<00:00, 35.62it/s]\n",
      "Predicting spans: 100%|██████████| 547/547 [03:43<00:00,  2.45it/s]\n",
      "[I 2025-04-25 13:54:14,117] Trial 0 finished with value: 56.70905174141675 and parameters: {'hidden_size': 256, 'lr': 9.171294514232545e-05, 'dropout': 0.37066368017596363, 'batch_size': 16, 'weight_decay': 1.3846118559345098e-06}. Best is trial 0 with value: 56.70905174141675.\n",
      "Training:  12%|█▎        | 1/8 [2:27:44<17:14:11, 8864.44s/trial]"
     ]
    },
    {
     "name": "stdout",
     "output_type": "stream",
     "text": [
      "Trial 0 finished - F1: 56.71\n"
     ]
    },
    {
     "name": "stderr",
     "output_type": "stream",
     "text": [
      "Training: 100%|██████████| 4920/4920 [06:00<00:00, 13.65it/s]\n",
      "Evaluating: 100%|██████████| 547/547 [00:21<00:00, 24.91it/s]\n",
      "Predicting spans: 100%|██████████| 547/547 [03:37<00:00,  2.52it/s]\n",
      "Training: 100%|██████████| 4920/4920 [05:59<00:00, 13.68it/s]\n",
      "Evaluating: 100%|██████████| 547/547 [00:21<00:00, 24.91it/s]\n",
      "Predicting spans: 100%|██████████| 547/547 [03:36<00:00,  2.52it/s]\n",
      "Training: 100%|██████████| 4920/4920 [05:59<00:00, 13.70it/s]\n",
      "Evaluating: 100%|██████████| 547/547 [00:21<00:00, 24.90it/s]\n",
      "Predicting spans: 100%|██████████| 547/547 [03:37<00:00,  2.51it/s]\n",
      "Training: 100%|██████████| 4920/4920 [05:59<00:00, 13.68it/s]\n",
      "Evaluating: 100%|██████████| 547/547 [00:21<00:00, 24.93it/s]\n",
      "Predicting spans: 100%|██████████| 547/547 [03:36<00:00,  2.53it/s]\n",
      "Training: 100%|██████████| 4920/4920 [06:00<00:00, 13.64it/s]\n",
      "Evaluating: 100%|██████████| 547/547 [00:21<00:00, 24.87it/s]\n",
      "Predicting spans: 100%|██████████| 547/547 [03:36<00:00,  2.53it/s]\n",
      "Training: 100%|██████████| 4920/4920 [06:18<00:00, 13.01it/s]\n",
      "Evaluating: 100%|██████████| 547/547 [00:24<00:00, 22.49it/s]\n",
      "Predicting spans: 100%|██████████| 547/547 [03:35<00:00,  2.53it/s]\n",
      "Training: 100%|██████████| 4920/4920 [06:27<00:00, 12.69it/s]\n",
      "Evaluating: 100%|██████████| 547/547 [00:23<00:00, 22.93it/s]\n",
      "Predicting spans: 100%|██████████| 547/547 [03:38<00:00,  2.50it/s]\n",
      "Training: 100%|██████████| 4920/4920 [06:35<00:00, 12.44it/s]\n",
      "Evaluating: 100%|██████████| 547/547 [00:23<00:00, 23.60it/s]\n",
      "Predicting spans: 100%|██████████| 547/547 [03:37<00:00,  2.52it/s]\n",
      "Training: 100%|██████████| 4920/4920 [06:02<00:00, 13.59it/s]\n",
      "Evaluating: 100%|██████████| 547/547 [00:22<00:00, 24.80it/s]\n",
      "Predicting spans: 100%|██████████| 547/547 [03:36<00:00,  2.52it/s]\n",
      "Training: 100%|██████████| 4920/4920 [06:02<00:00, 13.59it/s]\n",
      "Evaluating: 100%|██████████| 547/547 [00:21<00:00, 24.89it/s]\n",
      "Predicting spans: 100%|██████████| 547/547 [03:36<00:00,  2.53it/s]\n",
      "Training: 100%|██████████| 4920/4920 [06:01<00:00, 13.61it/s]\n",
      "Evaluating: 100%|██████████| 547/547 [00:22<00:00, 24.73it/s]\n",
      "Predicting spans: 100%|██████████| 547/547 [03:35<00:00,  2.54it/s]\n",
      "Training: 100%|██████████| 4920/4920 [06:01<00:00, 13.60it/s]\n",
      "Evaluating: 100%|██████████| 547/547 [00:22<00:00, 24.72it/s]\n",
      "Predicting spans: 100%|██████████| 547/547 [03:35<00:00,  2.54it/s]\n",
      "Training: 100%|██████████| 4920/4920 [06:01<00:00, 13.61it/s]\n",
      "Evaluating: 100%|██████████| 547/547 [00:22<00:00, 24.80it/s]\n",
      "Predicting spans: 100%|██████████| 547/547 [03:37<00:00,  2.51it/s]\n",
      "Training: 100%|██████████| 4920/4920 [06:02<00:00, 13.56it/s]\n",
      "Evaluating: 100%|██████████| 547/547 [00:22<00:00, 24.78it/s]\n",
      "Predicting spans: 100%|██████████| 547/547 [03:37<00:00,  2.52it/s]\n",
      "Training: 100%|██████████| 4920/4920 [06:01<00:00, 13.61it/s]\n",
      "Evaluating: 100%|██████████| 547/547 [00:22<00:00, 24.69it/s]\n",
      "Predicting spans: 100%|██████████| 547/547 [03:36<00:00,  2.52it/s]\n",
      "Training: 100%|██████████| 4920/4920 [06:02<00:00, 13.58it/s]\n",
      "Evaluating: 100%|██████████| 547/547 [00:22<00:00, 24.86it/s]\n",
      "Predicting spans: 100%|██████████| 547/547 [03:38<00:00,  2.50it/s]\n",
      "Training: 100%|██████████| 4920/4920 [06:02<00:00, 13.56it/s]\n",
      "Evaluating: 100%|██████████| 547/547 [00:22<00:00, 24.78it/s]\n",
      "Predicting spans: 100%|██████████| 547/547 [03:36<00:00,  2.52it/s]\n",
      "Training: 100%|██████████| 4920/4920 [06:02<00:00, 13.57it/s]\n",
      "Evaluating: 100%|██████████| 547/547 [00:22<00:00, 24.74it/s]\n",
      "Predicting spans: 100%|██████████| 547/547 [03:37<00:00,  2.51it/s]\n",
      "Training: 100%|██████████| 4920/4920 [06:02<00:00, 13.56it/s]\n",
      "Evaluating: 100%|██████████| 547/547 [00:22<00:00, 24.69it/s]\n",
      "Predicting spans: 100%|██████████| 547/547 [03:37<00:00,  2.51it/s]\n",
      "[I 2025-04-25 17:05:53,831] Trial 1 finished with value: 54.800965813719735 and parameters: {'hidden_size': 128, 'lr': 7.73604279492117e-05, 'dropout': 0.2173394077289431, 'batch_size': 16, 'weight_decay': 1.2915042198057939e-05}. Best is trial 0 with value: 56.70905174141675.\n",
      "Training:  25%|██▌       | 2/8 [5:39:24<17:21:27, 10414.60s/trial]"
     ]
    },
    {
     "name": "stdout",
     "output_type": "stream",
     "text": [
      "Trial 1 finished - F1: 54.80\n"
     ]
    },
    {
     "name": "stderr",
     "output_type": "stream",
     "text": [
      "Training: 100%|██████████| 4920/4920 [06:01<00:00, 13.61it/s]\n",
      "Evaluating: 100%|██████████| 547/547 [00:22<00:00, 24.80it/s]\n",
      "Predicting spans: 100%|██████████| 547/547 [03:34<00:00,  2.55it/s]\n",
      "Training: 100%|██████████| 4920/4920 [06:01<00:00, 13.62it/s]\n",
      "Evaluating: 100%|██████████| 547/547 [00:22<00:00, 24.82it/s]\n",
      "Predicting spans: 100%|██████████| 547/547 [03:37<00:00,  2.51it/s]\n",
      "Training: 100%|██████████| 4920/4920 [06:01<00:00, 13.59it/s]\n",
      "Evaluating: 100%|██████████| 547/547 [00:22<00:00, 24.77it/s]\n",
      "Predicting spans: 100%|██████████| 547/547 [03:37<00:00,  2.52it/s]\n",
      "Training: 100%|██████████| 4920/4920 [06:01<00:00, 13.61it/s]\n",
      "Evaluating: 100%|██████████| 547/547 [00:22<00:00, 24.79it/s]\n",
      "Predicting spans: 100%|██████████| 547/547 [03:37<00:00,  2.52it/s]\n",
      "Training: 100%|██████████| 4920/4920 [06:02<00:00, 13.59it/s]\n",
      "Evaluating: 100%|██████████| 547/547 [00:22<00:00, 24.81it/s]\n",
      "Predicting spans: 100%|██████████| 547/547 [03:38<00:00,  2.51it/s]\n",
      "Training: 100%|██████████| 4920/4920 [06:02<00:00, 13.57it/s]\n",
      "Evaluating: 100%|██████████| 547/547 [00:22<00:00, 24.74it/s]\n",
      "Predicting spans: 100%|██████████| 547/547 [03:37<00:00,  2.51it/s]\n",
      "Training: 100%|██████████| 4920/4920 [06:02<00:00, 13.57it/s]\n",
      "Evaluating: 100%|██████████| 547/547 [00:22<00:00, 24.76it/s]\n",
      "Predicting spans: 100%|██████████| 547/547 [03:38<00:00,  2.51it/s]\n",
      "Training: 100%|██████████| 4920/4920 [06:02<00:00, 13.59it/s]\n",
      "Evaluating: 100%|██████████| 547/547 [00:22<00:00, 24.75it/s]\n",
      "Predicting spans: 100%|██████████| 547/547 [03:37<00:00,  2.52it/s]\n",
      "Training: 100%|██████████| 4920/4920 [06:01<00:00, 13.59it/s]\n",
      "Evaluating: 100%|██████████| 547/547 [00:22<00:00, 24.74it/s]\n",
      "Predicting spans: 100%|██████████| 547/547 [03:37<00:00,  2.52it/s]\n",
      "Training: 100%|██████████| 4920/4920 [06:01<00:00, 13.60it/s]\n",
      "Evaluating: 100%|██████████| 547/547 [00:22<00:00, 24.76it/s]\n",
      "Predicting spans: 100%|██████████| 547/547 [03:37<00:00,  2.52it/s]\n",
      "Training: 100%|██████████| 4920/4920 [06:01<00:00, 13.59it/s]\n",
      "Evaluating: 100%|██████████| 547/547 [00:22<00:00, 24.78it/s]\n",
      "Predicting spans: 100%|██████████| 547/547 [03:37<00:00,  2.51it/s]\n",
      "Training: 100%|██████████| 4920/4920 [06:02<00:00, 13.57it/s]\n",
      "Evaluating: 100%|██████████| 547/547 [00:22<00:00, 24.72it/s]\n",
      "Predicting spans: 100%|██████████| 547/547 [03:37<00:00,  2.52it/s]\n",
      "Training: 100%|██████████| 4920/4920 [06:02<00:00, 13.58it/s]\n",
      "Evaluating: 100%|██████████| 547/547 [00:22<00:00, 24.75it/s]\n",
      "Predicting spans: 100%|██████████| 547/547 [03:38<00:00,  2.50it/s]\n",
      "Training: 100%|██████████| 4920/4920 [06:02<00:00, 13.58it/s]\n",
      "Evaluating: 100%|██████████| 547/547 [00:22<00:00, 24.80it/s]\n",
      "Predicting spans: 100%|██████████| 547/547 [03:37<00:00,  2.51it/s]\n",
      "Training: 100%|██████████| 4920/4920 [06:01<00:00, 13.60it/s]\n",
      "Evaluating: 100%|██████████| 547/547 [00:22<00:00, 24.68it/s]\n",
      "Predicting spans: 100%|██████████| 547/547 [03:38<00:00,  2.51it/s]\n",
      "Training: 100%|██████████| 4920/4920 [06:02<00:00, 13.56it/s]\n",
      "Evaluating: 100%|██████████| 547/547 [00:22<00:00, 24.70it/s]\n",
      "Predicting spans: 100%|██████████| 547/547 [03:38<00:00,  2.51it/s]\n",
      "Training: 100%|██████████| 4920/4920 [06:01<00:00, 13.60it/s]\n",
      "Evaluating: 100%|██████████| 547/547 [00:22<00:00, 24.74it/s]\n",
      "Predicting spans: 100%|██████████| 547/547 [03:37<00:00,  2.52it/s]\n",
      "Training: 100%|██████████| 4920/4920 [06:01<00:00, 13.61it/s]\n",
      "Evaluating: 100%|██████████| 547/547 [00:22<00:00, 24.66it/s]\n",
      "Predicting spans: 100%|██████████| 547/547 [03:37<00:00,  2.52it/s]\n",
      "Training: 100%|██████████| 4920/4920 [06:02<00:00, 13.59it/s]\n",
      "Evaluating: 100%|██████████| 547/547 [00:22<00:00, 24.69it/s]\n",
      "Predicting spans: 100%|██████████| 547/547 [03:37<00:00,  2.51it/s]\n",
      "Training: 100%|██████████| 4920/4920 [06:02<00:00, 13.59it/s]\n",
      "Evaluating: 100%|██████████| 547/547 [00:22<00:00, 24.72it/s]\n",
      "Predicting spans: 100%|██████████| 547/547 [03:37<00:00,  2.52it/s]\n",
      "[I 2025-04-25 20:26:34,638] Trial 2 finished with value: 54.89599128078146 and parameters: {'hidden_size': 128, 'lr': 5.75073424593856e-05, 'dropout': 0.3578789531333175, 'batch_size': 16, 'weight_decay': 1.0093445810254733e-06}. Best is trial 0 with value: 56.70905174141675.\n",
      "Training:  38%|███▊      | 3/8 [9:00:04<15:29:45, 11157.16s/trial]"
     ]
    },
    {
     "name": "stdout",
     "output_type": "stream",
     "text": [
      "Trial 2 finished - F1: 54.90\n"
     ]
    },
    {
     "name": "stderr",
     "output_type": "stream",
     "text": [
      "Training: 100%|██████████| 4920/4920 [06:01<00:00, 13.60it/s]\n",
      "Evaluating: 100%|██████████| 547/547 [00:22<00:00, 24.81it/s]\n",
      "Predicting spans: 100%|██████████| 547/547 [03:37<00:00,  2.51it/s]\n",
      "Training: 100%|██████████| 4920/4920 [06:01<00:00, 13.63it/s]\n",
      "Evaluating: 100%|██████████| 547/547 [00:22<00:00, 24.70it/s]\n",
      "Predicting spans: 100%|██████████| 547/547 [03:36<00:00,  2.52it/s]\n",
      "Training: 100%|██████████| 4920/4920 [06:03<00:00, 13.52it/s]\n",
      "Evaluating: 100%|██████████| 547/547 [00:22<00:00, 24.70it/s]\n",
      "Predicting spans: 100%|██████████| 547/547 [03:37<00:00,  2.52it/s]\n",
      "Training: 100%|██████████| 4920/4920 [06:02<00:00, 13.58it/s]\n",
      "Evaluating: 100%|██████████| 547/547 [00:22<00:00, 24.72it/s]\n",
      "Predicting spans: 100%|██████████| 547/547 [03:37<00:00,  2.51it/s]\n",
      "Training: 100%|██████████| 4920/4920 [06:02<00:00, 13.56it/s]\n",
      "Evaluating: 100%|██████████| 547/547 [00:22<00:00, 24.70it/s]\n",
      "Predicting spans: 100%|██████████| 547/547 [03:37<00:00,  2.52it/s]\n",
      "Training: 100%|██████████| 4920/4920 [06:03<00:00, 13.55it/s]\n",
      "Evaluating: 100%|██████████| 547/547 [00:22<00:00, 24.64it/s]\n",
      "Predicting spans: 100%|██████████| 547/547 [03:37<00:00,  2.52it/s]\n",
      "Training: 100%|██████████| 4920/4920 [06:02<00:00, 13.57it/s]\n",
      "Evaluating: 100%|██████████| 547/547 [00:22<00:00, 24.73it/s]\n",
      "Predicting spans: 100%|██████████| 547/547 [03:35<00:00,  2.54it/s]\n",
      "Training: 100%|██████████| 4920/4920 [06:02<00:00, 13.56it/s]\n",
      "Evaluating: 100%|██████████| 547/547 [00:22<00:00, 24.68it/s]\n",
      "Predicting spans: 100%|██████████| 547/547 [03:35<00:00,  2.54it/s]\n",
      "Training: 100%|██████████| 4920/4920 [06:03<00:00, 13.55it/s]\n",
      "Evaluating: 100%|██████████| 547/547 [00:22<00:00, 24.69it/s]\n",
      "Predicting spans: 100%|██████████| 547/547 [03:34<00:00,  2.55it/s]\n",
      "Training: 100%|██████████| 4920/4920 [06:02<00:00, 13.58it/s]\n",
      "Evaluating: 100%|██████████| 547/547 [00:22<00:00, 24.67it/s]\n",
      "Predicting spans: 100%|██████████| 547/547 [03:33<00:00,  2.56it/s]\n",
      "[I 2025-04-25 22:06:49,590] Trial 3 finished with value: 66.47776402726555 and parameters: {'hidden_size': 128, 'lr': 0.0004637696096321046, 'dropout': 0.23763159681072626, 'batch_size': 16, 'weight_decay': 1.2342067058189668e-06}. Best is trial 3 with value: 66.47776402726555.\n",
      "Training:  50%|█████     | 4/8 [10:40:19<10:08:28, 9127.07s/trial]"
     ]
    },
    {
     "name": "stdout",
     "output_type": "stream",
     "text": [
      "Trial 3 finished - F1: 66.48\n"
     ]
    },
    {
     "name": "stderr",
     "output_type": "stream",
     "text": [
      "Training: 100%|██████████| 2460/2460 [30:17<00:00,  1.35it/s]\n",
      "Evaluating: 100%|██████████| 274/274 [00:58<00:00,  4.70it/s]\n",
      "Predicting spans: 100%|██████████| 274/274 [04:22<00:00,  1.05it/s]\n",
      "Training: 100%|██████████| 2460/2460 [31:54<00:00,  1.28it/s]\n",
      "Evaluating: 100%|██████████| 274/274 [01:00<00:00,  4.51it/s]\n",
      "Predicting spans: 100%|██████████| 274/274 [04:17<00:00,  1.07it/s]\n",
      "Training: 100%|██████████| 2460/2460 [29:46<00:00,  1.38it/s]\n",
      "Evaluating: 100%|██████████| 274/274 [01:06<00:00,  4.14it/s]\n",
      "Predicting spans: 100%|██████████| 274/274 [04:23<00:00,  1.04it/s]\n",
      "Training: 100%|██████████| 2460/2460 [29:59<00:00,  1.37it/s]\n",
      "Evaluating: 100%|██████████| 274/274 [01:08<00:00,  4.02it/s]\n",
      "Predicting spans: 100%|██████████| 274/274 [04:24<00:00,  1.03it/s]\n",
      "Training: 100%|██████████| 2460/2460 [30:01<00:00,  1.37it/s]\n",
      "Evaluating: 100%|██████████| 274/274 [01:00<00:00,  4.51it/s]\n",
      "Predicting spans: 100%|██████████| 274/274 [04:17<00:00,  1.06it/s]\n",
      "Training: 100%|██████████| 2460/2460 [29:41<00:00,  1.38it/s]\n",
      "Evaluating: 100%|██████████| 274/274 [01:00<00:00,  4.50it/s]\n",
      "Predicting spans: 100%|██████████| 274/274 [04:17<00:00,  1.06it/s]\n",
      "Training: 100%|██████████| 2460/2460 [29:36<00:00,  1.38it/s]\n",
      "Evaluating: 100%|██████████| 274/274 [01:00<00:00,  4.50it/s]\n",
      "Predicting spans: 100%|██████████| 274/274 [04:17<00:00,  1.06it/s]\n",
      "Training: 100%|██████████| 2460/2460 [29:43<00:00,  1.38it/s]\n",
      "Evaluating: 100%|██████████| 274/274 [01:00<00:00,  4.50it/s]\n",
      "Predicting spans: 100%|██████████| 274/274 [04:17<00:00,  1.06it/s]\n",
      "Training: 100%|██████████| 2460/2460 [29:47<00:00,  1.38it/s]\n",
      "Evaluating: 100%|██████████| 274/274 [01:06<00:00,  4.13it/s]\n",
      "Predicting spans: 100%|██████████| 274/274 [04:23<00:00,  1.04it/s]\n",
      "Training: 100%|██████████| 2460/2460 [29:54<00:00,  1.37it/s]\n",
      "Evaluating: 100%|██████████| 274/274 [01:00<00:00,  4.50it/s]\n",
      "Predicting spans: 100%|██████████| 274/274 [04:17<00:00,  1.06it/s]\n",
      "Training: 100%|██████████| 2460/2460 [29:57<00:00,  1.37it/s]\n",
      "Evaluating: 100%|██████████| 274/274 [01:24<00:00,  3.23it/s]\n",
      "Predicting spans: 100%|██████████| 274/274 [04:40<00:00,  1.03s/it]\n",
      "Training: 100%|██████████| 2460/2460 [29:39<00:00,  1.38it/s]\n",
      "Evaluating: 100%|██████████| 274/274 [01:00<00:00,  4.50it/s]\n",
      "Predicting spans: 100%|██████████| 274/274 [04:17<00:00,  1.06it/s]\n",
      "Training: 100%|██████████| 2460/2460 [29:48<00:00,  1.38it/s]\n",
      "Evaluating: 100%|██████████| 274/274 [01:07<00:00,  4.06it/s]\n",
      "Predicting spans: 100%|██████████| 274/274 [04:24<00:00,  1.04it/s]\n",
      "Training: 100%|██████████| 2460/2460 [29:46<00:00,  1.38it/s]\n",
      "Evaluating: 100%|██████████| 274/274 [01:00<00:00,  4.51it/s]\n",
      "Predicting spans: 100%|██████████| 274/274 [04:17<00:00,  1.06it/s]\n",
      "Training: 100%|██████████| 2460/2460 [29:36<00:00,  1.38it/s]\n",
      "Evaluating: 100%|██████████| 274/274 [01:07<00:00,  4.04it/s]\n",
      "Predicting spans: 100%|██████████| 274/274 [04:24<00:00,  1.04it/s]\n",
      "Training: 100%|██████████| 2460/2460 [29:43<00:00,  1.38it/s]\n",
      "Evaluating: 100%|██████████| 274/274 [01:00<00:00,  4.50it/s]\n",
      "Predicting spans: 100%|██████████| 274/274 [04:17<00:00,  1.06it/s]\n",
      "Training: 100%|██████████| 2460/2460 [29:45<00:00,  1.38it/s]\n",
      "Evaluating: 100%|██████████| 274/274 [01:00<00:00,  4.50it/s]\n",
      "Predicting spans: 100%|██████████| 274/274 [04:17<00:00,  1.06it/s]\n",
      "[I 2025-04-26 08:08:02,200] Trial 4 finished with value: 52.968999144310764 and parameters: {'hidden_size': 256, 'lr': 5.2776081650932764e-05, 'dropout': 0.14882541792272475, 'batch_size': 32, 'weight_decay': 2.969718834140467e-06}. Best is trial 3 with value: 66.47776402726555.\n",
      "Training:  62%|██████▎   | 5/8 [20:41:32<15:42:11, 18843.83s/trial]"
     ]
    },
    {
     "name": "stdout",
     "output_type": "stream",
     "text": [
      "Trial 4 finished - F1: 52.97\n"
     ]
    },
    {
     "name": "stderr",
     "output_type": "stream",
     "text": [
      "Training: 100%|██████████| 4920/4920 [06:12<00:00, 13.21it/s]\n",
      "Evaluating: 100%|██████████| 547/547 [00:22<00:00, 23.90it/s]\n",
      "Predicting spans: 100%|██████████| 547/547 [03:38<00:00,  2.51it/s]\n",
      "[I 2025-04-26 08:18:15,855] Trial 5 pruned. \n",
      "Training:  75%|███████▌  | 6/8 [20:51:46<7:01:31, 12645.56s/trial] "
     ]
    },
    {
     "name": "stdout",
     "output_type": "stream",
     "text": [
      "Trial 5 finished - F1: 24.66\n"
     ]
    },
    {
     "name": "stderr",
     "output_type": "stream",
     "text": [
      "Training: 100%|██████████| 2460/2460 [05:59<00:00,  6.84it/s]\n",
      "Evaluating: 100%|██████████| 274/274 [00:21<00:00, 13.00it/s]\n",
      "Predicting spans: 100%|██████████| 274/274 [03:46<00:00,  1.21it/s]\n",
      "Training: 100%|██████████| 2460/2460 [06:03<00:00,  6.77it/s]\n",
      "Evaluating: 100%|██████████| 274/274 [00:21<00:00, 13.00it/s]\n",
      "Predicting spans: 100%|██████████| 274/274 [03:45<00:00,  1.21it/s]\n",
      "[I 2025-04-26 08:38:34,028] Trial 6 pruned. \n",
      "Training:  88%|████████▊ | 7/8 [21:12:04<2:28:29, 8909.68s/trial] "
     ]
    },
    {
     "name": "stdout",
     "output_type": "stream",
     "text": [
      "Trial 6 finished - F1: 32.48\n"
     ]
    },
    {
     "name": "stderr",
     "output_type": "stream",
     "text": [
      "Training: 100%|██████████| 4920/4920 [06:11<00:00, 13.26it/s]\n",
      "Evaluating: 100%|██████████| 547/547 [00:22<00:00, 24.02it/s]\n",
      "Predicting spans: 100%|██████████| 547/547 [03:37<00:00,  2.52it/s]\n",
      "Training: 100%|██████████| 4920/4920 [06:10<00:00, 13.27it/s]\n",
      "Evaluating: 100%|██████████| 547/547 [00:22<00:00, 24.02it/s]\n",
      "Predicting spans: 100%|██████████| 547/547 [03:37<00:00,  2.52it/s]\n",
      "Training: 100%|██████████| 4920/4920 [06:09<00:00, 13.31it/s]\n",
      "Evaluating: 100%|██████████| 547/547 [00:22<00:00, 24.11it/s]\n",
      "Predicting spans: 100%|██████████| 547/547 [03:37<00:00,  2.52it/s]\n",
      "Training: 100%|██████████| 4920/4920 [06:11<00:00, 13.26it/s]\n",
      "Evaluating: 100%|██████████| 547/547 [00:22<00:00, 24.02it/s]\n",
      "Predicting spans: 100%|██████████| 547/547 [03:37<00:00,  2.52it/s]\n",
      "Training: 100%|██████████| 4920/4920 [06:11<00:00, 13.23it/s]\n",
      "Evaluating: 100%|██████████| 547/547 [00:22<00:00, 24.07it/s]\n",
      "Predicting spans: 100%|██████████| 547/547 [03:37<00:00,  2.52it/s]\n",
      "Training: 100%|██████████| 4920/4920 [06:10<00:00, 13.27it/s]\n",
      "Evaluating: 100%|██████████| 547/547 [00:22<00:00, 24.04it/s]\n",
      "Predicting spans: 100%|██████████| 547/547 [03:37<00:00,  2.51it/s]\n",
      "Training: 100%|██████████| 4920/4920 [06:12<00:00, 13.22it/s]\n",
      "Evaluating: 100%|██████████| 547/547 [00:22<00:00, 24.01it/s]\n",
      "Predicting spans: 100%|██████████| 547/547 [03:37<00:00,  2.52it/s]\n",
      "Training: 100%|██████████| 4920/4920 [06:10<00:00, 13.26it/s]\n",
      "Evaluating: 100%|██████████| 547/547 [00:22<00:00, 23.99it/s]\n",
      "Predicting spans: 100%|██████████| 547/547 [03:37<00:00,  2.51it/s]\n",
      "Training: 100%|██████████| 4920/4920 [06:11<00:00, 13.24it/s]\n",
      "Evaluating: 100%|██████████| 547/547 [00:22<00:00, 24.00it/s]\n",
      "Predicting spans: 100%|██████████| 547/547 [03:38<00:00,  2.50it/s]\n",
      "Training: 100%|██████████| 4920/4920 [06:11<00:00, 13.24it/s]\n",
      "Evaluating: 100%|██████████| 547/547 [00:22<00:00, 23.99it/s]\n",
      "Predicting spans: 100%|██████████| 547/547 [03:37<00:00,  2.51it/s]\n",
      "Training: 100%|██████████| 4920/4920 [06:25<00:00, 12.77it/s]\n",
      "Evaluating: 100%|██████████| 547/547 [00:24<00:00, 22.66it/s]\n",
      "Predicting spans: 100%|██████████| 547/547 [03:37<00:00,  2.52it/s]\n",
      "Training: 100%|██████████| 4920/4920 [06:33<00:00, 12.50it/s]\n",
      "Evaluating: 100%|██████████| 547/547 [00:23<00:00, 23.73it/s]\n",
      "Predicting spans: 100%|██████████| 547/547 [03:37<00:00,  2.52it/s]\n",
      "Training: 100%|██████████| 4920/4920 [06:11<00:00, 13.25it/s]\n",
      "Evaluating: 100%|██████████| 547/547 [00:22<00:00, 24.03it/s]\n",
      "Predicting spans: 100%|██████████| 547/547 [03:37<00:00,  2.51it/s]\n",
      "Training: 100%|██████████| 4920/4920 [06:11<00:00, 13.24it/s]\n",
      "Evaluating: 100%|██████████| 547/547 [00:22<00:00, 24.10it/s]\n",
      "Predicting spans: 100%|██████████| 547/547 [03:38<00:00,  2.51it/s]\n",
      "Training: 100%|██████████| 4920/4920 [06:10<00:00, 13.28it/s]\n",
      "Evaluating: 100%|██████████| 547/547 [00:22<00:00, 24.03it/s]\n",
      "Predicting spans: 100%|██████████| 547/547 [03:37<00:00,  2.52it/s]\n",
      "Training: 100%|██████████| 4920/4920 [06:11<00:00, 13.26it/s]\n",
      "Evaluating: 100%|██████████| 547/547 [00:22<00:00, 24.06it/s]\n",
      "Predicting spans: 100%|██████████| 547/547 [03:37<00:00,  2.52it/s]\n",
      "Training: 100%|██████████| 4920/4920 [06:10<00:00, 13.26it/s]\n",
      "Evaluating: 100%|██████████| 547/547 [00:22<00:00, 24.05it/s]\n",
      "Predicting spans: 100%|██████████| 547/547 [03:37<00:00,  2.51it/s]\n",
      "Training: 100%|██████████| 4920/4920 [06:10<00:00, 13.27it/s]\n",
      "Evaluating: 100%|██████████| 547/547 [00:22<00:00, 24.00it/s]\n",
      "Predicting spans: 100%|██████████| 547/547 [03:37<00:00,  2.51it/s]\n",
      "Training: 100%|██████████| 4920/4920 [06:11<00:00, 13.26it/s]\n",
      "Evaluating: 100%|██████████| 547/547 [00:22<00:00, 24.08it/s]\n",
      "Predicting spans: 100%|██████████| 547/547 [03:37<00:00,  2.52it/s]\n",
      "Training: 100%|██████████| 4920/4920 [06:11<00:00, 13.23it/s]\n",
      "Evaluating: 100%|██████████| 547/547 [00:22<00:00, 24.07it/s]\n",
      "Predicting spans: 100%|██████████| 547/547 [03:37<00:00,  2.52it/s]\n",
      "[I 2025-04-26 12:03:09,093] Trial 7 finished with value: 65.36881994579518 and parameters: {'hidden_size': 128, 'lr': 0.00032659662810469766, 'dropout': 0.10779587867438623, 'batch_size': 16, 'weight_decay': 0.0005531894160304365}. Best is trial 3 with value: 66.47776402726555.\n",
      "Training: 100%|██████████| 8/8 [24:36:39<00:00, 11074.93s/trial] "
     ]
    },
    {
     "name": "stdout",
     "output_type": "stream",
     "text": [
      "Trial 7 finished - F1: 65.37\n",
      "Best trial (trial 3) hyperparameters: {'hidden_size': 128, 'lr': 0.0004637696096321046, 'dropout': 0.23763159681072626, 'batch_size': 16, 'weight_decay': 1.2342067058189668e-06}\n",
      "Best model saved to: saved_models/LSTMs_+_Attention_best_model.pt\n"
     ]
    },
    {
     "name": "stderr",
     "output_type": "stream",
     "text": [
      "\n"
     ]
    }
   ],
   "source": [
    "# Run Optuna for model w/ attention\n",
    "best_trial_attn, history_attn = run_optuna(use_attention=True, model_name=\"LSTMs + Attention\")"
   ]
  },
  {
   "cell_type": "code",
   "execution_count": 33,
   "id": "73ab575b",
   "metadata": {},
   "outputs": [
    {
     "name": "stdout",
     "output_type": "stream",
     "text": [
      "Plot saved to plots/LSTMs_Attn_loss_accuracy.png\n"
     ]
    },
    {
     "data": {
      "image/png": "[encoded data removed]",
      "text/plain": [
       "<Figure size 2000x1000 with 2 Axes>"
      ]
     },
     "metadata": {},
     "output_type": "display_data"
    }
   ],
   "source": [
    "summarize_diagnostics(history_attn, model_name=\"LSTMs_Attn\")"
   ]
  },
  {
   "cell_type": "code",
   "execution_count": 26,
   "id": "ae9eec97",
   "metadata": {},
   "outputs": [
    {
     "data": {
      "text/plain": [
       "BiLSTM_QA(\n",
       "  (embedding): Embedding(73152, 300)\n",
       "  (context_lstm): LSTM(300, 128, batch_first=True, bidirectional=True)\n",
       "  (question_lstm): LSTM(300, 128, batch_first=True, bidirectional=True)\n",
       "  (dropout): Dropout(p=0.23763159681072626, inplace=False)\n",
       "  (modeling_lstm_1): LSTM(1024, 128, batch_first=True, bidirectional=True)\n",
       "  (modeling_lstm_2): LSTM(256, 128, batch_first=True, bidirectional=True)\n",
       "  (layer_norm): LayerNorm((256,), eps=1e-05, elementwise_affine=True)\n",
       "  (similarity_linear): Linear(in_features=768, out_features=1, bias=True)\n",
       "  (start_fc): Linear(in_features=256, out_features=1, bias=True)\n",
       "  (end_fc): Linear(in_features=256, out_features=1, bias=True)\n",
       ")"
      ]
     },
     "execution_count": 26,
     "metadata": {},
     "output_type": "execute_result"
    }
   ],
   "source": [
    "best_lstm_attn_model = BiLSTM_QA(\n",
    "    embedding_matrix=embedding_matrix,\n",
    "    hidden_size=128,\n",
    "    dropout=0.23763159681072626,\n",
    "    use_attention=True\n",
    ")\n",
    "best_lstm_attn_model.load_state_dict(torch.load(\"saved_models_300d/LSTMs_+_Attention_best_model.pt\", map_location=device))\n",
    "best_lstm_attn_model.to(device)"
   ]
  },
  {
   "cell_type": "code",
   "execution_count": null,
   "id": "2ef8d5fa",
   "metadata": {},
   "outputs": [],
   "source": []
  },
  {
   "cell_type": "markdown",
   "id": "d17ca120",
   "metadata": {},
   "source": [
    "# EVALUATE ON TEST SET"
   ]
  },
  {
   "cell_type": "code",
   "execution_count": 34,
   "id": "b711bd9e",
   "metadata": {},
   "outputs": [],
   "source": [
    "def evaluate_on_test(model, model_name, test_loader, test_raw, device):\n",
    "    global comparison_df\n",
    "    \n",
    "    print(\"\\nRunning full evaluation on test set...\")\n",
    "    predicted_answers = predict_spans(model, test_loader, test_raw, device)\n",
    "    references = get_references(test_raw)\n",
    "\n",
    "    results = squad_metric.compute(predictions=predicted_answers, references=references)\n",
    "    em_score = results['exact_match']\n",
    "    f1_score = results['f1']\n",
    "\n",
    "    print(f\"\\nExact Match (EM): {em_score:.2f}\")\n",
    "    print(f\"F1 Score:          {f1_score:.2f}\")\n",
    "\n",
    "    if model_name in comparison_df[\"model_name\"].values:\n",
    "        comparison_df.loc[comparison_df[\"model_name\"] == model_name, [\"exact_match\", \"f1\"]] = [em_score, f1_score]\n",
    "    return results"
   ]
  },
  {
   "cell_type": "code",
   "execution_count": 29,
   "id": "cda24b24",
   "metadata": {},
   "outputs": [
    {
     "name": "stdout",
     "output_type": "stream",
     "text": [
      "\n",
      "Running full evaluation on test set...\n"
     ]
    },
    {
     "name": "stderr",
     "output_type": "stream",
     "text": [
      "Predicting spans: 100%|██████████| 659/659 [03:18<00:00,  3.31it/s]\n"
     ]
    },
    {
     "name": "stdout",
     "output_type": "stream",
     "text": [
      "\n",
      "Exact Match (EM): 43.19\n",
      "F1 Score:          54.26\n"
     ]
    },
    {
     "data": {
      "text/plain": [
       "{'exact_match': 43.19088319088319, 'f1': 54.25970864222569}"
      ]
     },
     "execution_count": 29,
     "metadata": {},
     "output_type": "execute_result"
    }
   ],
   "source": [
    "test_loader = DataLoader(test_dataset, batch_size=16, collate_fn=qa_collate_fn)\n",
    "evaluate_on_test(best_lstm_model, \"Plain LSTMs\", test_loader, test_raw, device)"
   ]
  },
  {
   "cell_type": "code",
   "execution_count": 40,
   "id": "e8bacf24",
   "metadata": {},
   "outputs": [
    {
     "name": "stdout",
     "output_type": "stream",
     "text": [
      "\n",
      "Running full evaluation on test set...\n"
     ]
    },
    {
     "name": "stderr",
     "output_type": "stream",
     "text": [
      "Predicting spans: 100%|██████████| 659/659 [03:18<00:00,  3.32it/s]\n"
     ]
    },
    {
     "name": "stdout",
     "output_type": "stream",
     "text": [
      "\n",
      "Exact Match (EM): 58.45\n",
      "F1 Score:          70.26\n"
     ]
    },
    {
     "data": {
      "text/plain": [
       "{'exact_match': 58.452041785375116, 'f1': 70.25540155216974}"
      ]
     },
     "execution_count": 40,
     "metadata": {},
     "output_type": "execute_result"
    }
   ],
   "source": [
    "test_loader = DataLoader(test_dataset, batch_size=16, collate_fn=qa_collate_fn)\n",
    "evaluate_on_test(best_lstm_attn_model, \"LSTMs + Attention\", test_loader, test_raw, device)"
   ]
  },
  {
   "cell_type": "code",
   "execution_count": 46,
   "id": "bc052591",
   "metadata": {},
   "outputs": [
    {
     "data": {
      "text/html": [
       "<div>\n",
       "<style scoped>\n",
       "    .dataframe tbody tr th:only-of-type {\n",
       "        vertical-align: middle;\n",
       "    }\n",
       "\n",
       "    .dataframe tbody tr th {\n",
       "        vertical-align: top;\n",
       "    }\n",
       "\n",
       "    .dataframe thead th {\n",
       "        text-align: right;\n",
       "    }\n",
       "</style>\n",
       "<table border=\"1\" class=\"dataframe\">\n",
       "  <thead>\n",
       "    <tr style=\"text-align: right;\">\n",
       "      <th></th>\n",
       "      <th>model_name</th>\n",
       "      <th>best_hyperparameters</th>\n",
       "      <th>val_loss</th>\n",
       "      <th>val_exact_match</th>\n",
       "      <th>val_f1</th>\n",
       "      <th>training_time</th>\n",
       "      <th>exact_match</th>\n",
       "      <th>f1</th>\n",
       "    </tr>\n",
       "  </thead>\n",
       "  <tbody>\n",
       "    <tr>\n",
       "      <th>0</th>\n",
       "      <td>Plain LSTMs</td>\n",
       "      <td>{'hidden_size': 256, 'lr': 0.00036133685205630...</td>\n",
       "      <td>2.607270</td>\n",
       "      <td>37.742968</td>\n",
       "      <td>50.500855</td>\n",
       "      <td>4712.45</td>\n",
       "      <td>43.190883</td>\n",
       "      <td>54.259709</td>\n",
       "    </tr>\n",
       "    <tr>\n",
       "      <th>1</th>\n",
       "      <td>LSTMs + Attention</td>\n",
       "      <td>{'hidden_size': 128, 'lr': 0.00046376960963210...</td>\n",
       "      <td>1.631734</td>\n",
       "      <td>51.257718</td>\n",
       "      <td>66.477764</td>\n",
       "      <td>6014.87</td>\n",
       "      <td>58.452042</td>\n",
       "      <td>70.255402</td>\n",
       "    </tr>\n",
       "  </tbody>\n",
       "</table>\n",
       "</div>"
      ],
      "text/plain": [
       "          model_name                               best_hyperparameters  \\\n",
       "0        Plain LSTMs  {'hidden_size': 256, 'lr': 0.00036133685205630...   \n",
       "1  LSTMs + Attention  {'hidden_size': 128, 'lr': 0.00046376960963210...   \n",
       "\n",
       "   val_loss  val_exact_match     val_f1  training_time  exact_match         f1  \n",
       "0  2.607270        37.742968  50.500855        4712.45    43.190883  54.259709  \n",
       "1  1.631734        51.257718  66.477764        6014.87    58.452042  70.255402  "
      ]
     },
     "execution_count": 46,
     "metadata": {},
     "output_type": "execute_result"
    }
   ],
   "source": [
    "comparison_df"
   ]
  },
  {
   "cell_type": "code",
   "execution_count": null,
   "id": "9cae7afb",
   "metadata": {},
   "outputs": [],
   "source": [
    "comparison_df.to_csv(\"comparison_results_300d.csv\", index=False)"
   ]
  },
  {
   "cell_type": "code",
   "execution_count": null,
   "id": "a5358bd5",
   "metadata": {},
   "outputs": [],
   "source": []
  },
  {
   "cell_type": "markdown",
   "id": "aa3e7d9b",
   "metadata": {},
   "source": [
    "### Some QA Examples"
   ]
  },
  {
   "cell_type": "code",
   "execution_count": 29,
   "id": "0e3318f9",
   "metadata": {},
   "outputs": [
    {
     "name": "stderr",
     "output_type": "stream",
     "text": [
      "Predicting spans: 100%|██████████| 659/659 [03:12<00:00,  3.42it/s]\n"
     ]
    }
   ],
   "source": [
    "test_loader = DataLoader(test_dataset, batch_size=16, collate_fn=qa_collate_fn)\n",
    "predicted_answers = predict_spans(best_lstm_attn_model, test_loader, test_raw, device)\n",
    "references = get_references(test_raw)"
   ]
  },
  {
   "cell_type": "code",
   "execution_count": 48,
   "id": "580b6166",
   "metadata": {},
   "outputs": [
    {
     "name": "stdout",
     "output_type": "stream",
     "text": [
      "\n",
      "Showing some predicted vs ground-truth examples:\n",
      "\n",
      "Example 1:\n",
      "Question: What is the polish word for wreaths?\n",
      "Predicted Answer: wianki\n",
      "Ground Truth Answers: ['Wianki', 'Wianki', 'Wianki']\n",
      "\n",
      "Example 2:\n",
      "Question: Who calculated the speed of light?\n",
      "Predicted Answer: calculator a. a. michelson , elementary charge calculator robert a. millikan\n",
      "Ground Truth Answers: ['A. A. Michelson', 'A. A. Michelson', 'A. A. Michelson']\n",
      "\n",
      "Example 3:\n",
      "Question: How many teams have won 15 regular season games since the 16-game schedule was adopted?\n",
      "Predicted Answer: 15\n",
      "Ground Truth Answers: ['7', 'seventh', 'seventh']\n",
      "\n",
      "Example 4:\n",
      "Question: In June 1884, where did Tesla relocate? \n",
      "Predicted Answer: new york city:57–60\n",
      "Ground Truth Answers: ['New York City', 'to New York City', 'New York City']\n",
      "\n",
      "Example 5:\n",
      "Question: The Los Angeles Angels of Anaheim are from which sport?\n",
      "Predicted Answer: mlb\n",
      "Ground Truth Answers: ['MLB', 'MLB', 'MLB']\n"
     ]
    }
   ],
   "source": [
    "print(\"\\nShowing some predicted vs ground-truth examples:\")\n",
    "\n",
    "import random\n",
    "n_show = 5\n",
    "indices = random.sample(range(len(test_raw)), n_show)\n",
    "\n",
    "for idx, i in enumerate(indices):\n",
    "    print(f\"\\nExample {idx+1}:\") \n",
    "    print(f\"Question: {test_raw[i]['question']}\")\n",
    "    print(f\"Predicted Answer: {predicted_answers[i]['prediction_text']}\")\n",
    "    print(f\"Ground Truth Answers: {references[i]['answers']['text']}\")"
   ]
  },
  {
   "cell_type": "code",
   "execution_count": null,
   "id": "492f7642",
   "metadata": {},
   "outputs": [],
   "source": []
  }
 ],
 "metadata": {
  "kernelspec": {
   "display_name": "Python 3",
   "language": "python",
   "name": "python3"
  },
  "language_info": {
   "codemirror_mode": {
    "name": "ipython",
    "version": 3
   },
   "file_extension": ".py",
   "mimetype": "text/x-python",
   "name": "python",
   "nbconvert_exporter": "python",
   "pygments_lexer": "ipython3",
   "version": "3.11.9"
  }
 },
 "nbformat": 4,
 "nbformat_minor": 5
}
