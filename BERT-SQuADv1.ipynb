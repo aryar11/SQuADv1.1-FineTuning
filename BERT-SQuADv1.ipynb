{
 "cells": [
  {
   "cell_type": "markdown",
   "id": "64ae5011",
   "metadata": {},
   "source": [
    "# Using BERT on the SQuAD v1 Dataset"
   ]
  },
  {
   "cell_type": "code",
   "execution_count": 1,
   "id": "1fec55b1-ea00-4870-bcb7-2d2bb9114bb0",
   "metadata": {
    "scrolled": true
   },
   "outputs": [
    {
     "name": "stdout",
     "output_type": "stream",
     "text": [
      "Collecting transformers\n",
      "  Downloading transformers-4.51.3-py3-none-any.whl (10.4 MB)\n",
      "\u001b[2K     \u001b[90m━━━━━━━━━━━━━━━━━━━━━━━━━━━━━━━━━━━━━━━━\u001b[0m \u001b[32m10.4/10.4 MB\u001b[0m \u001b[31m33.6 MB/s\u001b[0m eta \u001b[36m0:00:00\u001b[0m00:01\u001b[0m0:01\u001b[0m\n",
      "\u001b[?25hCollecting datasets\n",
      "  Downloading datasets-3.5.1-py3-none-any.whl (491 kB)\n",
      "\u001b[2K     \u001b[90m━━━━━━━━━━━━━━━━━━━━━━━━━━━━━━━━━━━━━━\u001b[0m \u001b[32m491.4/491.4 KB\u001b[0m \u001b[31m50.4 MB/s\u001b[0m eta \u001b[36m0:00:00\u001b[0m\n",
      "\u001b[?25hRequirement already satisfied: torch in /venv/main/lib/python3.10/site-packages (2.6.0+cu124)\n",
      "Requirement already satisfied: tqdm in /venv/main/lib/python3.10/site-packages (4.67.1)\n",
      "Collecting scikit-learn\n",
      "  Downloading scikit_learn-1.6.1-cp310-cp310-manylinux_2_17_x86_64.manylinux2014_x86_64.whl (13.5 MB)\n",
      "\u001b[2K     \u001b[90m━━━━━━━━━━━━━━━━━━━━━━━━━━━━━━━━━━━━━━━━\u001b[0m \u001b[32m13.5/13.5 MB\u001b[0m \u001b[31m69.4 MB/s\u001b[0m eta \u001b[36m0:00:00\u001b[0m00:01\u001b[0m00:01\u001b[0m\n",
      "\u001b[?25hCollecting nltk\n",
      "  Downloading nltk-3.9.1-py3-none-any.whl (1.5 MB)\n",
      "\u001b[2K     \u001b[90m━━━━━━━━━━━━━━━━━━━━━━━━━━━━━━━━━━━━━━━━\u001b[0m \u001b[32m1.5/1.5 MB\u001b[0m \u001b[31m85.1 MB/s\u001b[0m eta \u001b[36m0:00:00\u001b[0m\n",
      "\u001b[?25hCollecting evaluate\n",
      "  Downloading evaluate-0.4.3-py3-none-any.whl (84 kB)\n",
      "\u001b[2K     \u001b[90m━━━━━━━━━━━━━━━━━━━━━━━━━━━━━━━━━━━━━━━━\u001b[0m \u001b[32m84.0/84.0 KB\u001b[0m \u001b[31m43.9 MB/s\u001b[0m eta \u001b[36m0:00:00\u001b[0m\n",
      "\u001b[?25hCollecting matplotlib\n",
      "  Downloading matplotlib-3.10.1-cp310-cp310-manylinux_2_17_x86_64.manylinux2014_x86_64.whl (8.6 MB)\n",
      "\u001b[2K     \u001b[90m━━━━━━━━━━━━━━━━━━━━━━━━━━━━━━━━━━━━━━━━\u001b[0m \u001b[32m8.6/8.6 MB\u001b[0m \u001b[31m100.9 MB/s\u001b[0m eta \u001b[36m0:00:00\u001b[0m00:01\u001b[0m00:01\u001b[0m\n",
      "\u001b[?25hRequirement already satisfied: requests in /venv/main/lib/python3.10/site-packages (from transformers) (2.32.3)\n",
      "Requirement already satisfied: filelock in /venv/main/lib/python3.10/site-packages (from transformers) (3.18.0)\n",
      "Requirement already satisfied: packaging>=20.0 in /venv/main/lib/python3.10/site-packages (from transformers) (25.0)\n",
      "Requirement already satisfied: huggingface-hub<1.0,>=0.30.0 in /venv/main/lib/python3.10/site-packages (from transformers) (0.30.2)\n",
      "Requirement already satisfied: numpy>=1.17 in /venv/main/lib/python3.10/site-packages (from transformers) (2.1.2)\n",
      "Requirement already satisfied: pyyaml>=5.1 in /venv/main/lib/python3.10/site-packages (from transformers) (6.0.2)\n",
      "Collecting tokenizers<0.22,>=0.21\n",
      "  Downloading tokenizers-0.21.1-cp39-abi3-manylinux_2_17_x86_64.manylinux2014_x86_64.whl (3.0 MB)\n",
      "\u001b[2K     \u001b[90m━━━━━━━━━━━━━━━━━━━━━━━━━━━━━━━━━━━━━━━━\u001b[0m \u001b[32m3.0/3.0 MB\u001b[0m \u001b[31m102.1 MB/s\u001b[0m eta \u001b[36m0:00:00\u001b[0m\n",
      "\u001b[?25hCollecting safetensors>=0.4.3\n",
      "  Downloading safetensors-0.5.3-cp38-abi3-manylinux_2_17_x86_64.manylinux2014_x86_64.whl (471 kB)\n",
      "\u001b[2K     \u001b[90m━━━━━━━━━━━━━━━━━━━━━━━━━━━━━━━━━━━━━━\u001b[0m \u001b[32m471.6/471.6 KB\u001b[0m \u001b[31m61.4 MB/s\u001b[0m eta \u001b[36m0:00:00\u001b[0m\n",
      "\u001b[?25hCollecting regex!=2019.12.17\n",
      "  Downloading regex-2024.11.6-cp310-cp310-manylinux_2_17_x86_64.manylinux2014_x86_64.whl (781 kB)\n",
      "\u001b[2K     \u001b[90m━━━━━━━━━━━━━━━━━━━━━━━━━━━━━━━━━━━━━\u001b[0m \u001b[32m781.7/781.7 KB\u001b[0m \u001b[31m161.2 MB/s\u001b[0m eta \u001b[36m0:00:00\u001b[0m\n",
      "\u001b[?25hCollecting fsspec[http]<=2025.3.0,>=2023.1.0\n",
      "  Downloading fsspec-2025.3.0-py3-none-any.whl (193 kB)\n",
      "\u001b[2K     \u001b[90m━━━━━━━━━━━━━━━━━━━━━━━━━━━━━━━━━━━━━━\u001b[0m \u001b[32m193.6/193.6 KB\u001b[0m \u001b[31m93.5 MB/s\u001b[0m eta \u001b[36m0:00:00\u001b[0m\n",
      "\u001b[?25hCollecting xxhash\n",
      "  Downloading xxhash-3.5.0-cp310-cp310-manylinux_2_17_x86_64.manylinux2014_x86_64.whl (194 kB)\n",
      "\u001b[2K     \u001b[90m━━━━━━━━━━━━━━━━━━━━━━━━━━━━━━━━━━━━━━\u001b[0m \u001b[32m194.1/194.1 KB\u001b[0m \u001b[31m86.1 MB/s\u001b[0m eta \u001b[36m0:00:00\u001b[0m\n",
      "\u001b[?25hCollecting multiprocess<0.70.17\n",
      "  Downloading multiprocess-0.70.16-py310-none-any.whl (134 kB)\n",
      "\u001b[2K     \u001b[90m━━━━━━━━━━━━━━━━━━━━━━━━━━━━━━━━━━━━━━\u001b[0m \u001b[32m134.8/134.8 KB\u001b[0m \u001b[31m21.0 MB/s\u001b[0m eta \u001b[36m0:00:00\u001b[0m\n",
      "\u001b[?25hCollecting aiohttp\n",
      "  Downloading aiohttp-3.11.18-cp310-cp310-manylinux_2_17_x86_64.manylinux2014_x86_64.whl (1.6 MB)\n",
      "\u001b[2K     \u001b[90m━━━━━━━━━━━━━━━━━━━━━━━━━━━━━━━━━━━━━━━━\u001b[0m \u001b[32m1.6/1.6 MB\u001b[0m \u001b[31m135.3 MB/s\u001b[0m eta \u001b[36m0:00:00\u001b[0m\n",
      "\u001b[?25hCollecting dill<0.3.9,>=0.3.0\n",
      "  Downloading dill-0.3.8-py3-none-any.whl (116 kB)\n",
      "\u001b[2K     \u001b[90m━━━━━━━━━━━━━━━━━━━━━━━━━━━━━━━━━━━━━━\u001b[0m \u001b[32m116.3/116.3 KB\u001b[0m \u001b[31m59.2 MB/s\u001b[0m eta \u001b[36m0:00:00\u001b[0m\n",
      "\u001b[?25hCollecting pyarrow>=15.0.0\n",
      "  Downloading pyarrow-20.0.0-cp310-cp310-manylinux_2_28_x86_64.whl (42.3 MB)\n",
      "\u001b[2K     \u001b[90m━━━━━━━━━━━━━━━━━━━━━━━━━━━━━━━━━━━━━━━━\u001b[0m \u001b[32m42.3/42.3 MB\u001b[0m \u001b[31m49.8 MB/s\u001b[0m eta \u001b[36m0:00:00\u001b[0m00:01\u001b[0m00:01\u001b[0m\n",
      "\u001b[?25hCollecting pandas\n",
      "  Downloading pandas-2.2.3-cp310-cp310-manylinux_2_17_x86_64.manylinux2014_x86_64.whl (13.1 MB)\n",
      "\u001b[2K     \u001b[90m━━━━━━━━━━━━━━━━━━━━━━━━━━━━━━━━━━━━━━━\u001b[0m \u001b[32m13.1/13.1 MB\u001b[0m \u001b[31m203.5 MB/s\u001b[0m eta \u001b[36m0:00:00\u001b[0ma \u001b[36m0:00:01\u001b[0m\n",
      "\u001b[?25hRequirement already satisfied: typing-extensions>=4.10.0 in /venv/main/lib/python3.10/site-packages (from torch) (4.13.2)\n",
      "Requirement already satisfied: jinja2 in /venv/main/lib/python3.10/site-packages (from torch) (3.1.4)\n",
      "Requirement already satisfied: networkx in /venv/main/lib/python3.10/site-packages (from torch) (3.3)\n",
      "Requirement already satisfied: nvidia-curand-cu12==10.3.5.147 in /venv/main/lib/python3.10/site-packages (from torch) (10.3.5.147)\n",
      "Requirement already satisfied: triton==3.2.0 in /venv/main/lib/python3.10/site-packages (from torch) (3.2.0)\n",
      "Requirement already satisfied: nvidia-nvjitlink-cu12==12.4.127 in /venv/main/lib/python3.10/site-packages (from torch) (12.4.127)\n",
      "Requirement already satisfied: nvidia-cusparselt-cu12==0.6.2 in /venv/main/lib/python3.10/site-packages (from torch) (0.6.2)\n",
      "Requirement already satisfied: nvidia-nvtx-cu12==12.4.127 in /venv/main/lib/python3.10/site-packages (from torch) (12.4.127)\n",
      "Requirement already satisfied: nvidia-cuda-cupti-cu12==12.4.127 in /venv/main/lib/python3.10/site-packages (from torch) (12.4.127)\n",
      "Requirement already satisfied: nvidia-cuda-runtime-cu12==12.4.127 in /venv/main/lib/python3.10/site-packages (from torch) (12.4.127)\n",
      "Requirement already satisfied: nvidia-cusparse-cu12==12.3.1.170 in /venv/main/lib/python3.10/site-packages (from torch) (12.3.1.170)\n",
      "Requirement already satisfied: sympy==1.13.1 in /venv/main/lib/python3.10/site-packages (from torch) (1.13.1)\n",
      "Requirement already satisfied: nvidia-cudnn-cu12==9.1.0.70 in /venv/main/lib/python3.10/site-packages (from torch) (9.1.0.70)\n",
      "Requirement already satisfied: nvidia-cusolver-cu12==11.6.1.9 in /venv/main/lib/python3.10/site-packages (from torch) (11.6.1.9)\n",
      "Requirement already satisfied: fsspec in /venv/main/lib/python3.10/site-packages (from torch) (2025.3.2)\n",
      "Requirement already satisfied: nvidia-nccl-cu12==2.21.5 in /venv/main/lib/python3.10/site-packages (from torch) (2.21.5)\n",
      "Requirement already satisfied: nvidia-cuda-nvrtc-cu12==12.4.127 in /venv/main/lib/python3.10/site-packages (from torch) (12.4.127)\n",
      "Requirement already satisfied: nvidia-cufft-cu12==11.2.1.3 in /venv/main/lib/python3.10/site-packages (from torch) (11.2.1.3)\n",
      "Requirement already satisfied: nvidia-cublas-cu12==12.4.5.8 in /venv/main/lib/python3.10/site-packages (from torch) (12.4.5.8)\n",
      "Requirement already satisfied: mpmath<1.4,>=1.1.0 in /venv/main/lib/python3.10/site-packages (from sympy==1.13.1->torch) (1.3.0)\n",
      "Collecting threadpoolctl>=3.1.0\n",
      "  Downloading threadpoolctl-3.6.0-py3-none-any.whl (18 kB)\n",
      "Collecting joblib>=1.2.0\n",
      "  Downloading joblib-1.4.2-py3-none-any.whl (301 kB)\n",
      "\u001b[2K     \u001b[90m━━━━━━━━━━━━━━━━━━━━━━━━━━━━━━━━━━━━━\u001b[0m \u001b[32m301.8/301.8 KB\u001b[0m \u001b[31m118.8 MB/s\u001b[0m eta \u001b[36m0:00:00\u001b[0m\n",
      "\u001b[?25hCollecting scipy>=1.6.0\n",
      "  Downloading scipy-1.15.2-cp310-cp310-manylinux_2_17_x86_64.manylinux2014_x86_64.whl (37.6 MB)\n",
      "\u001b[2K     \u001b[90m━━━━━━━━━━━━━━━━━━━━━━━━━━━━━━━━━━━━━━━━\u001b[0m \u001b[32m37.6/37.6 MB\u001b[0m \u001b[31m83.6 MB/s\u001b[0m eta \u001b[36m0:00:00\u001b[0m00:01\u001b[0m00:01\u001b[0m\n",
      "\u001b[?25hCollecting click\n",
      "  Downloading click-8.1.8-py3-none-any.whl (98 kB)\n",
      "\u001b[2K     \u001b[90m━━━━━━━━━━━━━━━━━━━━━━━━━━━━━━━━━━━━━━━━\u001b[0m \u001b[32m98.2/98.2 KB\u001b[0m \u001b[31m51.4 MB/s\u001b[0m eta \u001b[36m0:00:00\u001b[0m\n",
      "\u001b[?25hCollecting kiwisolver>=1.3.1\n",
      "  Downloading kiwisolver-1.4.8-cp310-cp310-manylinux_2_12_x86_64.manylinux2010_x86_64.whl (1.6 MB)\n",
      "\u001b[2K     \u001b[90m━━━━━━━━━━━━━━━━━━━━━━━━━━━━━━━━━━━━━━━━\u001b[0m \u001b[32m1.6/1.6 MB\u001b[0m \u001b[31m196.6 MB/s\u001b[0m eta \u001b[36m0:00:00\u001b[0m\n",
      "\u001b[?25hCollecting pyparsing>=2.3.1\n",
      "  Downloading pyparsing-3.2.3-py3-none-any.whl (111 kB)\n",
      "\u001b[2K     \u001b[90m━━━━━━━━━━━━━━━━━━━━━━━━━━━━━━━━━━━━━━\u001b[0m \u001b[32m111.1/111.1 KB\u001b[0m \u001b[31m53.1 MB/s\u001b[0m eta \u001b[36m0:00:00\u001b[0m\n",
      "\u001b[?25hCollecting contourpy>=1.0.1\n",
      "  Downloading contourpy-1.3.2-cp310-cp310-manylinux_2_17_x86_64.manylinux2014_x86_64.whl (325 kB)\n",
      "\u001b[2K     \u001b[90m━━━━━━━━━━━━━━━━━━━━━━━━━━━━━━━━━━━━━\u001b[0m \u001b[32m325.0/325.0 KB\u001b[0m \u001b[31m107.0 MB/s\u001b[0m eta \u001b[36m0:00:00\u001b[0m\n",
      "\u001b[?25hCollecting fonttools>=4.22.0\n",
      "  Downloading fonttools-4.57.0-cp310-cp310-manylinux_2_17_x86_64.manylinux2014_x86_64.whl (4.6 MB)\n",
      "\u001b[2K     \u001b[90m━━━━━━━━━━━━━━━━━━━━━━━━━━━━━━━━━━━━━━━━\u001b[0m \u001b[32m4.6/4.6 MB\u001b[0m \u001b[31m188.4 MB/s\u001b[0m eta \u001b[36m0:00:00\u001b[0m\n",
      "\u001b[?25hCollecting cycler>=0.10\n",
      "  Downloading cycler-0.12.1-py3-none-any.whl (8.3 kB)\n",
      "Requirement already satisfied: python-dateutil>=2.7 in /venv/main/lib/python3.10/site-packages (from matplotlib) (2.9.0.post0)\n",
      "Requirement already satisfied: pillow>=8 in /venv/main/lib/python3.10/site-packages (from matplotlib) (11.0.0)\n",
      "Collecting frozenlist>=1.1.1\n",
      "  Downloading frozenlist-1.6.0-cp310-cp310-manylinux_2_5_x86_64.manylinux1_x86_64.manylinux_2_17_x86_64.manylinux2014_x86_64.whl (287 kB)\n",
      "\u001b[2K     \u001b[90m━━━━━━━━━━━━━━━━━━━━━━━━━━━━━━━━━━━━━━\u001b[0m \u001b[32m287.3/287.3 KB\u001b[0m \u001b[31m78.7 MB/s\u001b[0m eta \u001b[36m0:00:00\u001b[0m\n",
      "\u001b[?25hCollecting propcache>=0.2.0\n",
      "  Downloading propcache-0.3.1-cp310-cp310-manylinux_2_17_x86_64.manylinux2014_x86_64.whl (206 kB)\n",
      "\u001b[2K     \u001b[90m━━━━━━━━━━━━━━━━━━━━━━━━━━━━━━━━━━━━━━\u001b[0m \u001b[32m206.6/206.6 KB\u001b[0m \u001b[31m64.5 MB/s\u001b[0m eta \u001b[36m0:00:00\u001b[0m\n",
      "\u001b[?25hCollecting async-timeout<6.0,>=4.0\n",
      "  Downloading async_timeout-5.0.1-py3-none-any.whl (6.2 kB)\n",
      "Collecting aiohappyeyeballs>=2.3.0\n",
      "  Downloading aiohappyeyeballs-2.6.1-py3-none-any.whl (15 kB)\n",
      "Collecting yarl<2.0,>=1.17.0\n",
      "  Downloading yarl-1.20.0-cp310-cp310-manylinux_2_17_x86_64.manylinux2014_x86_64.whl (333 kB)\n",
      "\u001b[2K     \u001b[90m━━━━━━━━━━━━━━━━━━━━━━━━━━━━━━━━━━━━━\u001b[0m \u001b[32m333.9/333.9 KB\u001b[0m \u001b[31m126.4 MB/s\u001b[0m eta \u001b[36m0:00:00\u001b[0m\n",
      "\u001b[?25hCollecting aiosignal>=1.1.2\n",
      "  Downloading aiosignal-1.3.2-py2.py3-none-any.whl (7.6 kB)\n",
      "Collecting attrs>=17.3.0\n",
      "  Downloading attrs-25.3.0-py3-none-any.whl (63 kB)\n",
      "\u001b[2K     \u001b[90m━━━━━━━━━━━━━━━━━━━━━━━━━━━━━━━━━━━━━━━━\u001b[0m \u001b[32m63.8/63.8 KB\u001b[0m \u001b[31m37.5 MB/s\u001b[0m eta \u001b[36m0:00:00\u001b[0m\n",
      "\u001b[?25hCollecting multidict<7.0,>=4.5\n",
      "  Downloading multidict-6.4.3-cp310-cp310-manylinux_2_17_x86_64.manylinux2014_x86_64.whl (219 kB)\n",
      "\u001b[2K     \u001b[90m━━━━━━━━━━━━━━━━━━━━━━━━━━━━━━━━━━━━━━\u001b[0m \u001b[32m219.8/219.8 KB\u001b[0m \u001b[31m61.6 MB/s\u001b[0m eta \u001b[36m0:00:00\u001b[0m\n",
      "\u001b[?25hRequirement already satisfied: six>=1.5 in /venv/main/lib/python3.10/site-packages (from python-dateutil>=2.7->matplotlib) (1.17.0)\n",
      "Requirement already satisfied: charset-normalizer<4,>=2 in /venv/main/lib/python3.10/site-packages (from requests->transformers) (3.4.1)\n",
      "Requirement already satisfied: idna<4,>=2.5 in /venv/main/lib/python3.10/site-packages (from requests->transformers) (3.10)\n",
      "Requirement already satisfied: urllib3<3,>=1.21.1 in /venv/main/lib/python3.10/site-packages (from requests->transformers) (2.4.0)\n",
      "Requirement already satisfied: certifi>=2017.4.17 in /venv/main/lib/python3.10/site-packages (from requests->transformers) (2025.4.26)\n",
      "Requirement already satisfied: MarkupSafe>=2.0 in /venv/main/lib/python3.10/site-packages (from jinja2->torch) (2.1.5)\n",
      "Collecting pytz>=2020.1\n",
      "  Downloading pytz-2025.2-py2.py3-none-any.whl (509 kB)\n",
      "\u001b[2K     \u001b[90m━━━━━━━━━━━━━━━━━━━━━━━━━━━━━━━━━━━━━\u001b[0m \u001b[32m509.2/509.2 KB\u001b[0m \u001b[31m117.4 MB/s\u001b[0m eta \u001b[36m0:00:00\u001b[0m\n",
      "\u001b[?25hCollecting tzdata>=2022.7\n",
      "  Downloading tzdata-2025.2-py2.py3-none-any.whl (347 kB)\n",
      "\u001b[2K     \u001b[90m━━━━━━━━━━━━━━━━━━━━━━━━━━━━━━━━━━━━━━\u001b[0m \u001b[32m347.8/347.8 KB\u001b[0m \u001b[31m90.6 MB/s\u001b[0m eta \u001b[36m0:00:00\u001b[0m\n",
      "\u001b[?25hInstalling collected packages: pytz, xxhash, tzdata, threadpoolctl, scipy, safetensors, regex, pyparsing, pyarrow, propcache, multidict, kiwisolver, joblib, fsspec, frozenlist, fonttools, dill, cycler, contourpy, click, attrs, async-timeout, aiohappyeyeballs, yarl, scikit-learn, pandas, nltk, multiprocess, matplotlib, aiosignal, tokenizers, aiohttp, transformers, datasets, evaluate\n",
      "  Attempting uninstall: fsspec\n",
      "    Found existing installation: fsspec 2025.3.2\n",
      "    Uninstalling fsspec-2025.3.2:\n",
      "      Successfully uninstalled fsspec-2025.3.2\n",
      "Successfully installed aiohappyeyeballs-2.6.1 aiohttp-3.11.18 aiosignal-1.3.2 async-timeout-5.0.1 attrs-25.3.0 click-8.1.8 contourpy-1.3.2 cycler-0.12.1 datasets-3.5.1 dill-0.3.8 evaluate-0.4.3 fonttools-4.57.0 frozenlist-1.6.0 fsspec-2025.3.0 joblib-1.4.2 kiwisolver-1.4.8 matplotlib-3.10.1 multidict-6.4.3 multiprocess-0.70.16 nltk-3.9.1 pandas-2.2.3 propcache-0.3.1 pyarrow-20.0.0 pyparsing-3.2.3 pytz-2025.2 regex-2024.11.6 safetensors-0.5.3 scikit-learn-1.6.1 scipy-1.15.2 threadpoolctl-3.6.0 tokenizers-0.21.1 transformers-4.51.3 tzdata-2025.2 xxhash-3.5.0 yarl-1.20.0\n",
      "Note: you may need to restart the kernel to use updated packages.\n"
     ]
    }
   ],
   "source": [
    "pip install transformers datasets torch tqdm scikit-learn nltk evaluate tqdm matplotlib"
   ]
  },
  {
   "cell_type": "markdown",
   "id": "67d24fbc",
   "metadata": {},
   "source": [
    "### Load Dataset"
   ]
  },
  {
   "cell_type": "code",
   "execution_count": 2,
   "id": "84f9ee53",
   "metadata": {},
   "outputs": [
    {
     "data": {
      "application/vnd.jupyter.widget-view+json": {
       "model_id": "23d385389b594edd8551450338ad81a6",
       "version_major": 2,
       "version_minor": 0
      },
      "text/plain": [
       "README.md:   0%|          | 0.00/7.62k [00:00<?, ?B/s]"
      ]
     },
     "metadata": {},
     "output_type": "display_data"
    },
    {
     "data": {
      "application/vnd.jupyter.widget-view+json": {
       "model_id": "ef13099fb94f4b01972981a8668a6a75",
       "version_major": 2,
       "version_minor": 0
      },
      "text/plain": [
       "train-00000-of-00001.parquet:   0%|          | 0.00/14.5M [00:00<?, ?B/s]"
      ]
     },
     "metadata": {},
     "output_type": "display_data"
    },
    {
     "data": {
      "application/vnd.jupyter.widget-view+json": {
       "model_id": "031d7ed431a64626977551b6488ac221",
       "version_major": 2,
       "version_minor": 0
      },
      "text/plain": [
       "validation-00000-of-00001.parquet:   0%|          | 0.00/1.82M [00:00<?, ?B/s]"
      ]
     },
     "metadata": {},
     "output_type": "display_data"
    },
    {
     "data": {
      "application/vnd.jupyter.widget-view+json": {
       "model_id": "bf4481c413754f7cb740ad622c279c3c",
       "version_major": 2,
       "version_minor": 0
      },
      "text/plain": [
       "Generating train split:   0%|          | 0/87599 [00:00<?, ? examples/s]"
      ]
     },
     "metadata": {},
     "output_type": "display_data"
    },
    {
     "data": {
      "application/vnd.jupyter.widget-view+json": {
       "model_id": "579b5bb28c634243b4c83a2af971330f",
       "version_major": 2,
       "version_minor": 0
      },
      "text/plain": [
       "Generating validation split:   0%|          | 0/10570 [00:00<?, ? examples/s]"
      ]
     },
     "metadata": {},
     "output_type": "display_data"
    },
    {
     "name": "stdout",
     "output_type": "stream",
     "text": [
      "\n",
      "Stats for training data:\n",
      "count    78839.000000\n",
      "mean       119.725656\n",
      "std         49.337913\n",
      "min         20.000000\n",
      "50%        110.000000\n",
      "90%        183.000000\n",
      "95%        213.000000\n",
      "99%        282.000000\n",
      "max        653.000000\n",
      "dtype: float64\n"
     ]
    }
   ],
   "source": [
    "import splitData\n",
    "\n",
    "train_ds, val_ds, test_ds = splitData.load_and_split_data()"
   ]
  },
  {
   "cell_type": "markdown",
   "id": "8e73e37d",
   "metadata": {},
   "source": [
    "## Load BERT"
   ]
  },
  {
   "cell_type": "code",
   "execution_count": 18,
   "id": "f456635b",
   "metadata": {},
   "outputs": [
    {
     "name": "stdout",
     "output_type": "stream",
     "text": [
      "Using device: cuda\n"
     ]
    }
   ],
   "source": [
    "import torch\n",
    "from torch.utils.data import DataLoader\n",
    "from transformers import (\n",
    "    AutoTokenizer,\n",
    "    AutoModelForQuestionAnswering,\n",
    "    get_linear_schedule_with_warmup,\n",
    "    default_data_collator,\n",
    "    BertConfig\n",
    ")\n",
    "import evaluate\n",
    "from tqdm.auto import tqdm\n",
    "from torch.optim import AdamW\n",
    "import time\n",
    "import numpy as np\n",
    "from postprocessQA import postprocess_qa_predictions\n",
    "device = torch.device(\"cuda\" if torch.cuda.is_available() else \"cpu\")\n",
    "print(f\"Using device: {device}\")"
   ]
  },
  {
   "cell_type": "code",
   "execution_count": 4,
   "id": "32949a03",
   "metadata": {},
   "outputs": [
    {
     "data": {
      "application/vnd.jupyter.widget-view+json": {
       "model_id": "24f98153305e4497af09bc61c1e910de",
       "version_major": 2,
       "version_minor": 0
      },
      "text/plain": [
       "config.json:   0%|          | 0.00/570 [00:00<?, ?B/s]"
      ]
     },
     "metadata": {},
     "output_type": "display_data"
    },
    {
     "data": {
      "application/vnd.jupyter.widget-view+json": {
       "model_id": "32854915ab7b45ed9942ffcaca6570f4",
       "version_major": 2,
       "version_minor": 0
      },
      "text/plain": [
       "tokenizer_config.json:   0%|          | 0.00/48.0 [00:00<?, ?B/s]"
      ]
     },
     "metadata": {},
     "output_type": "display_data"
    },
    {
     "data": {
      "application/vnd.jupyter.widget-view+json": {
       "model_id": "4de8a398abdf45188e49240e933ec6b9",
       "version_major": 2,
       "version_minor": 0
      },
      "text/plain": [
       "vocab.txt:   0%|          | 0.00/232k [00:00<?, ?B/s]"
      ]
     },
     "metadata": {},
     "output_type": "display_data"
    },
    {
     "data": {
      "application/vnd.jupyter.widget-view+json": {
       "model_id": "6f6b8890ca1c45978f4152ecddeea9e7",
       "version_major": 2,
       "version_minor": 0
      },
      "text/plain": [
       "tokenizer.json:   0%|          | 0.00/466k [00:00<?, ?B/s]"
      ]
     },
     "metadata": {},
     "output_type": "display_data"
    },
    {
     "name": "stderr",
     "output_type": "stream",
     "text": [
      "Xet Storage is enabled for this repo, but the 'hf_xet' package is not installed. Falling back to regular HTTP download. For better performance, install the package with: `pip install huggingface_hub[hf_xet]` or `pip install hf_xet`\n"
     ]
    },
    {
     "data": {
      "application/vnd.jupyter.widget-view+json": {
       "model_id": "cda94267df0647efab8404005a963580",
       "version_major": 2,
       "version_minor": 0
      },
      "text/plain": [
       "model.safetensors:   0%|          | 0.00/440M [00:00<?, ?B/s]"
      ]
     },
     "metadata": {},
     "output_type": "display_data"
    },
    {
     "name": "stderr",
     "output_type": "stream",
     "text": [
      "Some weights of BertForQuestionAnswering were not initialized from the model checkpoint at bert-base-uncased and are newly initialized: ['qa_outputs.bias', 'qa_outputs.weight']\n",
      "You should probably TRAIN this model on a down-stream task to be able to use it for predictions and inference.\n"
     ]
    },
    {
     "data": {
      "text/plain": [
       "BertForQuestionAnswering(\n",
       "  (bert): BertModel(\n",
       "    (embeddings): BertEmbeddings(\n",
       "      (word_embeddings): Embedding(30522, 768, padding_idx=0)\n",
       "      (position_embeddings): Embedding(512, 768)\n",
       "      (token_type_embeddings): Embedding(2, 768)\n",
       "      (LayerNorm): LayerNorm((768,), eps=1e-12, elementwise_affine=True)\n",
       "      (dropout): Dropout(p=0.1, inplace=False)\n",
       "    )\n",
       "    (encoder): BertEncoder(\n",
       "      (layer): ModuleList(\n",
       "        (0-11): 12 x BertLayer(\n",
       "          (attention): BertAttention(\n",
       "            (self): BertSdpaSelfAttention(\n",
       "              (query): Linear(in_features=768, out_features=768, bias=True)\n",
       "              (key): Linear(in_features=768, out_features=768, bias=True)\n",
       "              (value): Linear(in_features=768, out_features=768, bias=True)\n",
       "              (dropout): Dropout(p=0.1, inplace=False)\n",
       "            )\n",
       "            (output): BertSelfOutput(\n",
       "              (dense): Linear(in_features=768, out_features=768, bias=True)\n",
       "              (LayerNorm): LayerNorm((768,), eps=1e-12, elementwise_affine=True)\n",
       "              (dropout): Dropout(p=0.1, inplace=False)\n",
       "            )\n",
       "          )\n",
       "          (intermediate): BertIntermediate(\n",
       "            (dense): Linear(in_features=768, out_features=3072, bias=True)\n",
       "            (intermediate_act_fn): GELUActivation()\n",
       "          )\n",
       "          (output): BertOutput(\n",
       "            (dense): Linear(in_features=3072, out_features=768, bias=True)\n",
       "            (LayerNorm): LayerNorm((768,), eps=1e-12, elementwise_affine=True)\n",
       "            (dropout): Dropout(p=0.1, inplace=False)\n",
       "          )\n",
       "        )\n",
       "      )\n",
       "    )\n",
       "  )\n",
       "  (qa_outputs): Linear(in_features=768, out_features=2, bias=True)\n",
       ")"
      ]
     },
     "execution_count": 4,
     "metadata": {},
     "output_type": "execute_result"
    }
   ],
   "source": [
    "model_name = \"bert-base-uncased\"\n",
    "config = BertConfig.from_pretrained(\n",
    "    model_name,\n",
    "    hidden_dropout_prob=0.2,\n",
    "    attention_probs_dropout_prob=0.2\n",
    ")\n",
    "tokenizer = AutoTokenizer.from_pretrained(model_name)\n",
    "model = AutoModelForQuestionAnswering.from_pretrained(model_name)\n",
    "model.to(device)"
   ]
  },
  {
   "cell_type": "code",
   "execution_count": 5,
   "id": "aaaec0b7",
   "metadata": {},
   "outputs": [],
   "source": [
    "batch_size = 8\n",
    "eval_batch= 16\n",
    "epochs = 10\n",
    "learning_rate = 3e-5"
   ]
  },
  {
   "cell_type": "markdown",
   "id": "4e4a8b5c",
   "metadata": {},
   "source": [
    "### Pre-Process Data"
   ]
  },
  {
   "cell_type": "code",
   "execution_count": 6,
   "id": "0e768e50-9ee0-41ae-87d2-ecaa743a88ca",
   "metadata": {},
   "outputs": [],
   "source": [
    "max_len = 512    \n",
    "doc_stride = 128    \n",
    "pad_on_right = tokenizer.padding_side == \"right\""
   ]
  },
  {
   "cell_type": "code",
   "execution_count": 7,
   "id": "572c3f61",
   "metadata": {},
   "outputs": [],
   "source": [
    "def train_preprocess_fn(examples):\n",
    "    tokenized = tokenizer(\n",
    "        examples[\"question\"],\n",
    "        examples[\"context\"],\n",
    "        max_length=max_len,\n",
    "        truncation=\"only_second\" if pad_on_right else \"only_first\",\n",
    "        stride=doc_stride,\n",
    "        return_overflowing_tokens=True,\n",
    "        return_offsets_mapping=True,\n",
    "        padding=\"max_length\",\n",
    "    )\n",
    "    sample_map = tokenized.pop(\"overflow_to_sample_mapping\")\n",
    "    offset_map = tokenized.pop(\"offset_mapping\")\n",
    "\n",
    "    starts, ends = [], []\n",
    "    for i, offsets in enumerate(offset_map):\n",
    "        seq_ids = tokenized.sequence_ids(i)\n",
    "        example_i  = sample_map[i]\n",
    "        answer = examples[\"answers\"][example_i]\n",
    "\n",
    "        if not answer[\"answer_start\"]:\n",
    "            starts.append(0); ends.append(0)\n",
    "            continue\n",
    "\n",
    "        start_char= answer[\"answer_start\"][0]\n",
    "        end_char = start_char +len(answer[\"text\"][0])\n",
    "        ctx_idxs = [idx for idx, sid in enumerate(seq_ids) if sid == (1 if pad_on_right else 0)]\n",
    "        first_ctx, last_ctx = ctx_idxs[0], ctx_idxs[-1]\n",
    "\n",
    "        if not (offsets[first_ctx][0] <= start_char and offsets[last_ctx][1] >= end_char):\n",
    "            starts.append(0); ends.append(0)\n",
    "            continue\n",
    "\n",
    "        valid_starts = [idx for idx in ctx_idxs if offsets[idx][0] <= start_char]\n",
    "        valid_ends = [idx for idx in ctx_idxs if offsets[idx][1] >= end_char]\n",
    "        starts.append(max(valid_starts) if valid_starts else first_ctx)\n",
    "        ends.append(min(valid_ends) if valid_ends else last_ctx)\n",
    "\n",
    "    tokenized[\"start_positions\"] = starts\n",
    "    tokenized[\"end_positions\"]   = ends\n",
    "    return tokenized"
   ]
  },
  {
   "cell_type": "code",
   "execution_count": 8,
   "id": "51182e34",
   "metadata": {},
   "outputs": [
    {
     "data": {
      "application/vnd.jupyter.widget-view+json": {
       "model_id": "9709e206fe0a4d7c8924b8ae4046f1a0",
       "version_major": 2,
       "version_minor": 0
      },
      "text/plain": [
       "Map:   0%|          | 0/78839 [00:00<?, ? examples/s]"
      ]
     },
     "metadata": {},
     "output_type": "display_data"
    }
   ],
   "source": [
    "train_features = train_ds.map(train_preprocess_fn,batched=True,remove_columns=train_ds.column_names)\n",
    "train_loader = DataLoader(train_features, batch_size=batch_size,shuffle=True, collate_fn=default_data_collator)"
   ]
  },
  {
   "cell_type": "code",
   "execution_count": 9,
   "id": "62de6d61-ab95-4bcb-b37e-c90a942a51a3",
   "metadata": {},
   "outputs": [],
   "source": [
    "def eval_preprocess_fn(examples):\n",
    "    tokenized = tokenizer(\n",
    "        examples[\"question\"],\n",
    "        examples[\"context\"],\n",
    "        max_length=max_len,\n",
    "        truncation=\"only_second\" if pad_on_right else \"only_first\",\n",
    "        stride=doc_stride,\n",
    "        return_overflowing_tokens=True,\n",
    "        return_offsets_mapping=True,\n",
    "        padding=\"max_length\",\n",
    "    )\n",
    "    sample_map = tokenized[\"overflow_to_sample_mapping\"]\n",
    "    tokenized[\"example_id\"] = [examples[\"id\"][i] for i in sample_map]\n",
    "    return tokenized"
   ]
  },
  {
   "cell_type": "code",
   "execution_count": null,
   "id": "25f0540e-6ef2-4373-8d62-414ea64509bf",
   "metadata": {},
   "outputs": [
    {
     "data": {
      "application/vnd.jupyter.widget-view+json": {
       "model_id": "8d4b1cbd60f04a1ab4a188901ebdaa03",
       "version_major": 2,
       "version_minor": 0
      },
      "text/plain": [
       "Map:   0%|          | 0/8760 [00:00<?, ? examples/s]"
      ]
     },
     "metadata": {},
     "output_type": "display_data"
    },
    {
     "data": {
      "application/vnd.jupyter.widget-view+json": {
       "model_id": "b355ab62b662491293cd3f2e186e805e",
       "version_major": 2,
       "version_minor": 0
      },
      "text/plain": [
       "Map:   0%|          | 0/10570 [00:00<?, ? examples/s]"
      ]
     },
     "metadata": {},
     "output_type": "display_data"
    }
   ],
   "source": [
    "val_features = val_ds.map(eval_preprocess_fn, batched=True,remove_columns=val_ds.column_names)\n",
    "test_features = test_ds.map(eval_preprocess_fn, batched=True, remove_columns=test_ds.column_names)\n",
    "\n",
    "val_loader= DataLoader(val_features, batch_size=eval_batch,shuffle=False,collate_fn=default_data_collator)\n",
    "test_loader = DataLoader(test_features,batch_size=eval_batch,shuffle=False,collate_fn=default_data_collator)"
   ]
  },
  {
   "cell_type": "code",
   "execution_count": 11,
   "id": "1414e86b-4d70-467b-9c66-692a7513fb73",
   "metadata": {},
   "outputs": [
    {
     "data": {
      "application/vnd.jupyter.widget-view+json": {
       "model_id": "0f6167b5af7c4855b2ec99fb913cbda6",
       "version_major": 2,
       "version_minor": 0
      },
      "text/plain": [
       "Map:   0%|          | 0/8760 [00:00<?, ? examples/s]"
      ]
     },
     "metadata": {},
     "output_type": "display_data"
    }
   ],
   "source": [
    "val_labelled = val_ds.map(\n",
    "    train_preprocess_fn,\n",
    "    batched=True,\n",
    "    remove_columns=val_ds.column_names\n",
    ")\n",
    "val_labelled_loader = DataLoader(\n",
    "    val_labelled,batch_size=eval_batch, shuffle=False,\n",
    "    collate_fn=default_data_collator\n",
    ")"
   ]
  },
  {
   "cell_type": "markdown",
   "id": "b59f0643",
   "metadata": {},
   "source": [
    "## HyperParams"
   ]
  },
  {
   "cell_type": "code",
   "execution_count": 12,
   "id": "8fdf9032",
   "metadata": {},
   "outputs": [],
   "source": [
    "total_steps = len(train_loader) * epochs\n",
    "optim = AdamW(\n",
    "    model.parameters(),\n",
    "    lr=1e-5,                \n",
    "    weight_decay=0.01       \n",
    ")\n",
    "sched = get_linear_schedule_with_warmup(\n",
    "    optim,\n",
    "    num_warmup_steps=int(0.1 * total_steps),\n",
    "    num_training_steps=total_steps\n",
    ")\n",
    "gradient_accumulation_steps = 2 "
   ]
  },
  {
   "cell_type": "markdown",
   "id": "dbde073d",
   "metadata": {},
   "source": [
    "# Training"
   ]
  },
  {
   "cell_type": "code",
   "execution_count": 22,
   "id": "c47d5285",
   "metadata": {},
   "outputs": [],
   "source": [
    "history = {\n",
    "    \"train_loss\": [], \n",
    "    \"val_loss\": [],\n",
    "    \"val_em\": [],\n",
    "    \"val_f1\": []\n",
    "}\n",
    "best_val_loss = float(\"inf\")\n",
    "patience = 2\n",
    "stale = 0\n",
    "metric_squad = evaluate.load(\"squad\") "
   ]
  },
  {
   "cell_type": "code",
   "execution_count": null,
   "id": "57b4216c",
   "metadata": {},
   "outputs": [
    {
     "data": {
      "application/vnd.jupyter.widget-view+json": {
       "model_id": "af37ffc08a934555b7113f55b4255fc3",
       "version_major": 2,
       "version_minor": 0
      },
      "text/plain": [
       "[1] train:   0%|          | 0/9868 [00:00<?, ?it/s]"
      ]
     },
     "metadata": {},
     "output_type": "display_data"
    },
    {
     "data": {
      "application/vnd.jupyter.widget-view+json": {
       "model_id": "1a98fc05ec434f87816f1ea07aa1e68d",
       "version_major": 2,
       "version_minor": 0
      },
      "text/plain": [
       "[1] eval:   0%|          | 0/549 [00:00<?, ?it/s]"
      ]
     },
     "metadata": {},
     "output_type": "display_data"
    },
    {
     "data": {
      "application/vnd.jupyter.widget-view+json": {
       "model_id": "c4e6248530e54427ad65ca383e5fbc70",
       "version_major": 2,
       "version_minor": 0
      },
      "text/plain": [
       "  0%|          | 0/8760 [00:00<?, ?it/s]"
      ]
     },
     "metadata": {},
     "output_type": "display_data"
    },
    {
     "name": "stdout",
     "output_type": "stream",
     "text": [
      "Epoch  1 • train_loss=2.8606 • val_loss=1.2934 (EM=58.36, F1=73.12) • time=954.7s\n"
     ]
    },
    {
     "data": {
      "application/vnd.jupyter.widget-view+json": {
       "model_id": "7ec0e88470d84c10a4d5f766ab404580",
       "version_major": 2,
       "version_minor": 0
      },
      "text/plain": [
       "[2] train:   0%|          | 0/9868 [00:00<?, ?it/s]"
      ]
     },
     "metadata": {},
     "output_type": "display_data"
    },
    {
     "data": {
      "application/vnd.jupyter.widget-view+json": {
       "model_id": "6b72b450919546448a99a1edf7a9be3d",
       "version_major": 2,
       "version_minor": 0
      },
      "text/plain": [
       "[2] eval:   0%|          | 0/549 [00:00<?, ?it/s]"
      ]
     },
     "metadata": {},
     "output_type": "display_data"
    },
    {
     "data": {
      "application/vnd.jupyter.widget-view+json": {
       "model_id": "3b45a401a8d542dd8948b7e2c17668da",
       "version_major": 2,
       "version_minor": 0
      },
      "text/plain": [
       "  0%|          | 0/8760 [00:00<?, ?it/s]"
      ]
     },
     "metadata": {},
     "output_type": "display_data"
    },
    {
     "name": "stdout",
     "output_type": "stream",
     "text": [
      "Epoch  2 • train_loss=1.2151 • val_loss=1.0567 (EM=64.55, F1=78.76) • time=953.2s\n"
     ]
    },
    {
     "data": {
      "application/vnd.jupyter.widget-view+json": {
       "model_id": "a76b0927016a4e30966306fcba41dfec",
       "version_major": 2,
       "version_minor": 0
      },
      "text/plain": [
       "[3] train:   0%|          | 0/9868 [00:00<?, ?it/s]"
      ]
     },
     "metadata": {},
     "output_type": "display_data"
    },
    {
     "data": {
      "application/vnd.jupyter.widget-view+json": {
       "model_id": "a4de80ed26314515bf80c881d3d34863",
       "version_major": 2,
       "version_minor": 0
      },
      "text/plain": [
       "[3] eval:   0%|          | 0/549 [00:00<?, ?it/s]"
      ]
     },
     "metadata": {},
     "output_type": "display_data"
    },
    {
     "data": {
      "application/vnd.jupyter.widget-view+json": {
       "model_id": "736ea77d4daf48cf9ee59b671dd99e54",
       "version_major": 2,
       "version_minor": 0
      },
      "text/plain": [
       "  0%|          | 0/8760 [00:00<?, ?it/s]"
      ]
     },
     "metadata": {},
     "output_type": "display_data"
    },
    {
     "name": "stdout",
     "output_type": "stream",
     "text": [
      "Epoch  3 • train_loss=0.9345 • val_loss=0.9884 (EM=66.69, F1=80.42) • time=952.8s\n"
     ]
    },
    {
     "data": {
      "application/vnd.jupyter.widget-view+json": {
       "model_id": "19cb196f8afc4d3d98086a73db3c092d",
       "version_major": 2,
       "version_minor": 0
      },
      "text/plain": [
       "[4] train:   0%|          | 0/9868 [00:00<?, ?it/s]"
      ]
     },
     "metadata": {},
     "output_type": "display_data"
    },
    {
     "data": {
      "application/vnd.jupyter.widget-view+json": {
       "model_id": "594855b765b44d3893458d63e3f87ac1",
       "version_major": 2,
       "version_minor": 0
      },
      "text/plain": [
       "[4] eval:   0%|          | 0/549 [00:00<?, ?it/s]"
      ]
     },
     "metadata": {},
     "output_type": "display_data"
    },
    {
     "data": {
      "application/vnd.jupyter.widget-view+json": {
       "model_id": "978dfc101b1449fd84bf8c6fb67ab11f",
       "version_major": 2,
       "version_minor": 0
      },
      "text/plain": [
       "  0%|          | 0/8760 [00:00<?, ?it/s]"
      ]
     },
     "metadata": {},
     "output_type": "display_data"
    },
    {
     "name": "stdout",
     "output_type": "stream",
     "text": [
      "Epoch  4 • train_loss=0.7271 • val_loss=1.0600 (EM=67.37, F1=80.93) • time=952.7s\n"
     ]
    },
    {
     "data": {
      "application/vnd.jupyter.widget-view+json": {
       "model_id": "0f203dd45db64e468c14af8c74e49da4",
       "version_major": 2,
       "version_minor": 0
      },
      "text/plain": [
       "[5] train:   0%|          | 0/9868 [00:00<?, ?it/s]"
      ]
     },
     "metadata": {},
     "output_type": "display_data"
    },
    {
     "data": {
      "application/vnd.jupyter.widget-view+json": {
       "model_id": "80f7b9f756664df1adfe74600c0143e7",
       "version_major": 2,
       "version_minor": 0
      },
      "text/plain": [
       "[5] eval:   0%|          | 0/549 [00:00<?, ?it/s]"
      ]
     },
     "metadata": {},
     "output_type": "display_data"
    },
    {
     "data": {
      "application/vnd.jupyter.widget-view+json": {
       "model_id": "6c8575b1c83a453ea0e268e2e9b781af",
       "version_major": 2,
       "version_minor": 0
      },
      "text/plain": [
       "  0%|          | 0/8760 [00:00<?, ?it/s]"
      ]
     },
     "metadata": {},
     "output_type": "display_data"
    },
    {
     "name": "stdout",
     "output_type": "stream",
     "text": [
      "Stopping early at epoch 5 (no improvement in 2 epochs).\n",
      "\n",
      "Total training time: 3813.3s\n"
     ]
    }
   ],
   "source": [
    "total_time = 0.0\n",
    "for epoch in range(1, epochs + 1):\n",
    "    epoch_start = time.time()\n",
    "\n",
    "    # ─── TRAIN \n",
    "    model.train()\n",
    "    total_train_loss = 0.0\n",
    "\n",
    "    for step, batch in enumerate(tqdm(train_loader, desc=f\"[{epoch}] train\")):\n",
    "        batch = {k: v.to(device) for k, v in batch.items()}\n",
    "        outputs = model(**batch)\n",
    "        loss = outputs.loss / gradient_accumulation_steps\n",
    "        loss.backward()\n",
    "\n",
    "        if (step + 1) % gradient_accumulation_steps == 0 or (step + 1) == len(train_loader):\n",
    "            torch.nn.utils.clip_grad_norm_(model.parameters(), max_norm=1.0)\n",
    "            optim.step(); sched.step(); optim.zero_grad()\n",
    "\n",
    "        total_train_loss += loss.item()* gradient_accumulation_steps\n",
    "\n",
    "    avg_train = total_train_loss / len(train_loader)\n",
    "    history[\"train_loss\"].append(avg_train)\n",
    "\n",
    "    # ─── VALIDATION \n",
    "    model.eval()\n",
    "    metric_squad     = evaluate.load(\"squad\")\n",
    "    val_losses       = []\n",
    "    all_start_logits = []\n",
    "    all_end_logits   = []\n",
    "\n",
    "    for loss_batch, feat_batch in tqdm(zip(val_labelled_loader, val_loader),\n",
    "                                       total=len(val_loader),\n",
    "                                       desc=f\"[{epoch}] eval\"):\n",
    "        loss_inputs = {k: v.to(device) for k, v in loss_batch.items()}\n",
    "        with torch.no_grad():\n",
    "            out = model(**loss_inputs)\n",
    "        val_losses.append(out.loss.item())\n",
    "        all_start_logits.append(out.start_logits.cpu().numpy())\n",
    "        all_end_logits.append(out.end_logits.cpu().numpy())\n",
    "\n",
    "    avg_val = sum(val_losses) / len(val_losses)\n",
    "    history[\"val_loss\"].append(avg_val)\n",
    "    flat_start = np.concatenate(all_start_logits, axis=0)\n",
    "    flat_end   = np.concatenate(all_end_logits,   axis=0)\n",
    "    final_preds = postprocess_qa_predictions(\n",
    "        examples=val_ds,         \n",
    "        features=val_features,   \n",
    "        predictions=(flat_start, flat_end),\n",
    "        version_2_with_negative=False,\n",
    "        n_best_size=20,\n",
    "        max_answer_length=30,\n",
    "    )\n",
    "\n",
    "    # ─── COMPUTE EM/F1 \n",
    "    metric_squad.add_batch(\n",
    "        predictions=[{\"id\": eid, \"prediction_text\": text}\n",
    "                     for eid, text in final_preds.items()],\n",
    "        references=[{\"id\": ex[\"id\"], \"answers\": ex[\"answers\"]}\n",
    "                    for ex in val_ds]\n",
    "    )\n",
    "    res_val = metric_squad.compute()\n",
    "    history[\"val_em\"].append(res_val[\"exact_match\"])\n",
    "    history[\"val_f1\"].append(res_val[\"f1\"])\n",
    "\n",
    "    # ─── EARLY STOP / SAVE BEST \n",
    "    if avg_val < best_val_loss:\n",
    "        best_val_loss = avg_val; stale = 0\n",
    "        model.save_pretrained(\"best-bert-squad\")\n",
    "        tokenizer.save_pretrained(\"best-bert-squad\")\n",
    "    else:\n",
    "        stale +=1\n",
    "        if stale >= patience:\n",
    "            print(f\"Stopping early at epoch {epoch} (no improvement in {patience} epochs).\")\n",
    "            break\n",
    "\n",
    "    epoch_time =time.time() - epoch_start\n",
    "    total_time += epoch_time\n",
    "    print(\n",
    "        f\"Epoch {epoch:2d} | \"\n",
    "        f\"train_loss={avg_train:.4f} | \"\n",
    "        f\"val_loss={avg_val:.4f} \"\n",
    "        f\"(EM={res_val['exact_match']:.2f}, F1={res_val['f1']:.2f}) | \"\n",
    "        f\"time={epoch_time:.1f}s\"\n",
    "    )\n",
    "\n",
    "print(f\"\\nTotal training time: {total_time:.1f}s\")"
   ]
  },
  {
   "cell_type": "markdown",
   "id": "3960e4ff",
   "metadata": {},
   "source": [
    "## View Training Metrics"
   ]
  },
  {
   "cell_type": "code",
   "execution_count": 24,
   "id": "4690c287-067e-4ac1-84ac-433e872d6693",
   "metadata": {},
   "outputs": [
    {
     "data": {
      "image/png": "[encoded data removed]",
      "text/plain": [
       "<Figure size 640x480 with 1 Axes>"
      ]
     },
     "metadata": {},
     "output_type": "display_data"
    },
    {
     "data": {
      "image/png": "[encoded data removed]",
      "text/plain": [
       "<Figure size 640x480 with 1 Axes>"
      ]
     },
     "metadata": {},
     "output_type": "display_data"
    },
    {
     "data": {
      "image/png": "[encoded data removed]",
      "text/plain": [
       "<Figure size 640x480 with 1 Axes>"
      ]
     },
     "metadata": {},
     "output_type": "display_data"
    }
   ],
   "source": [
    "import matplotlib.pyplot as plt\n",
    "\n",
    "epochs_range = range(1, len(history[\"train_loss\"]) + 1)\n",
    "\n",
    "plt.figure()\n",
    "plt.plot(epochs_range, history[\"train_loss\"], label=\"Train Loss\")\n",
    "plt.plot(epochs_range, history[\"val_loss\"], label=\"Val Loss\")\n",
    "plt.xlabel(\"Epoch\")\n",
    "plt.ylabel(\"Loss\")\n",
    "plt.title(\"Loss over Epochs\")\n",
    "plt.legend()\n",
    "plt.savefig(\"loss_plot.png\")\n",
    "plt.show()\n",
    "\n",
    "plt.figure()\n",
    "plt.plot(epochs_range, history[\"val_em\"], label=\"Val Exact Match\")\n",
    "plt.xlabel(\"Epoch\")\n",
    "plt.ylabel(\"Exact Match (%)\")\n",
    "plt.title(\"Exact Match over Epochs\")\n",
    "plt.legend()\n",
    "plt.savefig(\"em_plot.png\")\n",
    "plt.show()\n",
    "\n",
    "plt.figure()\n",
    "plt.plot(epochs_range, history[\"val_f1\"], label=\"Val F1 Score\")\n",
    "plt.xlabel(\"Epoch\")\n",
    "plt.ylabel(\"F1 Score (%)\")\n",
    "plt.title(\"F1 Score over Epochs\")\n",
    "plt.legend()\n",
    "plt.savefig(\"f1_plot.png\")\n",
    "plt.show()"
   ]
  },
  {
   "cell_type": "markdown",
   "id": "e59e5990-a692-4e9b-b991-969c0640f457",
   "metadata": {},
   "source": [
    "## Test"
   ]
  },
  {
   "cell_type": "markdown",
   "id": "c945a15e-5d6f-4361-80c1-92aa56bb9ce6",
   "metadata": {},
   "source": [
    "### Load Saved Model"
   ]
  },
  {
   "cell_type": "code",
   "execution_count": 25,
   "id": "0eead424-5320-42c0-abf2-98c9746729a9",
   "metadata": {},
   "outputs": [],
   "source": [
    "model = AutoModelForQuestionAnswering.from_pretrained(\"best-bert-squad\").to(device)\n",
    "tokenizer = AutoTokenizer.from_pretrained(\"best-bert-squad\")"
   ]
  },
  {
   "cell_type": "code",
   "execution_count": 26,
   "id": "0fc6b4eb-fbfd-4c28-9495-93d109001a57",
   "metadata": {},
   "outputs": [],
   "source": [
    "import random"
   ]
  },
  {
   "cell_type": "markdown",
   "id": "9669f45c-ca29-435b-bf2f-b3826ad02328",
   "metadata": {},
   "source": [
    "### Visualize some Q/A"
   ]
  },
  {
   "cell_type": "code",
   "execution_count": 27,
   "id": "020ca34e-4900-46d8-b3d0-0289eb73bd58",
   "metadata": {},
   "outputs": [
    {
     "name": "stdout",
     "output_type": "stream",
     "text": [
      "\n",
      "Example #8036\n",
      "Q: What lab does the university have a joint stake in? \n",
      "\n",
      "The university operates 12 research institutes and 113 research centers on campus. Among these are the Oriental Institute—a museum and research center for Near Eastern studies owned and operated by th\n",
      "\n",
      "Predicted:\n",
      " Fermilab\n",
      "Ground-truth:\n",
      " ['Fermilab', 'Fermilab', 'Fermilab']\n",
      "\n",
      "\n",
      "Example #7500\n",
      "Q: What career does Joseph Stiglitz have?\n",
      "\n",
      "Economist Joseph Stiglitz argues that rather than explaining concentrations of wealth and income, market forces should serve as a brake on such concentration, which may better be explained by the non-\n",
      "\n",
      "Predicted:\n",
      " Economist\n",
      "Ground-truth:\n",
      " ['Economist', 'Economist', 'Economist']\n",
      "\n",
      "\n",
      "Example #8946\n",
      "Q: Which amino acids contain sulfur?\n",
      "\n",
      "Chloroplasts alone make almost all of a plant cell's amino acids in their stroma except the sulfur-containing ones like cysteine and methionine. Cysteine is made in the chloroplast (the proplastid too\n",
      "\n",
      "Predicted:\n",
      " cysteine and methionine\n",
      "Ground-truth:\n",
      " ['cysteine and methionine', 'cysteine and methionine', 'cysteine and methionine']\n",
      "\n",
      "\n",
      "Example #3766\n",
      "Q: Which country rationed gasoline and heating gas?\n",
      "\n",
      "Despite being relatively unaffected by the embargo, the UK nonetheless faced an oil crisis of its own - a series of strikes by coal miners and railroad workers over the winter of 1973–74 became a majo\n",
      "\n",
      "Predicted:\n",
      " Sweden\n",
      "Ground-truth:\n",
      " ['Sweden', 'Sweden', 'Sweden', 'Sweden', 'Sweden']\n",
      "\n",
      "\n",
      "Example #8881\n",
      "Q: What are phycobilisomes?\n",
      "\n",
      "Phycobilins are a third group of pigments found in cyanobacteria, and glaucophyte, red algal, and cryptophyte chloroplasts. Phycobilins come in all colors, though phycoerytherin is one of the pigments\n",
      "\n",
      "Predicted:\n",
      " relatively large protein complexes\n",
      "Ground-truth:\n",
      " ['relatively large protein complexes', 'large protein complexes', 'large protein complexes']\n",
      "\n"
     ]
    }
   ],
   "source": [
    "model.eval()\n",
    "\n",
    "n_show = 5\n",
    "indices = random.sample(range(len(test_ds)), n_show)\n",
    "\n",
    "for idx in indices:\n",
    "    example = test_ds[idx]\n",
    "    question = example[\"question\"]\n",
    "    context = example[\"context\"]\n",
    "    answers = example[\"answers\"][\"text\"]  #ground-truth answers\n",
    "\n",
    "    # tokenize\n",
    "    inputs = tokenizer(\n",
    "        question,\n",
    "        context,\n",
    "        return_tensors=\"pt\",\n",
    "        max_length=512,\n",
    "        truncation=True,\n",
    "        return_offsets_mapping=True,\n",
    "    ).to(device)\n",
    "\n",
    "    with torch.no_grad():\n",
    "        outs = model(**{k: v for k, v in inputs.items() if k in (\"input_ids\",\"attention_mask\",\"token_type_ids\")})\n",
    "\n",
    "    start_logits = outs.start_logits[0].cpu()\n",
    "    end_logits= outs.end_logits[0].cpu()\n",
    "    offset_map = inputs[\"offset_mapping\"][0].cpu()\n",
    "\n",
    "    start_idx = torch.argmax(start_logits)\n",
    "    end_idx= torch.argmax(end_logits)\n",
    "\n",
    "    char_start = offset_map[start_idx][0].item()\n",
    "    char_end = offset_map[end_idx][1].item()\n",
    "\n",
    "    pred_answer = context[char_start:char_end]\n",
    "\n",
    "    print(f\"\\nExample #{idx}\")\n",
    "    print(f\"Q: {question}\")\n",
    "    print(f\"\\n{context[:200].replace(chr(10),' ')}\")  \n",
    "    print(f\"\\nPredicted:\\n {pred_answer}\")\n",
    "    print(f\"Ground-truth:\\n {answers}\\n\")"
   ]
  },
  {
   "cell_type": "markdown",
   "id": "14bb3275-cbd6-40cd-989a-c1b5cb7a29c1",
   "metadata": {},
   "source": [
    "### Custom Q/A over the Magna Carta"
   ]
  },
  {
   "cell_type": "code",
   "execution_count": 28,
   "id": "6dc77726-6ec5-44f3-b826-42cc03bb203c",
   "metadata": {},
   "outputs": [
    {
     "name": "stdout",
     "output_type": "stream",
     "text": [
      "Q: What is the importance of the Magna Carta?\n",
      "Predicted: \n",
      " protection of church rights\n",
      "Q: When was the magna carta written?\n",
      "Predicted: \n",
      " 15 June 1215\n",
      "Q: Who wrote the magna carta?\n",
      "Predicted: \n",
      " Cardinal Stephen Langton\n",
      "Q: Who was the ruler of England when the magna carta was written?\n",
      "Predicted: \n",
      " King John of England\n",
      "Q: Who tried to supress the magna carta?\n",
      "Predicted: \n",
      " Pope Innocent III\n",
      "Q: Who was inspired by the Magna Carta?\n",
      "Predicted: \n",
      " Pope Innocent III\n"
     ]
    }
   ],
   "source": [
    "model.eval()\n",
    "\n",
    "questions = [\"What is the importance of the Magna Carta?\", \"When was the magna carta written?\", \n",
    "             \"Who wrote the magna carta?\", \"Who was the ruler of England when the magna carta was written?\",\n",
    "            \"Who tried to supress the magna carta?\", \"Who was inspired by the Magna Carta?\"\n",
    "            ]\n",
    "context  = \"Magna Carta Libertatum (Medieval Latin for Great Charter of Freedoms), commonly called Magna Carta or sometimes Magna Charta (Great Charter),[a] is a royal charter[4][5] of rights agreed to by King John of England at Runnymede, near Windsor, on 15 June 1215.[b] First drafted by the Archbishop of Canterbury, Cardinal Stephen Langton, to make peace between the unpopular king and a group of rebel barons who demanded that the King confirm the Charter of Liberties, it promised the protection of church rights, protection for the barons from illegal imprisonment, access to swift and impartial justice, and limitations on feudal payments to the Crown, to be implemented through a council of 25 barons. Neither side stood by their commitments, and the charter was annulled by Pope Innocent III, leading to the First Barons War. After Johns death, the regency government of his young son, Henry III, reissued the document in 1216, stripped of some of its more radical content, in an unsuccessful bid to build political support for their cause. At the end of the war in 1217, it formed part of the peace treaty agreed at Lambeth, where the document acquired the name Magna Carta, to distinguish it from the smaller Charter of the Forest, which was issued at the same time. Short of funds, Henry reissued the charter again in 1225 in exchange for a grant of new taxes. His son, Edward I, repeated the exercise in 1297, this time confirming it as part of Englands statute law. However, Magna Carta was not unique; other legal documents of its time, both in England and beyond, made broadly similar statements of rights and limitations on the powers of the Crown. The charter became part of English political life and was typically renewed by each monarch in turn, although as time went by and the fledgling Parliament of England passed new laws, it lost some of its practical significance. At the end of the 16th century, there was an upsurge in interest in Magna Carta. Lawyers and historians at the time believed that there was an ancient English constitution, going back to the days of the Anglo-Saxons, that protected individual English freedoms. They argued that the Norman invasion of 1066 had overthrown these rights and that Magna Carta had been a popular attempt to restore them, making the charter an essential foundation for the contemporary powers of Parliament and legal principles such as habeas corpus.  It influenced the early American colonists in the Thirteen Colonies and the formation of the United States Constitution, which became the supreme law of the land in the new republic of the United States. Research by Victorian historians showed that the original 1215 charter had concerned the medieval relationship between the monarch and the barons, and not ordinary subjects. Despite the changes in views of historians, the charter has remained a powerful, iconic document, even after almost all of its content was repealed from the statute books in the 19th and 20th centuries. Magna Carta still forms an important symbol of liberty today, often cited by politicians and campaigners, and is held in great respect by the British and American legal communities, Lord Denning describing it in 1956 as the greatest constitutional document of all times—the foundation of the freedom of the individual against the arbitrary authority of the despot. In the 21st century, four exemplifications of the original 1215 charter remain in existence, two at the British Library, one at Lincoln Castle and one at Salisbury Cathedral. There are also a handful of the subsequent charters in public and private ownership, including copies of the 1297 charter in both the United States and Australia. The 800th anniversary of Magna Carta in 2015 included extensive celebrations and discussions, and the four original 1215 charters were displayed together at the British Library. None of the original 1215 Magna Carta is currently in force since it has been repealed; however, four clauses of the original charter are enshrined in the 1297 reissued Magna Carta and do still remain in force in England and Wales.[c]\"\n",
    "\n",
    "for question in questions:\n",
    "    # tokenize\n",
    "    inputs = tokenizer(\n",
    "        question,\n",
    "        context,\n",
    "        return_tensors=\"pt\",\n",
    "        max_length=512,\n",
    "        truncation=True,\n",
    "        return_offsets_mapping=True,\n",
    "    ).to(device)\n",
    "    \n",
    "    with torch.no_grad():\n",
    "        outs = model(**{k: v for k, v in inputs.items() if k in (\"input_ids\",\"attention_mask\",\"token_type_ids\")})\n",
    "    \n",
    "    start_logits = outs.start_logits[0].cpu()\n",
    "    end_logits   = outs.end_logits[0].cpu()\n",
    "    offset_map   = inputs[\"offset_mapping\"][0].cpu()\n",
    "    \n",
    "    start_idx = torch.argmax(start_logits)\n",
    "    end_idx   = torch.argmax(end_logits)\n",
    "    \n",
    "    char_start = offset_map[start_idx][0].item()\n",
    "    char_end   = offset_map[end_idx][1].item()\n",
    "    \n",
    "    pred_answer = context[char_start:char_end]\n",
    "    \n",
    "    print(f\"Q: {question}\")\n",
    "    #print(f\"Context: \\n {context[:200].replace(chr(10),' ')}...\")  \n",
    "    print(f\"Predicted: \\n {pred_answer}\")"
   ]
  },
  {
   "cell_type": "code",
   "execution_count": 29,
   "id": "1d8ae3e3-1c66-4050-99ac-da7455d908fe",
   "metadata": {},
   "outputs": [],
   "source": [
    "from transformers import PreTrainedTokenizerFast\n",
    "\n",
    "def eval_preprocess_fn(examples):\n",
    "    tokenized = tokenizer(\n",
    "        examples[\"question\"],\n",
    "        examples[\"context\"],\n",
    "        max_length=max_len,\n",
    "        truncation=\"only_second\",\n",
    "        stride=doc_stride,\n",
    "        return_overflowing_tokens=True,\n",
    "        return_offsets_mapping=True,\n",
    "        padding=\"max_length\",\n",
    "    )\n",
    "\n",
    "    sample_map = tokenized.pop(\"overflow_to_sample_mapping\")\n",
    "    offset_map = tokenized.pop(\"offset_mapping\")\n",
    "    tokenized[\"example_id\"]  = []\n",
    "    tokenized[\"offset_mapping\"] = []\n",
    "\n",
    "    for i, sample_idx in enumerate(sample_map):\n",
    "        tokenized[\"example_id\"].append(examples[\"id\"][sample_idx])\n",
    "        seq_ids = tokenized.sequence_ids(i)\n",
    "        offsets = [\n",
    "            off if seq_ids[k] == 1 else None\n",
    "            for k, off in enumerate(offset_map[i])\n",
    "        ]\n",
    "        tokenized[\"offset_mapping\"].append(offsets)\n",
    "    return tokenized"
   ]
  },
  {
   "cell_type": "markdown",
   "id": "b840a0ba",
   "metadata": {},
   "source": [
    "# Compute Final Metrics on Test Data"
   ]
  },
  {
   "cell_type": "code",
   "execution_count": 30,
   "id": "3903b188-6c6b-42f3-a859-86f496567d21",
   "metadata": {},
   "outputs": [
    {
     "name": "stderr",
     "output_type": "stream",
     "text": [
      "Device set to use cuda:0\n",
      "You seem to be using the pipelines sequentially on GPU. In order to maximize efficiency please use a dataset\n"
     ]
    },
    {
     "name": "stdout",
     "output_type": "stream",
     "text": [
      "Exact Match: 78.81%\n",
      "F1 : 86.77%\n"
     ]
    }
   ],
   "source": [
    "from transformers import pipeline, AutoModelForQuestionAnswering, AutoTokenizer\n",
    "import evaluate\n",
    "\n",
    "qa = pipeline(\"question-answering\", model=model, tokenizer=tokenizer, device=0)\n",
    "\n",
    "metric = evaluate.load(\"squad\")  \n",
    "\n",
    "predictions, references = [], []\n",
    "for ex in test_ds:\n",
    "    out = qa(question=ex[\"question\"], context=ex[\"context\"])\n",
    "    predictions.append({\"id\": ex[\"id\"], \"prediction_text\": out[\"answer\"]})\n",
    "    references.append({\"id\": ex[\"id\"], \"answers\": ex[\"answers\"]})\n",
    "\n",
    "results = metric.compute(predictions=predictions, references=references)\n",
    "print(f\"Exact Match: {results['exact_match']:.2f}%\")\n",
    "print(f\"F1 : {results['f1']:.2f}%\")"
   ]
  },
  {
   "cell_type": "code",
   "execution_count": null,
   "id": "a2080936-40f5-4488-bc3f-43665e43598d",
   "metadata": {},
   "outputs": [],
   "source": []
  }
 ],
 "metadata": {
  "kernelspec": {
   "display_name": "Python3 (ipykernel)",
   "language": "python",
   "name": "python3"
  },
  "language_info": {
   "codemirror_mode": {
    "name": "ipython",
    "version": 3
   },
   "file_extension": ".py",
   "mimetype": "text/x-python",
   "name": "python",
   "nbconvert_exporter": "python",
   "pygments_lexer": "ipython3",
   "version": "3.10.12"
  }
 },
 "nbformat": 4,
 "nbformat_minor": 5
}
